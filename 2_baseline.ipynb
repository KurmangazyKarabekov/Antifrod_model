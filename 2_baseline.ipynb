{
 "cells": [
  {
   "cell_type": "code",
   "execution_count": 95,
   "metadata": {},
   "outputs": [],
   "source": [
    "from datetime import datetime\n",
    "\n",
    "import polars as pl\n",
    "import numpy as np\n",
    "import pandas as pd\n",
    "\n",
    "import seaborn as sns\n",
    "import matplotlib.pyplot as plt\n",
    "\n",
    "from utils import lift_metric_plot\n",
    "\n",
    "from catboost import CatBoostClassifier, Pool\n",
    "from sklearn.model_selection import train_test_split\n",
    "from sklearn.metrics import classification_report, roc_auc_score, confusion_matrix"
   ]
  },
  {
   "cell_type": "code",
   "execution_count": 58,
   "metadata": {},
   "outputs": [],
   "source": [
    "pl_data = pl.read_csv(\"/Users/kurmangazykarabekov/Desktop/собесы/12Go Asia/data.csv\")"
   ]
  },
  {
   "cell_type": "code",
   "execution_count": 59,
   "metadata": {},
   "outputs": [
    {
     "data": {
      "text/html": [
       "<div><style>\n",
       ".dataframe > thead > tr,\n",
       ".dataframe > tbody > tr {\n",
       "  text-align: right;\n",
       "  white-space: pre-wrap;\n",
       "}\n",
       "</style>\n",
       "<small>shape: (5, 29)</small><table border=\"1\" class=\"dataframe\"><thead><tr><th>bid</th><th>channel</th><th>createdon</th><th>cust_name</th><th>date_of_birth</th><th>email</th><th>email_domain_score</th><th>email_score</th><th>godate</th><th>insurance_flg</th><th>ip</th><th>isFraud</th><th>nationality</th><th>netprice_thb</th><th>p_attempts</th><th>paidon</th><th>passenger_passport_score</th><th>passenger_score</th><th>payer_country</th><th>payer_name</th><th>proxy</th><th>recent_abuse</th><th>role_id</th><th>seats</th><th>tor</th><th>useragent</th><th>usr_name</th><th>vehclass_id</th><th>vpn</th></tr><tr><td>i64</td><td>str</td><td>str</td><td>str</td><td>str</td><td>str</td><td>f64</td><td>f64</td><td>str</td><td>i64</td><td>str</td><td>i64</td><td>str</td><td>f64</td><td>i64</td><td>str</td><td>f64</td><td>f64</td><td>str</td><td>str</td><td>f64</td><td>f64</td><td>str</td><td>i64</td><td>f64</td><td>str</td><td>str</td><td>str</td><td>f64</td></tr></thead><tbody><tr><td>6524445</td><td>&quot;affiliate&quot;</td><td>&quot;2021-05-01 00:…</td><td>&quot;Tiffany Stephe…</td><td>&quot;1999-07-04&quot;</td><td>&quot;ryanbrianna@ou…</td><td>0.0</td><td>10.0</td><td>&quot;2021-07-01 07:…</td><td>0</td><td>&quot;213.89.6.2&quot;</td><td>0</td><td>&quot;SE&quot;</td><td>115.0</td><td>0</td><td>&quot;2021-06-29 16:…</td><td>0.0</td><td>0.0</td><td>&quot;SE&quot;</td><td>&quot;Tiffany Stephe…</td><td>null</td><td>null</td><td>&quot;user&quot;</td><td>1</td><td>null</td><td>&quot;Phone,sv,SEK&quot;</td><td>&quot;Tiffany Stephe…</td><td>&quot;van&quot;</td><td>null</td></tr><tr><td>5800338</td><td>&quot;affiliate&quot;</td><td>&quot;2021-05-01 00:…</td><td>&quot;Amanda Cooper&quot;</td><td>&quot;2002-06-07&quot;</td><td>&quot;dustin85@gmail…</td><td>0.0</td><td>10.0</td><td>&quot;2021-05-29 13:…</td><td>1</td><td>&quot;124.106.133.17…</td><td>0</td><td>&quot;TH&quot;</td><td>985.180176</td><td>0</td><td>&quot;2021-05-25 03:…</td><td>0.0</td><td>0.0</td><td>&quot;NU&quot;</td><td>null</td><td>0.0</td><td>0.0</td><td>&quot;user&quot;</td><td>1</td><td>0.0</td><td>&quot;Phone,en,PHP&quot;</td><td>&quot;Amanda Cooper&quot;</td><td>&quot;avia&quot;</td><td>0.0</td></tr><tr><td>7897646</td><td>&quot;direct&quot;</td><td>&quot;2021-05-01 01:…</td><td>&quot;Victoria Corte…</td><td>null</td><td>&quot;johnny40@gmail…</td><td>0.0</td><td>2.0</td><td>&quot;2021-05-10 10:…</td><td>1</td><td>&quot;183.88.101.237…</td><td>0</td><td>&quot;TH&quot;</td><td>2400.0</td><td>7</td><td>&quot;2021-05-05 18:…</td><td>0.0</td><td>0.0</td><td>&quot;CH&quot;</td><td>&quot;Victoria Corte…</td><td>null</td><td>null</td><td>&quot;user&quot;</td><td>2</td><td>null</td><td>&quot;Phone,de,THB&quot;</td><td>&quot;Victoria Corte…</td><td>&quot;avia&quot;</td><td>null</td></tr><tr><td>7644834</td><td>&quot;direct&quot;</td><td>&quot;2021-05-01 01:…</td><td>&quot;Victoria Corte…</td><td>&quot;1995-08-02&quot;</td><td>&quot;johnny40@gmail…</td><td>0.0</td><td>2.0</td><td>&quot;2021-05-10 12:…</td><td>1</td><td>&quot;183.88.101.237…</td><td>0</td><td>&quot;TH&quot;</td><td>410.0</td><td>2</td><td>&quot;2021-05-06 04:…</td><td>0.0</td><td>0.0</td><td>&quot;CH&quot;</td><td>&quot;Victoria Corte…</td><td>null</td><td>null</td><td>&quot;user&quot;</td><td>2</td><td>null</td><td>&quot;Phone,de,THB&quot;</td><td>&quot;Victoria Corte…</td><td>&quot;bus&quot;</td><td>null</td></tr><tr><td>7462960</td><td>null</td><td>&quot;2021-05-01 01:…</td><td>&quot;Francisco Wagn…</td><td>&quot;1989-01-16&quot;</td><td>&quot;margaretcastan…</td><td>0.0</td><td>5.0</td><td>&quot;2021-05-02 10:…</td><td>1</td><td>&quot;183.171.184.14…</td><td>0</td><td>&quot;TH&quot;</td><td>573.537903</td><td>0</td><td>&quot;2021-04-27 17:…</td><td>0.0</td><td>0.0</td><td>&quot;NU&quot;</td><td>null</td><td>0.0</td><td>0.0</td><td>&quot;user&quot;</td><td>1</td><td>0.0</td><td>&quot;Phone,en,MYR&quot;</td><td>&quot;Francisco Wagn…</td><td>&quot;train&quot;</td><td>0.0</td></tr></tbody></table></div>"
      ],
      "text/plain": [
       "shape: (5, 29)\n",
       "┌─────────┬───────────┬─────────────┬────────────┬───┬────────────┬────────────┬────────────┬──────┐\n",
       "│ bid     ┆ channel   ┆ createdon   ┆ cust_name  ┆ … ┆ useragent  ┆ usr_name   ┆ vehclass_i ┆ vpn  │\n",
       "│ ---     ┆ ---       ┆ ---         ┆ ---        ┆   ┆ ---        ┆ ---        ┆ d          ┆ ---  │\n",
       "│ i64     ┆ str       ┆ str         ┆ str        ┆   ┆ str        ┆ str        ┆ ---        ┆ f64  │\n",
       "│         ┆           ┆             ┆            ┆   ┆            ┆            ┆ str        ┆      │\n",
       "╞═════════╪═══════════╪═════════════╪════════════╪═══╪════════════╪════════════╪════════════╪══════╡\n",
       "│ 6524445 ┆ affiliate ┆ 2021-05-01  ┆ Tiffany    ┆ … ┆ Phone,sv,S ┆ Tiffany    ┆ van        ┆ null │\n",
       "│         ┆           ┆ 00:21:17+07 ┆ Stephenson ┆   ┆ EK         ┆ Stephenson ┆            ┆      │\n",
       "│         ┆           ┆ :00         ┆            ┆   ┆            ┆            ┆            ┆      │\n",
       "│ 5800338 ┆ affiliate ┆ 2021-05-01  ┆ Amanda     ┆ … ┆ Phone,en,P ┆ Amanda     ┆ avia       ┆ 0.0  │\n",
       "│         ┆           ┆ 00:30:19+07 ┆ Cooper     ┆   ┆ HP         ┆ Cooper     ┆            ┆      │\n",
       "│         ┆           ┆ :00         ┆            ┆   ┆            ┆            ┆            ┆      │\n",
       "│ 7897646 ┆ direct    ┆ 2021-05-01  ┆ Victoria   ┆ … ┆ Phone,de,T ┆ Victoria   ┆ avia       ┆ null │\n",
       "│         ┆           ┆ 01:09:12+07 ┆ Cortez     ┆   ┆ HB         ┆ Cortez     ┆            ┆      │\n",
       "│         ┆           ┆ :00         ┆            ┆   ┆            ┆            ┆            ┆      │\n",
       "│ 7644834 ┆ direct    ┆ 2021-05-01  ┆ Victoria   ┆ … ┆ Phone,de,T ┆ Victoria   ┆ bus        ┆ null │\n",
       "│         ┆           ┆ 01:29:33+07 ┆ Cortez     ┆   ┆ HB         ┆ Cortez     ┆            ┆      │\n",
       "│         ┆           ┆ :00         ┆            ┆   ┆            ┆            ┆            ┆      │\n",
       "│ 7462960 ┆ null      ┆ 2021-05-01  ┆ Francisco  ┆ … ┆ Phone,en,M ┆ Francisco  ┆ train      ┆ 0.0  │\n",
       "│         ┆           ┆ 01:36:36+07 ┆ Wagner     ┆   ┆ YR         ┆ Wagner     ┆            ┆      │\n",
       "│         ┆           ┆ :00         ┆            ┆   ┆            ┆            ┆            ┆      │\n",
       "└─────────┴───────────┴─────────────┴────────────┴───┴────────────┴────────────┴────────────┴──────┘"
      ]
     },
     "execution_count": 59,
     "metadata": {},
     "output_type": "execute_result"
    }
   ],
   "source": [
    "pl_data.head(5)"
   ]
  },
  {
   "cell_type": "code",
   "execution_count": 60,
   "metadata": {},
   "outputs": [
    {
     "data": {
      "text/plain": [
       "(3464222, 29)"
      ]
     },
     "execution_count": 60,
     "metadata": {},
     "output_type": "execute_result"
    }
   ],
   "source": [
    "pl_data.shape"
   ]
  },
  {
   "cell_type": "code",
   "execution_count": 61,
   "metadata": {},
   "outputs": [
    {
     "data": {
      "text/plain": [
       "isFraud\n",
       "0    0.997741\n",
       "1    0.002259\n",
       "Name: proportion, dtype: float64"
      ]
     },
     "execution_count": 61,
     "metadata": {},
     "output_type": "execute_result"
    }
   ],
   "source": [
    "pl_data[\"isFraud\"].to_pandas().value_counts(normalize=True)"
   ]
  },
  {
   "cell_type": "markdown",
   "metadata": {},
   "source": [
    "**Convert date**"
   ]
  },
  {
   "cell_type": "code",
   "execution_count": 62,
   "metadata": {},
   "outputs": [
    {
     "name": "stderr",
     "output_type": "stream",
     "text": [
      "/var/folders/l9/p8dmtkcx40g8jtfzctxzg4km0000gn/T/ipykernel_72271/3921864125.py:21: ChronoFormatWarning: Detected the pattern `.%f` in the chrono format string. This pattern should not be used to parse values after a decimal point. Use `%.f` instead. See the full specification: https://docs.rs/chrono/latest/chrono/format/strftime\n",
      "  pl.col(\"paidon\").str.strptime(\n"
     ]
    }
   ],
   "source": [
    "pl_data = (\n",
    "    pl_data.with_columns(\n",
    "        pl.col(\"createdon\").str.strptime(\n",
    "            pl.Datetime,\n",
    "            format=\"%Y-%m-%d %H:%M:%S%z\",\n",
    "        )\n",
    "    )\n",
    "    .with_columns(\n",
    "        pl.col(\"date_of_birth\").str.strptime(\n",
    "            pl.Datetime,\n",
    "            format=\"%Y-%m-%d\",\n",
    "        )\n",
    "    )\n",
    "    .with_columns(\n",
    "        pl.col(\"godate\").str.strptime(\n",
    "            pl.Datetime,\n",
    "            format=\"%Y-%m-%d %H:%M:%S%z\",\n",
    "        )\n",
    "    )\n",
    "    .with_columns(\n",
    "        pl.col(\"paidon\").str.strptime(\n",
    "            pl.Datetime, format=\"%Y-%m-%d %H:%M:%S.%f%z\", strict=False\n",
    "        )\n",
    "    )\n",
    ")"
   ]
  },
  {
   "cell_type": "code",
   "execution_count": 63,
   "metadata": {},
   "outputs": [],
   "source": [
    "pl_data = pl_data.sort(\"createdon\", descending=False)"
   ]
  },
  {
   "cell_type": "code",
   "execution_count": 64,
   "metadata": {},
   "outputs": [
    {
     "data": {
      "text/html": [
       "<div><style>\n",
       ".dataframe > thead > tr,\n",
       ".dataframe > tbody > tr {\n",
       "  text-align: right;\n",
       "  white-space: pre-wrap;\n",
       "}\n",
       "</style>\n",
       "<small>shape: (5, 29)</small><table border=\"1\" class=\"dataframe\"><thead><tr><th>bid</th><th>channel</th><th>createdon</th><th>cust_name</th><th>date_of_birth</th><th>email</th><th>email_domain_score</th><th>email_score</th><th>godate</th><th>insurance_flg</th><th>ip</th><th>isFraud</th><th>nationality</th><th>netprice_thb</th><th>p_attempts</th><th>paidon</th><th>passenger_passport_score</th><th>passenger_score</th><th>payer_country</th><th>payer_name</th><th>proxy</th><th>recent_abuse</th><th>role_id</th><th>seats</th><th>tor</th><th>useragent</th><th>usr_name</th><th>vehclass_id</th><th>vpn</th></tr><tr><td>i64</td><td>str</td><td>datetime[μs, UTC]</td><td>str</td><td>datetime[μs]</td><td>str</td><td>f64</td><td>f64</td><td>datetime[μs, UTC]</td><td>i64</td><td>str</td><td>i64</td><td>str</td><td>f64</td><td>i64</td><td>datetime[ns, UTC]</td><td>f64</td><td>f64</td><td>str</td><td>str</td><td>f64</td><td>f64</td><td>str</td><td>i64</td><td>f64</td><td>str</td><td>str</td><td>str</td><td>f64</td></tr></thead><tbody><tr><td>8417836</td><td>&quot;direct&quot;</td><td>2023-03-08 15:04:01 UTC</td><td>&quot;Karen Huang&quot;</td><td>1994-09-25 00:00:00</td><td>&quot;craig06@gmail.…</td><td>0.0</td><td>10.0</td><td>2023-03-09 13:42:00 UTC</td><td>1</td><td>&quot;184.22.9.229&quot;</td><td>0</td><td>&quot;TH&quot;</td><td>889.0</td><td>0</td><td>2023-03-04 11:24:22.000194589 UTC</td><td>0.0</td><td>0.0</td><td>&quot;JP&quot;</td><td>&quot;KAREN HUANG&quot;</td><td>null</td><td>null</td><td>&quot;user&quot;</td><td>3</td><td>null</td><td>&quot;Phone,jp,JPY&quot;</td><td>&quot;Karen Huang&quot;</td><td>&quot;train&quot;</td><td>null</td></tr><tr><td>7380247</td><td>&quot;referral&quot;</td><td>2023-10-12 05:26:54 UTC</td><td>&quot;Jill Davis&quot;</td><td>1998-07-29 00:00:00</td><td>&quot;eperry@hotmail…</td><td>0.0</td><td>2.0</td><td>2023-10-13 13:00:00 UTC</td><td>0</td><td>&quot;183.182.122.55…</td><td>0</td><td>&quot;TH&quot;</td><td>550.149963</td><td>0</td><td>2023-10-10 12:58:58.000974713 UTC</td><td>0.0</td><td>0.0</td><td>&quot;GB&quot;</td><td>&quot;JILL DAVIS&quot;</td><td>0.0</td><td>0.0</td><td>&quot;user&quot;</td><td>1</td><td>0.0</td><td>&quot;Desktop,fr,GBP…</td><td>&quot;Jill Davis&quot;</td><td>&quot;bus&quot;</td><td>0.0</td></tr><tr><td>8177159</td><td>&quot;organic&quot;</td><td>2023-01-01 07:26:12 UTC</td><td>&quot;Ashley Carson&quot;</td><td>1999-04-13 00:00:00</td><td>&quot;carmenglass@gm…</td><td>0.0</td><td>0.0</td><td>2023-01-01 13:00:00 UTC</td><td>1</td><td>&quot;1.46.148.24&quot;</td><td>0</td><td>&quot;TH&quot;</td><td>680.0</td><td>0</td><td>2022-12-30 16:37:35.000999153 UTC</td><td>0.0</td><td>0.0</td><td>&quot;TH&quot;</td><td>&quot;Ashley Carson&quot;</td><td>null</td><td>null</td><td>&quot;user&quot;</td><td>1</td><td>null</td><td>&quot;Phone,th,THB&quot;</td><td>&quot;Ashley Carson&quot;</td><td>&quot;bus&quot;</td><td>null</td></tr><tr><td>6890863</td><td>&quot;paid&quot;</td><td>2023-02-28 15:10:15 UTC</td><td>&quot;Morgan Huffman…</td><td>1990-10-15 00:00:00</td><td>&quot;mosleymiranda@…</td><td>0.0</td><td>10.0</td><td>2023-03-03 01:30:00 UTC</td><td>0</td><td>&quot;175.176.75.19&quot;</td><td>0</td><td>&quot;FR&quot;</td><td>189.982056</td><td>0</td><td>2023-02-27 04:23:07.000389858 UTC</td><td>0.0</td><td>0.0</td><td>&quot;NU&quot;</td><td>null</td><td>0.0</td><td>0.0</td><td>&quot;user&quot;</td><td>2</td><td>0.0</td><td>&quot;Phone,fr,PHP&quot;</td><td>&quot;Teresa Frank&quot;</td><td>&quot;bus&quot;</td><td>0.0</td></tr><tr><td>5929666</td><td>&quot;affiliate&quot;</td><td>2023-01-23 15:30:12 UTC</td><td>&quot;Michael Le&quot;</td><td>1988-07-11 00:00:00</td><td>&quot;robertfitzgera…</td><td>0.0</td><td>2.0</td><td>2023-01-25 13:30:00 UTC</td><td>1</td><td>&quot;49.237.10.166&quot;</td><td>0</td><td>&quot;GB&quot;</td><td>924.0</td><td>0</td><td>2023-01-22 04:27:45.000331584 UTC</td><td>0.0</td><td>0.0</td><td>&quot;GB&quot;</td><td>&quot;MICHAEL LE&quot;</td><td>1.0</td><td>0.0</td><td>&quot;user&quot;</td><td>1</td><td>0.0</td><td>&quot;Phone,en,GBP&quot;</td><td>&quot;Michael Le&quot;</td><td>&quot;bus&quot;</td><td>0.0</td></tr></tbody></table></div>"
      ],
      "text/plain": [
       "shape: (5, 29)\n",
       "┌─────────┬───────────┬─────────────┬────────────┬───┬────────────┬────────────┬────────────┬──────┐\n",
       "│ bid     ┆ channel   ┆ createdon   ┆ cust_name  ┆ … ┆ useragent  ┆ usr_name   ┆ vehclass_i ┆ vpn  │\n",
       "│ ---     ┆ ---       ┆ ---         ┆ ---        ┆   ┆ ---        ┆ ---        ┆ d          ┆ ---  │\n",
       "│ i64     ┆ str       ┆ datetime[μs ┆ str        ┆   ┆ str        ┆ str        ┆ ---        ┆ f64  │\n",
       "│         ┆           ┆ , UTC]      ┆            ┆   ┆            ┆            ┆ str        ┆      │\n",
       "╞═════════╪═══════════╪═════════════╪════════════╪═══╪════════════╪════════════╪════════════╪══════╡\n",
       "│ 8417836 ┆ direct    ┆ 2023-03-08  ┆ Karen      ┆ … ┆ Phone,jp,J ┆ Karen      ┆ train      ┆ null │\n",
       "│         ┆           ┆ 15:04:01    ┆ Huang      ┆   ┆ PY         ┆ Huang      ┆            ┆      │\n",
       "│         ┆           ┆ UTC         ┆            ┆   ┆            ┆            ┆            ┆      │\n",
       "│ 7380247 ┆ referral  ┆ 2023-10-12  ┆ Jill Davis ┆ … ┆ Desktop,fr ┆ Jill Davis ┆ bus        ┆ 0.0  │\n",
       "│         ┆           ┆ 05:26:54    ┆            ┆   ┆ ,GBP       ┆            ┆            ┆      │\n",
       "│         ┆           ┆ UTC         ┆            ┆   ┆            ┆            ┆            ┆      │\n",
       "│ 8177159 ┆ organic   ┆ 2023-01-01  ┆ Ashley     ┆ … ┆ Phone,th,T ┆ Ashley     ┆ bus        ┆ null │\n",
       "│         ┆           ┆ 07:26:12    ┆ Carson     ┆   ┆ HB         ┆ Carson     ┆            ┆      │\n",
       "│         ┆           ┆ UTC         ┆            ┆   ┆            ┆            ┆            ┆      │\n",
       "│ 6890863 ┆ paid      ┆ 2023-02-28  ┆ Morgan     ┆ … ┆ Phone,fr,P ┆ Teresa     ┆ bus        ┆ 0.0  │\n",
       "│         ┆           ┆ 15:10:15    ┆ Huffman    ┆   ┆ HP         ┆ Frank      ┆            ┆      │\n",
       "│         ┆           ┆ UTC         ┆            ┆   ┆            ┆            ┆            ┆      │\n",
       "│ 5929666 ┆ affiliate ┆ 2023-01-23  ┆ Michael Le ┆ … ┆ Phone,en,G ┆ Michael Le ┆ bus        ┆ 0.0  │\n",
       "│         ┆           ┆ 15:30:12    ┆            ┆   ┆ BP         ┆            ┆            ┆      │\n",
       "│         ┆           ┆ UTC         ┆            ┆   ┆            ┆            ┆            ┆      │\n",
       "└─────────┴───────────┴─────────────┴────────────┴───┴────────────┴────────────┴────────────┴──────┘"
      ]
     },
     "execution_count": 64,
     "metadata": {},
     "output_type": "execute_result"
    }
   ],
   "source": [
    "pl_data.sample(5)"
   ]
  },
  {
   "cell_type": "code",
   "execution_count": 65,
   "metadata": {},
   "outputs": [
    {
     "data": {
      "text/plain": [
       "bid                         0.000000e+00\n",
       "channel                     3.410520e-02\n",
       "createdon                   0.000000e+00\n",
       "cust_name                   2.886651e-07\n",
       "date_of_birth               1.015986e-02\n",
       "email                       0.000000e+00\n",
       "email_domain_score          0.000000e+00\n",
       "email_score                 0.000000e+00\n",
       "godate                      0.000000e+00\n",
       "insurance_flg               0.000000e+00\n",
       "ip                          6.697030e-05\n",
       "isFraud                     0.000000e+00\n",
       "nationality                 1.183527e-05\n",
       "netprice_thb                0.000000e+00\n",
       "p_attempts                  0.000000e+00\n",
       "paidon                      1.443326e-06\n",
       "passenger_passport_score    0.000000e+00\n",
       "passenger_score             0.000000e+00\n",
       "payer_country               2.136122e-05\n",
       "payer_name                  3.743172e-01\n",
       "proxy                       4.931788e-01\n",
       "recent_abuse                4.931788e-01\n",
       "role_id                     0.000000e+00\n",
       "seats                       0.000000e+00\n",
       "tor                         4.931788e-01\n",
       "useragent                   6.697030e-05\n",
       "usr_name                    1.456315e-03\n",
       "vehclass_id                 0.000000e+00\n",
       "vpn                         4.931788e-01\n",
       "dtype: float64"
      ]
     },
     "execution_count": 65,
     "metadata": {},
     "output_type": "execute_result"
    }
   ],
   "source": [
    "pl_data.to_pandas().isna().mean()"
   ]
  },
  {
   "cell_type": "code",
   "execution_count": 66,
   "metadata": {},
   "outputs": [],
   "source": [
    "# пока пропущенные значения заполним так\n",
    "pl_data = pl_data.with_columns(\n",
    "    pl.col(\"channel\").fill_null(\"unknown\"),\n",
    "    pl.col(\"cust_name\").fill_null(\"unknown\"),\n",
    "    pl.col(\"date_of_birth\").fill_null(strategy=\"min\"),\n",
    "    pl.col(\"nationality\").fill_null(\"unknown\"),\n",
    "    pl.col(\"payer_country\").fill_null(\"unknown\"),\n",
    "    pl.col(\"proxy\").fill_null(0.0),\n",
    "    pl.col(\"tor\").fill_null(0.0),\n",
    "    pl.col(\"vpn\").fill_null(0.0),\n",
    "    pl.col(\"recent_abuse\").fill_null(0.0),\n",
    ")"
   ]
  },
  {
   "cell_type": "code",
   "execution_count": 67,
   "metadata": {},
   "outputs": [
    {
     "name": "stdout",
     "output_type": "stream",
     "text": [
      "Min data of booking 2021-04-30 17:21:17+00:00\n",
      "Max data of booking 2023-11-30 16:59:52+00:00\n"
     ]
    }
   ],
   "source": [
    "print(f\"Min data of booking {pl_data['createdon'].min()}\")\n",
    "print(f\"Max data of booking {pl_data['createdon'].max()}\")"
   ]
  },
  {
   "cell_type": "code",
   "execution_count": 68,
   "metadata": {},
   "outputs": [],
   "source": [
    "date_split_utc = pl.datetime(2022, 11, 30, 0, 0, 0).cast(\n",
    "    pl.Datetime(\"us\", time_zone=\"UTC\")\n",
    ")"
   ]
  },
  {
   "cell_type": "code",
   "execution_count": 69,
   "metadata": {},
   "outputs": [
    {
     "data": {
      "text/plain": [
       "isFraud\n",
       "0    0.997879\n",
       "1    0.002121\n",
       "Name: proportion, dtype: float64"
      ]
     },
     "execution_count": 69,
     "metadata": {},
     "output_type": "execute_result"
    }
   ],
   "source": [
    "pl_data.filter(pl.col(\"createdon\") < date_split_utc)[\n",
    "    \"isFraud\"\n",
    "].to_pandas().value_counts(normalize=True)"
   ]
  },
  {
   "cell_type": "code",
   "execution_count": 70,
   "metadata": {},
   "outputs": [
    {
     "data": {
      "text/plain": [
       "isFraud\n",
       "0    0.997701\n",
       "1    0.002299\n",
       "Name: proportion, dtype: float64"
      ]
     },
     "execution_count": 70,
     "metadata": {},
     "output_type": "execute_result"
    }
   ],
   "source": [
    "pl_data.filter(pl.col(\"createdon\") >= date_split_utc)[\n",
    "    \"isFraud\"\n",
    "].to_pandas().value_counts(normalize=True)"
   ]
  },
  {
   "cell_type": "code",
   "execution_count": 71,
   "metadata": {},
   "outputs": [],
   "source": [
    "train_data = pl_data.filter(pl.col(\"createdon\") < date_split_utc)\n",
    "test_data = pl_data.filter(pl.col(\"createdon\") >= date_split_utc)"
   ]
  },
  {
   "cell_type": "code",
   "execution_count": 72,
   "metadata": {},
   "outputs": [],
   "source": [
    "X_train = train_data.drop(\n",
    "    [\n",
    "        \"isFraud\",\n",
    "        \"bid\",\n",
    "        \"cust_name\",\n",
    "        \"date_of_birth\",\n",
    "        \"email\",\n",
    "        \"godate\",\n",
    "        \"ip\",\n",
    "        \"paidon\",\n",
    "        \"payer_name\",\n",
    "        \"useragent\",\n",
    "        \"usr_name\",\n",
    "        \"createdon\",]\n",
    ").to_pandas()\n",
    "y_train = train_data[\"isFraud\"].to_pandas()\n",
    "\n",
    "X_test = test_data.drop(\n",
    "    [\n",
    "        \"isFraud\",\n",
    "        \"bid\",\n",
    "        \"cust_name\",\n",
    "        \"date_of_birth\",\n",
    "        \"email\",\n",
    "        \"godate\",\n",
    "        \"ip\",\n",
    "        \"paidon\",\n",
    "        \"payer_name\",\n",
    "        \"useragent\",\n",
    "        \"usr_name\",\n",
    "        \"createdon\",\n",
    "    ]\n",
    ").to_pandas()\n",
    "y_test = test_data[\"isFraud\"].to_pandas()"
   ]
  },
  {
   "cell_type": "code",
   "execution_count": 76,
   "metadata": {},
   "outputs": [],
   "source": [
    "cat_features = [\"channel\", \"nationality\", \"payer_country\", \"role_id\", \"vehclass_id\"]"
   ]
  },
  {
   "cell_type": "code",
   "execution_count": 77,
   "metadata": {},
   "outputs": [],
   "source": [
    "train_pool = Pool(data=X_train, label=y_train, cat_features=cat_features)\n",
    "test_pool = Pool(data=X_test, label=y_test, cat_features=cat_features)"
   ]
  },
  {
   "cell_type": "code",
   "execution_count": 104,
   "metadata": {},
   "outputs": [],
   "source": [
    "class_counts = y_train.value_counts()\n",
    "total = len(y_train)\n",
    "\n",
    "class_weights = {\n",
    "    0: 1,\n",
    "    1: class_counts[0] / class_counts[1]\n",
    "}"
   ]
  },
  {
   "cell_type": "code",
   "execution_count": 109,
   "metadata": {},
   "outputs": [
    {
     "data": {
      "application/vnd.jupyter.widget-view+json": {
       "model_id": "051d3a8657264041851b0b12c9bf8d12",
       "version_major": 2,
       "version_minor": 0
      },
      "text/plain": [
       "MetricVisualizer(layout=Layout(align_self='stretch', height='500px'))"
      ]
     },
     "metadata": {},
     "output_type": "display_data"
    },
    {
     "name": "stdout",
     "output_type": "stream",
     "text": [
      "Learning rate set to 0.164541\n",
      "0:\tlearn: 0.2692691\ttest: 0.2622367\tbest: 0.2622367 (0)\ttotal: 830ms\tremaining: 13m 48s\n",
      "Stopped by overfitting detector  (50 iterations wait)\n",
      "\n",
      "bestTest = 0.01313832867\n",
      "bestIteration = 11\n",
      "\n",
      "Shrink model to first 12 iterations.\n"
     ]
    },
    {
     "data": {
      "text/plain": [
       "<catboost.core.CatBoostClassifier at 0x5348ad550>"
      ]
     },
     "execution_count": 109,
     "metadata": {},
     "output_type": "execute_result"
    }
   ],
   "source": [
    "clf = CatBoostClassifier(\n",
    "    iterations=1000,\n",
    "    thread_count=-1,\n",
    "    random_seed=42,\n",
    "    cat_features=cat_features\n",
    "    )\n",
    "\n",
    "clf.fit(\n",
    "    X_train,\n",
    "    y_train,\n",
    "    eval_set=(X_test, y_test),\n",
    "    verbose=100,\n",
    "    use_best_model=True,\n",
    "    early_stopping_rounds=50,\n",
    "    plot=True,\n",
    ")"
   ]
  },
  {
   "cell_type": "code",
   "execution_count": 110,
   "metadata": {},
   "outputs": [],
   "source": [
    "y_pred = clf.predict(test_pool)\n",
    "y_pred_proba = clf.predict_proba(test_pool)[:, 1]"
   ]
  },
  {
   "cell_type": "code",
   "execution_count": 111,
   "metadata": {},
   "outputs": [
    {
     "name": "stdout",
     "output_type": "stream",
     "text": [
      "Classification Report:\n",
      "              precision    recall  f1-score   support\n",
      "\n",
      "           0       1.00      1.00      1.00   2670628\n",
      "           1       0.69      0.05      0.09      6155\n",
      "\n",
      "    accuracy                           1.00   2676783\n",
      "   macro avg       0.85      0.52      0.54   2676783\n",
      "weighted avg       1.00      1.00      1.00   2676783\n",
      "\n"
     ]
    }
   ],
   "source": [
    "print(\"Classification Report:\")\n",
    "print(classification_report(y_test, y_pred))"
   ]
  },
  {
   "cell_type": "code",
   "execution_count": 112,
   "metadata": {},
   "outputs": [
    {
     "name": "stdout",
     "output_type": "stream",
     "text": [
      "\n",
      "ROC-AUC Score: 0.8368\n"
     ]
    }
   ],
   "source": [
    "roc_auc = roc_auc_score(y_test, y_pred_proba)\n",
    "print(f\"\\nROC-AUC Score: {roc_auc:.4f}\")"
   ]
  },
  {
   "cell_type": "code",
   "execution_count": 113,
   "metadata": {},
   "outputs": [
    {
     "name": "stderr",
     "output_type": "stream",
     "text": [
      "/Users/kurmangazykarabekov/anaconda3/lib/python3.11/site-packages/seaborn/_oldcore.py:1119: FutureWarning: use_inf_as_na option is deprecated and will be removed in a future version. Convert inf values to NaN before operating instead.\n",
      "  with pd.option_context('mode.use_inf_as_na', True):\n"
     ]
    },
    {
     "data": {
      "image/png": "[encoded data removed]",
      "text/plain": [
       "<Figure size 640x480 with 1 Axes>"
      ]
     },
     "metadata": {},
     "output_type": "display_data"
    }
   ],
   "source": [
    "sns.histplot(y_pred_proba,bins=10)\n",
    "plt.show()"
   ]
  },
  {
   "cell_type": "code",
   "execution_count": 117,
   "metadata": {},
   "outputs": [
    {
     "data": {
      "text/html": [
       "<div>\n",
       "<style scoped>\n",
       "    .dataframe tbody tr th:only-of-type {\n",
       "        vertical-align: middle;\n",
       "    }\n",
       "\n",
       "    .dataframe tbody tr th {\n",
       "        vertical-align: top;\n",
       "    }\n",
       "\n",
       "    .dataframe thead th {\n",
       "        text-align: right;\n",
       "    }\n",
       "</style>\n",
       "<table border=\"1\" class=\"dataframe\">\n",
       "  <thead>\n",
       "    <tr style=\"text-align: right;\">\n",
       "      <th></th>\n",
       "      <th>Feature Id</th>\n",
       "      <th>Importances</th>\n",
       "    </tr>\n",
       "  </thead>\n",
       "  <tbody>\n",
       "    <tr>\n",
       "      <th>0</th>\n",
       "      <td>email_score</td>\n",
       "      <td>59.424552</td>\n",
       "    </tr>\n",
       "    <tr>\n",
       "      <th>1</th>\n",
       "      <td>netprice_thb</td>\n",
       "      <td>16.856477</td>\n",
       "    </tr>\n",
       "    <tr>\n",
       "      <th>2</th>\n",
       "      <td>proxy</td>\n",
       "      <td>7.288552</td>\n",
       "    </tr>\n",
       "    <tr>\n",
       "      <th>3</th>\n",
       "      <td>channel</td>\n",
       "      <td>3.537614</td>\n",
       "    </tr>\n",
       "    <tr>\n",
       "      <th>4</th>\n",
       "      <td>vehclass_id</td>\n",
       "      <td>3.071956</td>\n",
       "    </tr>\n",
       "    <tr>\n",
       "      <th>5</th>\n",
       "      <td>recent_abuse</td>\n",
       "      <td>3.001856</td>\n",
       "    </tr>\n",
       "    <tr>\n",
       "      <th>6</th>\n",
       "      <td>p_attempts</td>\n",
       "      <td>2.507074</td>\n",
       "    </tr>\n",
       "    <tr>\n",
       "      <th>7</th>\n",
       "      <td>insurance_flg</td>\n",
       "      <td>1.505536</td>\n",
       "    </tr>\n",
       "    <tr>\n",
       "      <th>8</th>\n",
       "      <td>nationality</td>\n",
       "      <td>1.100825</td>\n",
       "    </tr>\n",
       "    <tr>\n",
       "      <th>9</th>\n",
       "      <td>seats</td>\n",
       "      <td>0.750964</td>\n",
       "    </tr>\n",
       "    <tr>\n",
       "      <th>10</th>\n",
       "      <td>passenger_score</td>\n",
       "      <td>0.716886</td>\n",
       "    </tr>\n",
       "    <tr>\n",
       "      <th>11</th>\n",
       "      <td>vpn</td>\n",
       "      <td>0.237708</td>\n",
       "    </tr>\n",
       "    <tr>\n",
       "      <th>12</th>\n",
       "      <td>email_domain_score</td>\n",
       "      <td>0.000000</td>\n",
       "    </tr>\n",
       "    <tr>\n",
       "      <th>13</th>\n",
       "      <td>passenger_passport_score</td>\n",
       "      <td>0.000000</td>\n",
       "    </tr>\n",
       "    <tr>\n",
       "      <th>14</th>\n",
       "      <td>payer_country</td>\n",
       "      <td>0.000000</td>\n",
       "    </tr>\n",
       "    <tr>\n",
       "      <th>15</th>\n",
       "      <td>role_id</td>\n",
       "      <td>0.000000</td>\n",
       "    </tr>\n",
       "    <tr>\n",
       "      <th>16</th>\n",
       "      <td>tor</td>\n",
       "      <td>0.000000</td>\n",
       "    </tr>\n",
       "  </tbody>\n",
       "</table>\n",
       "</div>"
      ],
      "text/plain": [
       "                  Feature Id  Importances\n",
       "0                email_score    59.424552\n",
       "1               netprice_thb    16.856477\n",
       "2                      proxy     7.288552\n",
       "3                    channel     3.537614\n",
       "4                vehclass_id     3.071956\n",
       "5               recent_abuse     3.001856\n",
       "6                 p_attempts     2.507074\n",
       "7              insurance_flg     1.505536\n",
       "8                nationality     1.100825\n",
       "9                      seats     0.750964\n",
       "10           passenger_score     0.716886\n",
       "11                       vpn     0.237708\n",
       "12        email_domain_score     0.000000\n",
       "13  passenger_passport_score     0.000000\n",
       "14             payer_country     0.000000\n",
       "15                   role_id     0.000000\n",
       "16                       tor     0.000000"
      ]
     },
     "execution_count": 117,
     "metadata": {},
     "output_type": "execute_result"
    }
   ],
   "source": [
    "clf.get_feature_importance(prettified=True)"
   ]
  },
  {
   "cell_type": "code",
   "execution_count": 92,
   "metadata": {},
   "outputs": [],
   "source": [
    "def lift_metric_plot(model, X_test, y_test):\n",
    "    all_pred = pd.DataFrame()\n",
    "    all_pred[\"prob\"] = model.predict_proba(X_test)[:, 1]\n",
    "    all_pred[\"true\"] = y_test.values\n",
    "    import matplotlib.pyplot as plt\n",
    "    import numpy as np\n",
    "    from sklearn.metrics import precision_score\n",
    "    from sklearn.metrics import recall_score\n",
    "    from sklearn.metrics import f1_score\n",
    "    from sklearn.metrics import accuracy_score\n",
    "\n",
    "    y_true = all_pred[\"true\"]\n",
    "    recall = []\n",
    "    precision = []\n",
    "    score = []\n",
    "    f_score = []\n",
    "\n",
    "    aa = -np.sort(\n",
    "        -all_pred[\"prob\"].describe(percentiles=np.linspace(0, 1, 101))[4:105].values\n",
    "    )\n",
    "    for i in range(0, len(aa)):\n",
    "        f = lambda x: 1 if x >= aa[i] else 0\n",
    "        score.append(aa[i])\n",
    "        y_pred = all_pred[\"prob\"].map(f)\n",
    "        g = recall_score(y_true, y_pred, average=\"binary\")\n",
    "        recall.append(g)\n",
    "        p = precision_score(y_true, y_pred, average=\"binary\")\n",
    "        precision.append(p)\n",
    "        t = f1_score(y_true, y_pred, average=\"binary\")\n",
    "        f_score.append(t)\n",
    "\n",
    "    temp = pd.DataFrame()\n",
    "    temp[\"score\"] = score\n",
    "    temp[\"recall\"] = recall\n",
    "    temp[\"precision\"] = precision\n",
    "    temp[\"top_percentile\"] = np.round(list(np.linspace(0, 100, 101))).tolist()\n",
    "\n",
    "    temp[\"lift\"] = temp[\"recall\"] / (temp[\"top_percentile\"] / 100.0)\n",
    "    temp[\"max_lift\"] = 1 / (y_test.sum() / len(y_test))\n",
    "    temp[\"relative_lift\"] = temp[\"lift\"] / temp[\"max_lift\"]\n",
    "\n",
    "    temp[\"percent\"] = 100 * (y_test.sum() / len(y_test))\n",
    "    plt.figure()\n",
    "    plt.plot(temp[1:][\"top_percentile\"], temp[1:][\"lift\"])\n",
    "    plt.xlabel(\"Percentile\")\n",
    "    plt.ylabel(\"LIFT\")\n",
    "    plt.scatter(\n",
    "        1,\n",
    "        temp[temp[\"top_percentile\"] == 1][\"lift\"][1],\n",
    "        marker=\"o\",\n",
    "        s=30,\n",
    "        zorder=10,\n",
    "        color=\"b\",\n",
    "    )\n",
    "    plt.text(\n",
    "        1,\n",
    "        temp[temp[\"top_percentile\"] == 1][\"lift\"][1],\n",
    "        \"      top 1 : {}\".format(\n",
    "            np.round(temp[temp[\"top_percentile\"] == 1][\"lift\"][1], 3)\n",
    "        ),\n",
    "        fontsize=10,\n",
    "    )\n",
    "    plt.scatter(\n",
    "        10,\n",
    "        temp[temp[\"top_percentile\"] == 10][\"lift\"][10],\n",
    "        marker=\"o\",\n",
    "        s=30,\n",
    "        zorder=10,\n",
    "        color=\"b\",\n",
    "    )\n",
    "    plt.text(\n",
    "        10,\n",
    "        temp[temp[\"top_percentile\"] == 10][\"lift\"][10],\n",
    "        \"      top 10 : {}\".format(\n",
    "            np.round(temp[temp[\"top_percentile\"] == 10][\"lift\"][10], 3)\n",
    "        ),\n",
    "        fontsize=10,\n",
    "    )\n",
    "    plt.title(\"Lift-chart\")\n",
    "    plt.figure()\n",
    "    plt.plot(temp[1:][\"top_percentile\"], temp[1:][\"relative_lift\"])\n",
    "    plt.xlabel(\"Percentile\")\n",
    "    plt.ylabel(\"Relative_lift\")\n",
    "    plt.scatter(\n",
    "        1,\n",
    "        temp[temp[\"top_percentile\"] == 1][\"relative_lift\"][1],\n",
    "        marker=\"o\",\n",
    "        s=30,\n",
    "        zorder=10,\n",
    "        color=\"b\",\n",
    "    )\n",
    "    plt.text(\n",
    "        1,\n",
    "        temp[temp[\"top_percentile\"] == 1][\"relative_lift\"][1],\n",
    "        \"      top 1 : {}\".format(\n",
    "            np.round(temp[temp[\"top_percentile\"] == 1][\"relative_lift\"][1], 3)\n",
    "        ),\n",
    "        fontsize=10,\n",
    "    )\n",
    "    plt.scatter(\n",
    "        10,\n",
    "        temp[temp[\"top_percentile\"] == 10][\"relative_lift\"][10],\n",
    "        marker=\"o\",\n",
    "        s=30,\n",
    "        zorder=10,\n",
    "        color=\"b\",\n",
    "    )\n",
    "    plt.text(\n",
    "        10,\n",
    "        temp[temp[\"top_percentile\"] == 10][\"relative_lift\"][10],\n",
    "        \"      top 10 : {}\".format(\n",
    "            np.round(temp[temp[\"top_percentile\"] == 10][\"relative_lift\"][10], 3)\n",
    "        ),\n",
    "        fontsize=10,\n",
    "    )\n",
    "    plt.title(\"Relative-lift-chart\")\n",
    "    plt.figure()\n",
    "    plt.plot(temp[1:][\"top_percentile\"], temp[1:][\"recall\"])\n",
    "    plt.xlabel(\"Percentile\")\n",
    "    plt.ylabel(\"GAIN\")\n",
    "    plt.scatter(\n",
    "        10,\n",
    "        temp[temp[\"top_percentile\"] == 10][\"recall\"][10],\n",
    "        marker=\"o\",\n",
    "        s=30,\n",
    "        zorder=10,\n",
    "        color=\"b\",\n",
    "    )\n",
    "    plt.text(\n",
    "        10,\n",
    "        temp[temp[\"top_percentile\"] == 10][\"recall\"][10],\n",
    "        \"      top 10 : {}\".format(\n",
    "            np.round(temp[temp[\"top_percentile\"] == 10][\"recall\"][10], 3)\n",
    "        ),\n",
    "        fontsize=10,\n",
    "    )\n",
    "    plt.scatter(\n",
    "        40,\n",
    "        temp[temp[\"top_percentile\"] == 40][\"recall\"][40],\n",
    "        marker=\"o\",\n",
    "        s=30,\n",
    "        zorder=10,\n",
    "        color=\"b\",\n",
    "    )\n",
    "    plt.text(\n",
    "        40,\n",
    "        temp[temp[\"top_percentile\"] == 40][\"recall\"][40],\n",
    "        \"      top 40 : {}\".format(\n",
    "            np.round(temp[temp[\"top_percentile\"] == 40][\"recall\"][40], 3)\n",
    "        ),\n",
    "        fontsize=10,\n",
    "    )\n",
    "    plt.title(\"Gain-chart\")\n",
    "    from sklearn.metrics import roc_curve, auc\n",
    "\n",
    "    fpr, tpr, thresholds = roc_curve(y_test.values, model.predict_proba(X_test)[:, 1])\n",
    "    roc_auc = auc(fpr, tpr)\n",
    "\n",
    "    plt.figure()\n",
    "    plt.plot(\n",
    "        fpr, tpr, color=\"darkorange\", lw=1, label=\"ROC curve (area = %0.2f)\" % roc_auc\n",
    "    )\n",
    "    plt.plot([0, 1], [0, 1], color=\"navy\", lw=1, linestyle=\"--\")\n",
    "    plt.xlim([0.0, 1.0])\n",
    "    plt.ylim([0.0, 1.05])\n",
    "    plt.xlabel(\"False Positive Rate\")\n",
    "    plt.ylabel(\"True Positive Rate\")\n",
    "    plt.title(\"Receiver operating characteristic (ROC)\")\n",
    "    plt.legend(loc=\"lower right\")\n",
    "    plt.show()\n",
    "    print(temp[1:].head(10))\n",
    "    return temp[1:]"
   ]
  },
  {
   "cell_type": "code",
   "execution_count": 93,
   "metadata": {},
   "outputs": [
    {
     "data": {
      "image/png": "[encoded data removed]",
      "text/plain": [
       "<Figure size 640x480 with 1 Axes>"
      ]
     },
     "metadata": {},
     "output_type": "display_data"
    },
    {
     "data": {
      "image/png": "[encoded data removed]",
      "text/plain": [
       "<Figure size 640x480 with 1 Axes>"
      ]
     },
     "metadata": {},
     "output_type": "display_data"
    },
    {
     "data": {
      "image/png": "[encoded data removed]",
      "text/plain": [
       "<Figure size 640x480 with 1 Axes>"
      ]
     },
     "metadata": {},
     "output_type": "display_data"
    },
    {
     "data": {
      "image/png": "[encoded data removed]",
      "text/plain": [
       "<Figure size 640x480 with 1 Axes>"
      ]
     },
     "metadata": {},
     "output_type": "display_data"
    },
    {
     "name": "stdout",
     "output_type": "stream",
     "text": [
      "       score    recall  precision  top_percentile       lift    max_lift  \\\n",
      "1   0.025703  0.283184   0.064837             1.0  28.318440  434.895695   \n",
      "2   0.015681  0.382453   0.043882             2.0  19.122665  434.895695   \n",
      "3   0.012453  0.421446   0.032249             3.0  14.048199  434.895695   \n",
      "4   0.009870  0.458814   0.026272             4.0  11.470349  434.895695   \n",
      "5   0.007969  0.485297   0.022318             5.0   9.705930  434.895695   \n",
      "6   0.006893  0.499756   0.019119             6.0   8.329272  434.895695   \n",
      "7   0.005901  0.514054   0.016796             7.0   7.343623  434.895695   \n",
      "8   0.004990  0.530138   0.015076             8.0   6.626726  434.895695   \n",
      "9   0.004464  0.541186   0.013270             9.0   6.013178  434.895695   \n",
      "10  0.003901  0.561170   0.012903            10.0   5.611698  434.895695   \n",
      "\n",
      "    relative_lift  percent  \n",
      "1        0.065115  0.22994  \n",
      "2        0.043971  0.22994  \n",
      "3        0.032302  0.22994  \n",
      "4        0.026375  0.22994  \n",
      "5        0.022318  0.22994  \n",
      "6        0.019152  0.22994  \n",
      "7        0.016886  0.22994  \n",
      "8        0.015238  0.22994  \n",
      "9        0.013827  0.22994  \n",
      "10       0.012904  0.22994  \n"
     ]
    },
    {
     "data": {
      "text/html": [
       "<div>\n",
       "<style scoped>\n",
       "    .dataframe tbody tr th:only-of-type {\n",
       "        vertical-align: middle;\n",
       "    }\n",
       "\n",
       "    .dataframe tbody tr th {\n",
       "        vertical-align: top;\n",
       "    }\n",
       "\n",
       "    .dataframe thead th {\n",
       "        text-align: right;\n",
       "    }\n",
       "</style>\n",
       "<table border=\"1\" class=\"dataframe\">\n",
       "  <thead>\n",
       "    <tr style=\"text-align: right;\">\n",
       "      <th></th>\n",
       "      <th>score</th>\n",
       "      <th>recall</th>\n",
       "      <th>precision</th>\n",
       "      <th>top_percentile</th>\n",
       "      <th>lift</th>\n",
       "      <th>max_lift</th>\n",
       "      <th>relative_lift</th>\n",
       "      <th>percent</th>\n",
       "    </tr>\n",
       "  </thead>\n",
       "  <tbody>\n",
       "    <tr>\n",
       "      <th>1</th>\n",
       "      <td>0.025703</td>\n",
       "      <td>0.283184</td>\n",
       "      <td>0.064837</td>\n",
       "      <td>1.0</td>\n",
       "      <td>28.318440</td>\n",
       "      <td>434.895695</td>\n",
       "      <td>0.065115</td>\n",
       "      <td>0.22994</td>\n",
       "    </tr>\n",
       "    <tr>\n",
       "      <th>2</th>\n",
       "      <td>0.015681</td>\n",
       "      <td>0.382453</td>\n",
       "      <td>0.043882</td>\n",
       "      <td>2.0</td>\n",
       "      <td>19.122665</td>\n",
       "      <td>434.895695</td>\n",
       "      <td>0.043971</td>\n",
       "      <td>0.22994</td>\n",
       "    </tr>\n",
       "    <tr>\n",
       "      <th>3</th>\n",
       "      <td>0.012453</td>\n",
       "      <td>0.421446</td>\n",
       "      <td>0.032249</td>\n",
       "      <td>3.0</td>\n",
       "      <td>14.048199</td>\n",
       "      <td>434.895695</td>\n",
       "      <td>0.032302</td>\n",
       "      <td>0.22994</td>\n",
       "    </tr>\n",
       "    <tr>\n",
       "      <th>4</th>\n",
       "      <td>0.009870</td>\n",
       "      <td>0.458814</td>\n",
       "      <td>0.026272</td>\n",
       "      <td>4.0</td>\n",
       "      <td>11.470349</td>\n",
       "      <td>434.895695</td>\n",
       "      <td>0.026375</td>\n",
       "      <td>0.22994</td>\n",
       "    </tr>\n",
       "    <tr>\n",
       "      <th>5</th>\n",
       "      <td>0.007969</td>\n",
       "      <td>0.485297</td>\n",
       "      <td>0.022318</td>\n",
       "      <td>5.0</td>\n",
       "      <td>9.705930</td>\n",
       "      <td>434.895695</td>\n",
       "      <td>0.022318</td>\n",
       "      <td>0.22994</td>\n",
       "    </tr>\n",
       "    <tr>\n",
       "      <th>...</th>\n",
       "      <td>...</td>\n",
       "      <td>...</td>\n",
       "      <td>...</td>\n",
       "      <td>...</td>\n",
       "      <td>...</td>\n",
       "      <td>...</td>\n",
       "      <td>...</td>\n",
       "      <td>...</td>\n",
       "    </tr>\n",
       "    <tr>\n",
       "      <th>96</th>\n",
       "      <td>0.000228</td>\n",
       "      <td>0.994314</td>\n",
       "      <td>0.002364</td>\n",
       "      <td>96.0</td>\n",
       "      <td>1.035743</td>\n",
       "      <td>434.895695</td>\n",
       "      <td>0.002382</td>\n",
       "      <td>0.22994</td>\n",
       "    </tr>\n",
       "    <tr>\n",
       "      <th>97</th>\n",
       "      <td>0.000227</td>\n",
       "      <td>0.998863</td>\n",
       "      <td>0.002308</td>\n",
       "      <td>97.0</td>\n",
       "      <td>1.029755</td>\n",
       "      <td>434.895695</td>\n",
       "      <td>0.002368</td>\n",
       "      <td>0.22994</td>\n",
       "    </tr>\n",
       "    <tr>\n",
       "      <th>98</th>\n",
       "      <td>0.000227</td>\n",
       "      <td>0.998863</td>\n",
       "      <td>0.002308</td>\n",
       "      <td>98.0</td>\n",
       "      <td>1.019248</td>\n",
       "      <td>434.895695</td>\n",
       "      <td>0.002344</td>\n",
       "      <td>0.22994</td>\n",
       "    </tr>\n",
       "    <tr>\n",
       "      <th>99</th>\n",
       "      <td>0.000227</td>\n",
       "      <td>0.998863</td>\n",
       "      <td>0.002308</td>\n",
       "      <td>99.0</td>\n",
       "      <td>1.008952</td>\n",
       "      <td>434.895695</td>\n",
       "      <td>0.002320</td>\n",
       "      <td>0.22994</td>\n",
       "    </tr>\n",
       "    <tr>\n",
       "      <th>100</th>\n",
       "      <td>0.000204</td>\n",
       "      <td>1.000000</td>\n",
       "      <td>0.002299</td>\n",
       "      <td>100.0</td>\n",
       "      <td>1.000000</td>\n",
       "      <td>434.895695</td>\n",
       "      <td>0.002299</td>\n",
       "      <td>0.22994</td>\n",
       "    </tr>\n",
       "  </tbody>\n",
       "</table>\n",
       "<p>100 rows × 8 columns</p>\n",
       "</div>"
      ],
      "text/plain": [
       "        score    recall  precision  top_percentile       lift    max_lift  \\\n",
       "1    0.025703  0.283184   0.064837             1.0  28.318440  434.895695   \n",
       "2    0.015681  0.382453   0.043882             2.0  19.122665  434.895695   \n",
       "3    0.012453  0.421446   0.032249             3.0  14.048199  434.895695   \n",
       "4    0.009870  0.458814   0.026272             4.0  11.470349  434.895695   \n",
       "5    0.007969  0.485297   0.022318             5.0   9.705930  434.895695   \n",
       "..        ...       ...        ...             ...        ...         ...   \n",
       "96   0.000228  0.994314   0.002364            96.0   1.035743  434.895695   \n",
       "97   0.000227  0.998863   0.002308            97.0   1.029755  434.895695   \n",
       "98   0.000227  0.998863   0.002308            98.0   1.019248  434.895695   \n",
       "99   0.000227  0.998863   0.002308            99.0   1.008952  434.895695   \n",
       "100  0.000204  1.000000   0.002299           100.0   1.000000  434.895695   \n",
       "\n",
       "     relative_lift  percent  \n",
       "1         0.065115  0.22994  \n",
       "2         0.043971  0.22994  \n",
       "3         0.032302  0.22994  \n",
       "4         0.026375  0.22994  \n",
       "5         0.022318  0.22994  \n",
       "..             ...      ...  \n",
       "96        0.002382  0.22994  \n",
       "97        0.002368  0.22994  \n",
       "98        0.002344  0.22994  \n",
       "99        0.002320  0.22994  \n",
       "100       0.002299  0.22994  \n",
       "\n",
       "[100 rows x 8 columns]"
      ]
     },
     "execution_count": 93,
     "metadata": {},
     "output_type": "execute_result"
    }
   ],
   "source": [
    "lift_metric_plot(clf, X_test, y_test)"
   ]
  }
 ],
 "metadata": {
  "kernelspec": {
   "display_name": "base",
   "language": "python",
   "name": "python3"
  },
  "language_info": {
   "codemirror_mode": {
    "name": "ipython",
    "version": 3
   },
   "file_extension": ".py",
   "mimetype": "text/x-python",
   "name": "python",
   "nbconvert_exporter": "python",
   "pygments_lexer": "ipython3",
   "version": "3.11.0"
  }
 },
 "nbformat": 4,
 "nbformat_minor": 2
}
