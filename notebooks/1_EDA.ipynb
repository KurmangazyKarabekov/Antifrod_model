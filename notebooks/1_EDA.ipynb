{
 "cells": [
  {
   "cell_type": "code",
   "execution_count": 35,
   "metadata": {},
   "outputs": [],
   "source": [
    "import polars as pl\n",
    "import pandas as pd\n",
    "import numpy as np \n",
    "import pycountry\n",
    "\n",
    "import seaborn as sns\n",
    "import plotly.express as px\n",
    "import matplotlib.pyplot as plt\n",
    "\n",
    "import warnings\n",
    "\n",
    "warnings.filterwarnings(\"ignore\")"
   ]
  },
  {
   "cell_type": "code",
   "execution_count": 2,
   "metadata": {},
   "outputs": [],
   "source": [
    "pl_data = pl.read_csv(\"/Users/kurmangazykarabekov/Desktop/собесы/12Go Asia/data.csv\")"
   ]
  },
  {
   "cell_type": "markdown",
   "metadata": {},
   "source": [
    "**First look at the data**"
   ]
  },
  {
   "cell_type": "code",
   "execution_count": 3,
   "metadata": {},
   "outputs": [
    {
     "data": {
      "text/html": [
       "<div><style>\n",
       ".dataframe > thead > tr,\n",
       ".dataframe > tbody > tr {\n",
       "  text-align: right;\n",
       "  white-space: pre-wrap;\n",
       "}\n",
       "</style>\n",
       "<small>shape: (2, 29)</small><table border=\"1\" class=\"dataframe\"><thead><tr><th>bid</th><th>channel</th><th>createdon</th><th>cust_name</th><th>date_of_birth</th><th>email</th><th>email_domain_score</th><th>email_score</th><th>godate</th><th>insurance_flg</th><th>ip</th><th>isFraud</th><th>nationality</th><th>netprice_thb</th><th>p_attempts</th><th>paidon</th><th>passenger_passport_score</th><th>passenger_score</th><th>payer_country</th><th>payer_name</th><th>proxy</th><th>recent_abuse</th><th>role_id</th><th>seats</th><th>tor</th><th>useragent</th><th>usr_name</th><th>vehclass_id</th><th>vpn</th></tr><tr><td>i64</td><td>str</td><td>str</td><td>str</td><td>str</td><td>str</td><td>f64</td><td>f64</td><td>str</td><td>i64</td><td>str</td><td>i64</td><td>str</td><td>f64</td><td>i64</td><td>str</td><td>f64</td><td>f64</td><td>str</td><td>str</td><td>f64</td><td>f64</td><td>str</td><td>i64</td><td>f64</td><td>str</td><td>str</td><td>str</td><td>f64</td></tr></thead><tbody><tr><td>6524445</td><td>&quot;affiliate&quot;</td><td>&quot;2021-05-01 00:…</td><td>&quot;Tiffany Stephe…</td><td>&quot;1999-07-04&quot;</td><td>&quot;ryanbrianna@ou…</td><td>0.0</td><td>10.0</td><td>&quot;2021-07-01 07:…</td><td>0</td><td>&quot;213.89.6.2&quot;</td><td>0</td><td>&quot;SE&quot;</td><td>115.0</td><td>0</td><td>&quot;2021-06-29 16:…</td><td>0.0</td><td>0.0</td><td>&quot;SE&quot;</td><td>&quot;Tiffany Stephe…</td><td>null</td><td>null</td><td>&quot;user&quot;</td><td>1</td><td>null</td><td>&quot;Phone,sv,SEK&quot;</td><td>&quot;Tiffany Stephe…</td><td>&quot;van&quot;</td><td>null</td></tr><tr><td>5800338</td><td>&quot;affiliate&quot;</td><td>&quot;2021-05-01 00:…</td><td>&quot;Amanda Cooper&quot;</td><td>&quot;2002-06-07&quot;</td><td>&quot;dustin85@gmail…</td><td>0.0</td><td>10.0</td><td>&quot;2021-05-29 13:…</td><td>1</td><td>&quot;124.106.133.17…</td><td>0</td><td>&quot;TH&quot;</td><td>985.180176</td><td>0</td><td>&quot;2021-05-25 03:…</td><td>0.0</td><td>0.0</td><td>&quot;NU&quot;</td><td>null</td><td>0.0</td><td>0.0</td><td>&quot;user&quot;</td><td>1</td><td>0.0</td><td>&quot;Phone,en,PHP&quot;</td><td>&quot;Amanda Cooper&quot;</td><td>&quot;avia&quot;</td><td>0.0</td></tr></tbody></table></div>"
      ],
      "text/plain": [
       "shape: (2, 29)\n",
       "┌─────────┬───────────┬─────────────┬────────────┬───┬────────────┬────────────┬────────────┬──────┐\n",
       "│ bid     ┆ channel   ┆ createdon   ┆ cust_name  ┆ … ┆ useragent  ┆ usr_name   ┆ vehclass_i ┆ vpn  │\n",
       "│ ---     ┆ ---       ┆ ---         ┆ ---        ┆   ┆ ---        ┆ ---        ┆ d          ┆ ---  │\n",
       "│ i64     ┆ str       ┆ str         ┆ str        ┆   ┆ str        ┆ str        ┆ ---        ┆ f64  │\n",
       "│         ┆           ┆             ┆            ┆   ┆            ┆            ┆ str        ┆      │\n",
       "╞═════════╪═══════════╪═════════════╪════════════╪═══╪════════════╪════════════╪════════════╪══════╡\n",
       "│ 6524445 ┆ affiliate ┆ 2021-05-01  ┆ Tiffany    ┆ … ┆ Phone,sv,S ┆ Tiffany    ┆ van        ┆ null │\n",
       "│         ┆           ┆ 00:21:17+07 ┆ Stephenson ┆   ┆ EK         ┆ Stephenson ┆            ┆      │\n",
       "│         ┆           ┆ :00         ┆            ┆   ┆            ┆            ┆            ┆      │\n",
       "│ 5800338 ┆ affiliate ┆ 2021-05-01  ┆ Amanda     ┆ … ┆ Phone,en,P ┆ Amanda     ┆ avia       ┆ 0.0  │\n",
       "│         ┆           ┆ 00:30:19+07 ┆ Cooper     ┆   ┆ HP         ┆ Cooper     ┆            ┆      │\n",
       "│         ┆           ┆ :00         ┆            ┆   ┆            ┆            ┆            ┆      │\n",
       "└─────────┴───────────┴─────────────┴────────────┴───┴────────────┴────────────┴────────────┴──────┘"
      ]
     },
     "execution_count": 3,
     "metadata": {},
     "output_type": "execute_result"
    }
   ],
   "source": [
    "pl_data.head(2)"
   ]
  },
  {
   "cell_type": "markdown",
   "metadata": {},
   "source": [
    "**Converting some columns to date**"
   ]
  },
  {
   "cell_type": "code",
   "execution_count": 4,
   "metadata": {},
   "outputs": [
    {
     "name": "stderr",
     "output_type": "stream",
     "text": [
      "/var/folders/l9/p8dmtkcx40g8jtfzctxzg4km0000gn/T/ipykernel_79773/1105408612.py:28: ChronoFormatWarning: Detected the pattern `.%f` in the chrono format string. This pattern should not be used to parse values after a decimal point. Use `%.f` instead. See the full specification: https://docs.rs/chrono/latest/chrono/format/strftime\n",
      "  .str.strptime(pl.Datetime, format=\"%Y-%m-%d %H:%M:%S.%f%z\", strict=False)\n"
     ]
    }
   ],
   "source": [
    "pl_data = (\n",
    "    pl_data.with_columns(\n",
    "        pl.col(\"createdon\")\n",
    "        .str.strptime(\n",
    "            pl.Datetime,\n",
    "            format=\"%Y-%m-%d %H:%M:%S%z\",\n",
    "        )\n",
    "        .cast(pl.Datetime(\"us\", time_zone=\"UTC\"))\n",
    "    )\n",
    "    .with_columns(\n",
    "        pl.col(\"date_of_birth\")\n",
    "        .str.strptime(\n",
    "            pl.Datetime,\n",
    "            format=\"%Y-%m-%d\",\n",
    "        )\n",
    "        .cast(pl.Datetime(\"us\", time_zone=\"UTC\"))\n",
    "    )\n",
    "    .with_columns(\n",
    "        pl.col(\"godate\")\n",
    "        .str.strptime(\n",
    "            pl.Datetime,\n",
    "            format=\"%Y-%m-%d %H:%M:%S%z\",\n",
    "        )\n",
    "        .cast(pl.Datetime(\"us\", time_zone=\"UTC\"))\n",
    "    )\n",
    "    .with_columns(\n",
    "        pl.col(\"paidon\")\n",
    "        .str.strptime(pl.Datetime, format=\"%Y-%m-%d %H:%M:%S.%f%z\", strict=False)\n",
    "        .cast(pl.Datetime(\"us\", time_zone=\"UTC\"))\n",
    "    )\n",
    ")"
   ]
  },
  {
   "cell_type": "code",
   "execution_count": 5,
   "metadata": {},
   "outputs": [],
   "source": [
    "pl_data = pl_data.sort(\"createdon\", descending=False)"
   ]
  },
  {
   "cell_type": "code",
   "execution_count": 19,
   "metadata": {},
   "outputs": [
    {
     "name": "stdout",
     "output_type": "stream",
     "text": [
      "Unique count users shape: (1, 1)\n",
      "┌─────────┐\n",
      "│ bid     │\n",
      "│ ---     │\n",
      "│ u32     │\n",
      "╞═════════╡\n",
      "│ 2376692 │\n",
      "└─────────┘\n",
      "Count users shape: (1, 1)\n",
      "┌─────────┐\n",
      "│ bid     │\n",
      "│ ---     │\n",
      "│ u32     │\n",
      "╞═════════╡\n",
      "│ 3464222 │\n",
      "└─────────┘\n"
     ]
    }
   ],
   "source": [
    "print(f\"Unique count users {pl_data.select(pl.col('bid').n_unique())}\")\n",
    "print(f\"Count users {pl_data.select(pl.col('bid').count())}\")"
   ]
  },
  {
   "cell_type": "code",
   "execution_count": 16,
   "metadata": {},
   "outputs": [
    {
     "data": {
      "text/html": [
       "<div><style>\n",
       ".dataframe > thead > tr,\n",
       ".dataframe > tbody > tr {\n",
       "  text-align: right;\n",
       "  white-space: pre-wrap;\n",
       "}\n",
       "</style>\n",
       "<small>shape: (9, 31)</small><table border=\"1\" class=\"dataframe\"><thead><tr><th>describe</th><th>bid</th><th>channel</th><th>createdon</th><th>cust_name</th><th>date_of_birth</th><th>email</th><th>email_domain_score</th><th>email_score</th><th>godate</th><th>insurance_flg</th><th>ip</th><th>isFraud</th><th>nationality</th><th>netprice_thb</th><th>p_attempts</th><th>paidon</th><th>passenger_passport_score</th><th>passenger_score</th><th>payer_country</th><th>payer_name</th><th>proxy</th><th>recent_abuse</th><th>role_id</th><th>seats</th><th>tor</th><th>useragent</th><th>usr_name</th><th>vehclass_id</th><th>vpn</th><th>createdon_date</th></tr><tr><td>str</td><td>f64</td><td>str</td><td>str</td><td>str</td><td>str</td><td>str</td><td>f64</td><td>f64</td><td>str</td><td>f64</td><td>str</td><td>f64</td><td>str</td><td>f64</td><td>f64</td><td>str</td><td>f64</td><td>f64</td><td>str</td><td>str</td><td>f64</td><td>f64</td><td>str</td><td>f64</td><td>f64</td><td>str</td><td>str</td><td>str</td><td>f64</td><td>str</td></tr></thead><tbody><tr><td>&quot;count&quot;</td><td>3.464222e6</td><td>&quot;3346074&quot;</td><td>&quot;3464222&quot;</td><td>&quot;3464221&quot;</td><td>&quot;3429026&quot;</td><td>&quot;3464222&quot;</td><td>3.464222e6</td><td>3.464222e6</td><td>&quot;3464222&quot;</td><td>3.464222e6</td><td>&quot;3463990&quot;</td><td>3.464222e6</td><td>&quot;3464181&quot;</td><td>3.464222e6</td><td>3.464222e6</td><td>&quot;3464217&quot;</td><td>3.464222e6</td><td>3.464222e6</td><td>&quot;3464148&quot;</td><td>&quot;2167504&quot;</td><td>1.755741e6</td><td>1.755741e6</td><td>&quot;3464222&quot;</td><td>3.464222e6</td><td>1.755741e6</td><td>&quot;3463990&quot;</td><td>&quot;3459177&quot;</td><td>&quot;3464222&quot;</td><td>1.755741e6</td><td>&quot;3464222&quot;</td></tr><tr><td>&quot;null_count&quot;</td><td>0.0</td><td>&quot;118148&quot;</td><td>&quot;0&quot;</td><td>&quot;1&quot;</td><td>&quot;35196&quot;</td><td>&quot;0&quot;</td><td>0.0</td><td>0.0</td><td>&quot;0&quot;</td><td>0.0</td><td>&quot;232&quot;</td><td>0.0</td><td>&quot;41&quot;</td><td>0.0</td><td>0.0</td><td>&quot;5&quot;</td><td>0.0</td><td>0.0</td><td>&quot;74&quot;</td><td>&quot;1296718&quot;</td><td>1.708481e6</td><td>1.708481e6</td><td>&quot;0&quot;</td><td>0.0</td><td>1.708481e6</td><td>&quot;232&quot;</td><td>&quot;5045&quot;</td><td>&quot;0&quot;</td><td>1.708481e6</td><td>&quot;0&quot;</td></tr><tr><td>&quot;mean&quot;</td><td>7.7347e6</td><td>null</td><td>null</td><td>null</td><td>null</td><td>null</td><td>0.000191</td><td>3.341505</td><td>null</td><td>0.233398</td><td>null</td><td>0.002259</td><td>null</td><td>741.663618</td><td>0.11171</td><td>null</td><td>0.059503</td><td>0.124371</td><td>null</td><td>null</td><td>0.590106</td><td>0.272676</td><td>null</td><td>1.835898</td><td>0.000661</td><td>null</td><td>null</td><td>null</td><td>0.173555</td><td>null</td></tr><tr><td>&quot;std&quot;</td><td>1.2386e6</td><td>null</td><td>null</td><td>null</td><td>null</td><td>null</td><td>0.075601</td><td>3.929717</td><td>null</td><td>0.422994</td><td>null</td><td>0.047473</td><td>null</td><td>24743.221246</td><td>0.573229</td><td>null</td><td>1.334742</td><td>2.94797</td><td>null</td><td>null</td><td>0.491814</td><td>0.445336</td><td>null</td><td>1.042537</td><td>0.025706</td><td>null</td><td>null</td><td>null</td><td>0.378727</td><td>null</td></tr><tr><td>&quot;min&quot;</td><td>5.590536e6</td><td>&quot;affiliate&quot;</td><td>&quot;2021-04-30 17:…</td><td>&quot;AARON ANDERSON…</td><td>&quot;1936-01-28 00:…</td><td>&quot;BARNETTASHLEY@…</td><td>0.0</td><td>0.0</td><td>&quot;2019-12-24 07:…</td><td>0.0</td><td>&quot;0.0.0.0&quot;</td><td>0.0</td><td>&quot;AB&quot;</td><td>-4836.958984</td><td>0.0</td><td>&quot;2019-12-21 09:…</td><td>0.0</td><td>0.0</td><td>&quot;AD&quot;</td><td>&quot;AARON ABBOTT&quot;</td><td>0.0</td><td>0.0</td><td>&quot;accountant&quot;</td><td>1.0</td><td>0.0</td><td>&quot;Desktop,ar,CAD…</td><td>&quot;AARON BAKER&quot;</td><td>&quot;avia&quot;</td><td>0.0</td><td>&quot;2021-04-30&quot;</td></tr><tr><td>&quot;25%&quot;</td><td>6.66149e6</td><td>null</td><td>null</td><td>null</td><td>null</td><td>null</td><td>0.0</td><td>0.0</td><td>null</td><td>0.0</td><td>null</td><td>0.0</td><td>null</td><td>260.0</td><td>0.0</td><td>null</td><td>0.0</td><td>0.0</td><td>null</td><td>null</td><td>0.0</td><td>0.0</td><td>null</td><td>1.0</td><td>0.0</td><td>null</td><td>null</td><td>null</td><td>0.0</td><td>null</td></tr><tr><td>&quot;50%&quot;</td><td>7.734956e6</td><td>null</td><td>null</td><td>null</td><td>null</td><td>null</td><td>0.0</td><td>2.0</td><td>null</td><td>0.0</td><td>null</td><td>0.0</td><td>null</td><td>480.0</td><td>0.0</td><td>null</td><td>0.0</td><td>0.0</td><td>null</td><td>null</td><td>1.0</td><td>0.0</td><td>null</td><td>2.0</td><td>0.0</td><td>null</td><td>null</td><td>null</td><td>0.0</td><td>null</td></tr><tr><td>&quot;75%&quot;</td><td>8.807322e6</td><td>null</td><td>null</td><td>null</td><td>null</td><td>null</td><td>0.0</td><td>5.0</td><td>null</td><td>0.0</td><td>null</td><td>0.0</td><td>null</td><td>800.0</td><td>0.0</td><td>null</td><td>0.0</td><td>0.0</td><td>null</td><td>null</td><td>1.0</td><td>1.0</td><td>null</td><td>2.0</td><td>0.0</td><td>null</td><td>null</td><td>null</td><td>0.0</td><td>null</td></tr><tr><td>&quot;max&quot;</td><td>9.880728e6</td><td>&quot;unknown&quot;</td><td>&quot;2023-11-30 16:…</td><td>&quot;zoe horton&quot;</td><td>&quot;2020-02-06 00:…</td><td>&quot;zzuniga@me.com…</td><td>30.0</td><td>10.0</td><td>&quot;2035-12-16 11:…</td><td>1.0</td><td>&quot;99.99.63.19&quot;</td><td>1.0</td><td>&quot;ZZ&quot;</td><td>1.7319928e7</td><td>144.0</td><td>&quot;2035-12-14 03:…</td><td>30.0</td><td>70.0</td><td>&quot;ZW&quot;</td><td>&quot;ธนาคารไทยพาณิช…</td><td>1.0</td><td>1.0</td><td>&quot;visitor&quot;</td><td>140.0</td><td>1.0</td><td>&quot;Tablet,zh,VND&quot;</td><td>&quot;zachary young&quot;</td><td>&quot;van&quot;</td><td>1.0</td><td>&quot;2023-11-30&quot;</td></tr></tbody></table></div>"
      ],
      "text/plain": [
       "shape: (9, 31)\n",
       "┌───────────┬───────────┬───────────┬───────────┬───┬───────────┬───────────┬───────────┬──────────┐\n",
       "│ describe  ┆ bid       ┆ channel   ┆ createdon ┆ … ┆ usr_name  ┆ vehclass_ ┆ vpn       ┆ createdo │\n",
       "│ ---       ┆ ---       ┆ ---       ┆ ---       ┆   ┆ ---       ┆ id        ┆ ---       ┆ n_date   │\n",
       "│ str       ┆ f64       ┆ str       ┆ str       ┆   ┆ str       ┆ ---       ┆ f64       ┆ ---      │\n",
       "│           ┆           ┆           ┆           ┆   ┆           ┆ str       ┆           ┆ str      │\n",
       "╞═══════════╪═══════════╪═══════════╪═══════════╪═══╪═══════════╪═══════════╪═══════════╪══════════╡\n",
       "│ count     ┆ 3.464222e ┆ 3346074   ┆ 3464222   ┆ … ┆ 3459177   ┆ 3464222   ┆ 1.755741e ┆ 3464222  │\n",
       "│           ┆ 6         ┆           ┆           ┆   ┆           ┆           ┆ 6         ┆          │\n",
       "│ null_coun ┆ 0.0       ┆ 118148    ┆ 0         ┆ … ┆ 5045      ┆ 0         ┆ 1.708481e ┆ 0        │\n",
       "│ t         ┆           ┆           ┆           ┆   ┆           ┆           ┆ 6         ┆          │\n",
       "│ mean      ┆ 7.7347e6  ┆ null      ┆ null      ┆ … ┆ null      ┆ null      ┆ 0.173555  ┆ null     │\n",
       "│ std       ┆ 1.2386e6  ┆ null      ┆ null      ┆ … ┆ null      ┆ null      ┆ 0.378727  ┆ null     │\n",
       "│ min       ┆ 5.590536e ┆ affiliate ┆ 2021-04-3 ┆ … ┆ AARON     ┆ avia      ┆ 0.0       ┆ 2021-04- │\n",
       "│           ┆ 6         ┆           ┆ 0 17:21:1 ┆   ┆ BAKER     ┆           ┆           ┆ 30       │\n",
       "│           ┆           ┆           ┆ 7+00:00   ┆   ┆           ┆           ┆           ┆          │\n",
       "│ 25%       ┆ 6.66149e6 ┆ null      ┆ null      ┆ … ┆ null      ┆ null      ┆ 0.0       ┆ null     │\n",
       "│ 50%       ┆ 7.734956e ┆ null      ┆ null      ┆ … ┆ null      ┆ null      ┆ 0.0       ┆ null     │\n",
       "│           ┆ 6         ┆           ┆           ┆   ┆           ┆           ┆           ┆          │\n",
       "│ 75%       ┆ 8.807322e ┆ null      ┆ null      ┆ … ┆ null      ┆ null      ┆ 0.0       ┆ null     │\n",
       "│           ┆ 6         ┆           ┆           ┆   ┆           ┆           ┆           ┆          │\n",
       "│ max       ┆ 9.880728e ┆ unknown   ┆ 2023-11-3 ┆ … ┆ zachary   ┆ van       ┆ 1.0       ┆ 2023-11- │\n",
       "│           ┆ 6         ┆           ┆ 0 16:59:5 ┆   ┆ young     ┆           ┆           ┆ 30       │\n",
       "│           ┆           ┆           ┆ 2+00:00   ┆   ┆           ┆           ┆           ┆          │\n",
       "└───────────┴───────────┴───────────┴───────────┴───┴───────────┴───────────┴───────────┴──────────┘"
      ]
     },
     "execution_count": 16,
     "metadata": {},
     "output_type": "execute_result"
    }
   ],
   "source": [
    "pl_data.describe()"
   ]
  },
  {
   "cell_type": "code",
   "execution_count": 11,
   "metadata": {},
   "outputs": [],
   "source": [
    "pl_data = pl_data.with_columns(pl.col(\"createdon\").dt.date().alias(\"createdon_date\"))"
   ]
  },
  {
   "cell_type": "code",
   "execution_count": null,
   "metadata": {},
   "outputs": [],
   "source": [
    "grouped_data_fraud = pl_data.group_by(\"createdon_date\").agg(\n",
    "    pl.sum(\"isFraud\").alias(\"Amount_Fraud\"),\n",
    "    pl.count(\"bid\").alias(\"Amount_Users_transaction\"),\n",
    ")"
   ]
  },
  {
   "cell_type": "markdown",
   "metadata": {},
   "source": [
    "### Time Series Analysis\n",
    "* Based on the total number of transactions and fraudulent transactions. It can be seen that the year 2023 is a high activity of users, that is, the service is becoming popular and thus the number of frauds has increased accordingly \n",
    "* 2023-10-25 is the date for spliting into training and testing the model, since we take the entire year 2022 and active fraud attacks in 2023"
   ]
  },
  {
   "cell_type": "code",
   "execution_count": 36,
   "metadata": {},
   "outputs": [
    {
     "data": {
      "image/png": "[encoded data removed]",
      "text/plain": [
       "<Figure size 640x480 with 1 Axes>"
      ]
     },
     "metadata": {},
     "output_type": "display_data"
    }
   ],
   "source": [
    "sns.lineplot(\n",
    "    data=grouped_data_fraud.to_pandas(),\n",
    "    x=\"createdon_date\",\n",
    "    y=\"Amount_Users_transaction\",\n",
    ")\n",
    "plt.grid()\n",
    "plt.show()"
   ]
  },
  {
   "cell_type": "code",
   "execution_count": null,
   "metadata": {},
   "outputs": [
    {
     "data": {
      "image/png": "[encoded data removed]",
      "text/plain": [
       "<Figure size 640x480 with 1 Axes>"
      ]
     },
     "metadata": {},
     "output_type": "display_data"
    }
   ],
   "source": [
    "sns.lineplot(\n",
    "    data=grouped_data_fraud.to_pandas(),\n",
    "    x=\"createdon_date\",\n",
    "    y=\"Amount_Fraud\",\n",
    ")\n",
    "plt.grid()\n",
    "plt.show()"
   ]
  },
  {
   "cell_type": "markdown",
   "metadata": {},
   "source": [
    "## Fraud analysis by attraction channels\n",
    "\n",
    "### Rating of channels by the absolute amount of fraud:\n",
    "1. **direct**: 2402 cases\n",
    "2. **organic**: 1860 cases\n",
    "3. **affiliate**: 1,549 cases\n",
    "4. **paid**: 1040 cases\n",
    "\n",
    "### Channel rating by fraud_rate (percentage of fraud):\n",
    "- **direct**: 0.56% - the highest percentage\n",
    "- **organic**: 0.34%\n",
    "- **email**: 0.82% - very high percentage, but low number of transactions\n",
    "- **affiliate**: 0.18%\n",
    "\n",
    "### Key observations:\n",
    "* The partner channel has no fraudulent transactions (0%), but the total number of transactions is only 20\n",
    "* The \"email\" channel shows the highest percentage of fraud (0.82%), with a small number of transactions (10,505)\n",
    "* Direct traffic leads both in terms of the absolute number of fraud and percentage\n",
    "\n",
    "### Channel transaction volume:\n",
    "1. paid: 1,077,484 (the largest amount)\n",
    "2. affiliate: 863,866\n",
    "3. organic: 542,862\n",
    "4. direct: 435,377\n",
    "\n",
    "### Conclusions for the anti-fraud system:\n",
    "1. Enhanced channel monitoring is required:\n",
    "- Direct (high% and quantity)\n",
    "- Email (high%)\n",
    "2. It is possible to set different thresholds for different channels"
   ]
  },
  {
   "cell_type": "code",
   "execution_count": null,
   "metadata": {},
   "outputs": [
    {
     "data": {
      "text/html": [
       "<div><style>\n",
       ".dataframe > thead > tr,\n",
       ".dataframe > tbody > tr {\n",
       "  text-align: right;\n",
       "  white-space: pre-wrap;\n",
       "}\n",
       "</style>\n",
       "<small>shape: (9, 4)</small><table border=\"1\" class=\"dataframe\"><thead><tr><th>channel</th><th>sum_isFraud</th><th>total_transactions</th><th>fraud_rate</th></tr><tr><td>str</td><td>i64</td><td>u32</td><td>f64</td></tr></thead><tbody><tr><td>&quot;direct&quot;</td><td>2402</td><td>435377</td><td>0.551706</td></tr><tr><td>&quot;organic&quot;</td><td>1860</td><td>542862</td><td>0.342629</td></tr><tr><td>&quot;affiliate&quot;</td><td>1549</td><td>863866</td><td>0.17931</td></tr><tr><td>&quot;paid&quot;</td><td>1040</td><td>1077484</td><td>0.096521</td></tr><tr><td>&quot;referral&quot;</td><td>307</td><td>152190</td><td>0.201722</td></tr><tr><td>&quot;unknown&quot;</td><td>304</td><td>263770</td><td>0.115252</td></tr><tr><td>null</td><td>277</td><td>118148</td><td>0.234452</td></tr><tr><td>&quot;email&quot;</td><td>86</td><td>10505</td><td>0.818658</td></tr><tr><td>&quot;partner&quot;</td><td>0</td><td>20</td><td>0.0</td></tr></tbody></table></div>"
      ],
      "text/plain": [
       "shape: (9, 4)\n",
       "┌───────────┬─────────────┬────────────────────┬────────────┐\n",
       "│ channel   ┆ sum_isFraud ┆ total_transactions ┆ fraud_rate │\n",
       "│ ---       ┆ ---         ┆ ---                ┆ ---        │\n",
       "│ str       ┆ i64         ┆ u32                ┆ f64        │\n",
       "╞═══════════╪═════════════╪════════════════════╪════════════╡\n",
       "│ direct    ┆ 2402        ┆ 435377             ┆ 0.551706   │\n",
       "│ organic   ┆ 1860        ┆ 542862             ┆ 0.342629   │\n",
       "│ affiliate ┆ 1549        ┆ 863866             ┆ 0.17931    │\n",
       "│ paid      ┆ 1040        ┆ 1077484            ┆ 0.096521   │\n",
       "│ referral  ┆ 307         ┆ 152190             ┆ 0.201722   │\n",
       "│ unknown   ┆ 304         ┆ 263770             ┆ 0.115252   │\n",
       "│ null      ┆ 277         ┆ 118148             ┆ 0.234452   │\n",
       "│ email     ┆ 86          ┆ 10505              ┆ 0.818658   │\n",
       "│ partner   ┆ 0           ┆ 20                 ┆ 0.0        │\n",
       "└───────────┴─────────────┴────────────────────┴────────────┘"
      ]
     },
     "execution_count": 48,
     "metadata": {},
     "output_type": "execute_result"
    }
   ],
   "source": [
    "(\n",
    "    pl_data.group_by(\"channel\")\n",
    "    .agg(\n",
    "        pl.sum(\"isFraud\").alias(\"sum_isFraud\"),\n",
    "        pl.count(\"bid\").alias(\"total_transactions\"),\n",
    "        (pl.sum(\"isFraud\") / pl.count(\"bid\") * 100).alias(\"fraud_rate\"),\n",
    "    )\n",
    "    .sort(\"sum_isFraud\", descending=True)\n",
    ").head(20)"
   ]
  },
  {
   "cell_type": "markdown",
   "metadata": {},
   "source": [
    "### Fraud and insurance analysis\n",
    "\n",
    "### Statistics:\n",
    "1. Without insurance (insurance_flg = 0):\n",
    "- Number of frauds: 4,254\n",
    "- Total transactions: 2,655,679\n",
    "- Fraud rate: 0.16%\n",
    "\n",
    "2. With insurance (insurance_flg = 1):\n",
    "- Number of frauds: 3,571\n",
    "- Total transactions: 808,543\n",
    "- Fraud rate: 0.44%\n",
    "\n",
    "### Key observations:\n",
    "- Insurance transactions have almost 3 times higher fraud rate (0.44% vs 0.16%)\n",
    "- Most transactions (77%) take place without insurance\n",
    "- Despite the lower number of insurance transactions, they contain almost the same number of fraud cases.\n",
    "\n",
    "### Withdrawal for the anti-fraud system:\n",
    "- The availability of insurance can be an important signal for detecting potential fraud\n",
    "- More thorough verification of insurance transactions is recommended"
   ]
  },
  {
   "cell_type": "code",
   "execution_count": 42,
   "metadata": {},
   "outputs": [
    {
     "data": {
      "text/html": [
       "<div><style>\n",
       ".dataframe > thead > tr,\n",
       ".dataframe > tbody > tr {\n",
       "  text-align: right;\n",
       "  white-space: pre-wrap;\n",
       "}\n",
       "</style>\n",
       "<small>shape: (2, 4)</small><table border=\"1\" class=\"dataframe\"><thead><tr><th>insurance_flg</th><th>sum_isFraud</th><th>total_transactions</th><th>fraud_rate</th></tr><tr><td>i64</td><td>i64</td><td>u32</td><td>f64</td></tr></thead><tbody><tr><td>0</td><td>4254</td><td>2655679</td><td>0.160185</td></tr><tr><td>1</td><td>3571</td><td>808543</td><td>0.441659</td></tr></tbody></table></div>"
      ],
      "text/plain": [
       "shape: (2, 4)\n",
       "┌───────────────┬─────────────┬────────────────────┬────────────┐\n",
       "│ insurance_flg ┆ sum_isFraud ┆ total_transactions ┆ fraud_rate │\n",
       "│ ---           ┆ ---         ┆ ---                ┆ ---        │\n",
       "│ i64           ┆ i64         ┆ u32                ┆ f64        │\n",
       "╞═══════════════╪═════════════╪════════════════════╪════════════╡\n",
       "│ 0             ┆ 4254        ┆ 2655679            ┆ 0.160185   │\n",
       "│ 1             ┆ 3571        ┆ 808543             ┆ 0.441659   │\n",
       "└───────────────┴─────────────┴────────────────────┴────────────┘"
      ]
     },
     "execution_count": 42,
     "metadata": {},
     "output_type": "execute_result"
    }
   ],
   "source": [
    "(\n",
    "    pl_data.group_by(\"insurance_flg\")\n",
    "    .agg(\n",
    "        pl.sum(\"isFraud\").alias(\"sum_isFraud\"),\n",
    "        pl.count(\"bid\").alias(\"total_transactions\"),\n",
    "        (pl.sum(\"isFraud\") / pl.count(\"bid\") * 100).alias(\"fraud_rate\"),\n",
    "    )\n",
    "    .sort(\"sum_isFraud\", descending=True)\n",
    ")"
   ]
  },
  {
   "cell_type": "markdown",
   "metadata": {},
   "source": [
    "### Fraud analysis by payer countries (top 20)\n",
    "\n",
    "### Top 5 countries by the absolute amount of fraud:\n",
    "1. **NU**: 3,395 cases (25.5% of transactions)\n",
    "2. **US**: 1,680 cases (1.43% of transactions)\n",
    "3. **CA**: 433 cases (0.88% of transactions)\n",
    "4. **JP**: 300 cases (0.94% of transactions)\n",
    "5. **AT**: 202 cases (0.63% of transactions)\n",
    "\n",
    "### Top 5 countries by fraud_rate (among countries with a significant number of transactions):\n",
    "1. **MX**: 1.43% (69 cases out of 4,830 transactions)\n",
    "2. **US**: 1.43% (1,680 cases out of 117,571 transactions)\n",
    "3. **AR**: 1.15% (86 cases out of 7,461 transactions)\n",
    "4. **JP**: 0.94% (300 cases out of 31,715 transactions)\n",
    "5. **CA**: 0.88% (433 cases out of 49,159 transactions)\n",
    "\n",
    "### Key observations:\n",
    "- **NU** (Not Known/Unknown) leads in the number of scams (3,395) with a high fraud_rate (0.25%)\n",
    "- Developed countries (US, CA, JP) show a high percentage of fraud\n",
    "- Some European countries (DE, GB, FR) have relatively low fraud_rate (< 0.1%)\n",
    "- Latin American countries (MX, AR) show high fraud_rate with a small volume of transactions"
   ]
  },
  {
   "cell_type": "code",
   "execution_count": null,
   "metadata": {},
   "outputs": [
    {
     "data": {
      "text/html": [
       "<div><style>\n",
       ".dataframe > thead > tr,\n",
       ".dataframe > tbody > tr {\n",
       "  text-align: right;\n",
       "  white-space: pre-wrap;\n",
       "}\n",
       "</style>\n",
       "<small>shape: (20, 4)</small><table border=\"1\" class=\"dataframe\"><thead><tr><th>payer_country</th><th>sum_isFraud</th><th>total_transactions</th><th>fraud_rate</th></tr><tr><td>str</td><td>i64</td><td>u32</td><td>f64</td></tr></thead><tbody><tr><td>&quot;NU&quot;</td><td>3395</td><td>1344799</td><td>0.252454</td></tr><tr><td>&quot;US&quot;</td><td>1680</td><td>117571</td><td>1.428924</td></tr><tr><td>&quot;CA&quot;</td><td>433</td><td>49159</td><td>0.880815</td></tr><tr><td>&quot;JP&quot;</td><td>300</td><td>31715</td><td>0.945925</td></tr><tr><td>&quot;AT&quot;</td><td>202</td><td>31923</td><td>0.632773</td></tr><tr><td>&quot;DE&quot;</td><td>195</td><td>271934</td><td>0.071709</td></tr><tr><td>&quot;GB&quot;</td><td>171</td><td>244118</td><td>0.070048</td></tr><tr><td>&quot;AU&quot;</td><td>147</td><td>86740</td><td>0.169472</td></tr><tr><td>&quot;FR&quot;</td><td>125</td><td>228024</td><td>0.054819</td></tr><tr><td>&quot;IN&quot;</td><td>94</td><td>38623</td><td>0.243378</td></tr><tr><td>&quot;AR&quot;</td><td>86</td><td>7461</td><td>1.152661</td></tr><tr><td>&quot;MX&quot;</td><td>69</td><td>4830</td><td>1.428571</td></tr><tr><td>&quot;NL&quot;</td><td>62</td><td>172256</td><td>0.035993</td></tr><tr><td>&quot;BR&quot;</td><td>62</td><td>13534</td><td>0.458106</td></tr><tr><td>&quot;ES&quot;</td><td>52</td><td>98609</td><td>0.052734</td></tr><tr><td>&quot;ID&quot;</td><td>46</td><td>8765</td><td>0.524815</td></tr><tr><td>&quot;VN&quot;</td><td>43</td><td>9402</td><td>0.45735</td></tr><tr><td>&quot;IL&quot;</td><td>37</td><td>26794</td><td>0.138091</td></tr><tr><td>&quot;KR&quot;</td><td>34</td><td>24236</td><td>0.140287</td></tr><tr><td>&quot;IT&quot;</td><td>33</td><td>35764</td><td>0.092272</td></tr></tbody></table></div>"
      ],
      "text/plain": [
       "shape: (20, 4)\n",
       "┌───────────────┬─────────────┬────────────────────┬────────────┐\n",
       "│ payer_country ┆ sum_isFraud ┆ total_transactions ┆ fraud_rate │\n",
       "│ ---           ┆ ---         ┆ ---                ┆ ---        │\n",
       "│ str           ┆ i64         ┆ u32                ┆ f64        │\n",
       "╞═══════════════╪═════════════╪════════════════════╪════════════╡\n",
       "│ NU            ┆ 3395        ┆ 1344799            ┆ 0.252454   │\n",
       "│ US            ┆ 1680        ┆ 117571             ┆ 1.428924   │\n",
       "│ CA            ┆ 433         ┆ 49159              ┆ 0.880815   │\n",
       "│ JP            ┆ 300         ┆ 31715              ┆ 0.945925   │\n",
       "│ …             ┆ …           ┆ …                  ┆ …          │\n",
       "│ VN            ┆ 43          ┆ 9402               ┆ 0.45735    │\n",
       "│ IL            ┆ 37          ┆ 26794              ┆ 0.138091   │\n",
       "│ KR            ┆ 34          ┆ 24236              ┆ 0.140287   │\n",
       "│ IT            ┆ 33          ┆ 35764              ┆ 0.092272   │\n",
       "└───────────────┴─────────────┴────────────────────┴────────────┘"
      ]
     },
     "execution_count": 11,
     "metadata": {},
     "output_type": "execute_result"
    }
   ],
   "source": [
    "(\n",
    "    pl_data.group_by(\"payer_country\")\n",
    "    .agg(\n",
    "        pl.sum(\"isFraud\").alias(\"sum_isFraud\"),\n",
    "        pl.count(\"bid\").alias(\"total_transactions\"),\n",
    "        (pl.sum(\"isFraud\") / pl.count(\"bid\") * 100).alias(\"fraud_rate\"),\n",
    "    )\n",
    "    .sort(\"sum_isFraud\", descending=True)\n",
    ").head(20)"
   ]
  },
  {
   "cell_type": "code",
   "execution_count": 14,
   "metadata": {},
   "outputs": [],
   "source": [
    "def convert_iso2_to_iso3(iso2_code):\n",
    "    try:\n",
    "        return pycountry.countries.get(alpha_2=iso2_code).alpha_3\n",
    "    except:\n",
    "        return None"
   ]
  },
  {
   "cell_type": "code",
   "execution_count": null,
   "metadata": {},
   "outputs": [],
   "source": [
    "fraud_by_country = (\n",
    "    pl_data.group_by(\"payer_country\")\n",
    "    .agg(pl.sum(\"isFraud\").alias(\"sum_isFraud\"), pl.count().alias(\"total_transactions\"))\n",
    "    .sort(\"sum_isFraud\", descending=True)\n",
    ").to_pandas()"
   ]
  },
  {
   "cell_type": "code",
   "execution_count": 13,
   "metadata": {},
   "outputs": [],
   "source": [
    "fraud_by_country[\"fraud_rate\"] = (\n",
    "    fraud_by_country[\"sum_isFraud\"] / fraud_by_country[\"total_transactions\"] * 100\n",
    ")"
   ]
  },
  {
   "cell_type": "code",
   "execution_count": 15,
   "metadata": {},
   "outputs": [],
   "source": [
    "fraud_by_country[\"iso3\"] = fraud_by_country[\"payer_country\"].apply(convert_iso2_to_iso3)"
   ]
  },
  {
   "cell_type": "code",
   "execution_count": 18,
   "metadata": {},
   "outputs": [
    {
     "data": {
      "text/html": [
       "<div>\n",
       "<style scoped>\n",
       "    .dataframe tbody tr th:only-of-type {\n",
       "        vertical-align: middle;\n",
       "    }\n",
       "\n",
       "    .dataframe tbody tr th {\n",
       "        vertical-align: top;\n",
       "    }\n",
       "\n",
       "    .dataframe thead th {\n",
       "        text-align: right;\n",
       "    }\n",
       "</style>\n",
       "<table border=\"1\" class=\"dataframe\">\n",
       "  <thead>\n",
       "    <tr style=\"text-align: right;\">\n",
       "      <th></th>\n",
       "      <th>payer_country</th>\n",
       "      <th>sum_isFraud</th>\n",
       "      <th>total_transactions</th>\n",
       "      <th>fraud_rate</th>\n",
       "      <th>iso3</th>\n",
       "    </tr>\n",
       "  </thead>\n",
       "  <tbody>\n",
       "    <tr>\n",
       "      <th>0</th>\n",
       "      <td>NU</td>\n",
       "      <td>3395</td>\n",
       "      <td>1344799</td>\n",
       "      <td>0.252454</td>\n",
       "      <td>NIU</td>\n",
       "    </tr>\n",
       "    <tr>\n",
       "      <th>1</th>\n",
       "      <td>US</td>\n",
       "      <td>1680</td>\n",
       "      <td>117571</td>\n",
       "      <td>1.428924</td>\n",
       "      <td>USA</td>\n",
       "    </tr>\n",
       "    <tr>\n",
       "      <th>2</th>\n",
       "      <td>CA</td>\n",
       "      <td>433</td>\n",
       "      <td>49159</td>\n",
       "      <td>0.880815</td>\n",
       "      <td>CAN</td>\n",
       "    </tr>\n",
       "    <tr>\n",
       "      <th>3</th>\n",
       "      <td>JP</td>\n",
       "      <td>300</td>\n",
       "      <td>31715</td>\n",
       "      <td>0.945925</td>\n",
       "      <td>JPN</td>\n",
       "    </tr>\n",
       "    <tr>\n",
       "      <th>4</th>\n",
       "      <td>AT</td>\n",
       "      <td>202</td>\n",
       "      <td>31923</td>\n",
       "      <td>0.632773</td>\n",
       "      <td>AUT</td>\n",
       "    </tr>\n",
       "    <tr>\n",
       "      <th>...</th>\n",
       "      <td>...</td>\n",
       "      <td>...</td>\n",
       "      <td>...</td>\n",
       "      <td>...</td>\n",
       "      <td>...</td>\n",
       "    </tr>\n",
       "    <tr>\n",
       "      <th>193</th>\n",
       "      <td>NR</td>\n",
       "      <td>0</td>\n",
       "      <td>1</td>\n",
       "      <td>0.000000</td>\n",
       "      <td>NRU</td>\n",
       "    </tr>\n",
       "    <tr>\n",
       "      <th>194</th>\n",
       "      <td>YT</td>\n",
       "      <td>0</td>\n",
       "      <td>1</td>\n",
       "      <td>0.000000</td>\n",
       "      <td>MYT</td>\n",
       "    </tr>\n",
       "    <tr>\n",
       "      <th>195</th>\n",
       "      <td>ZW</td>\n",
       "      <td>0</td>\n",
       "      <td>17</td>\n",
       "      <td>0.000000</td>\n",
       "      <td>ZWE</td>\n",
       "    </tr>\n",
       "    <tr>\n",
       "      <th>196</th>\n",
       "      <td>KI</td>\n",
       "      <td>0</td>\n",
       "      <td>3</td>\n",
       "      <td>0.000000</td>\n",
       "      <td>KIR</td>\n",
       "    </tr>\n",
       "    <tr>\n",
       "      <th>197</th>\n",
       "      <td>NI</td>\n",
       "      <td>0</td>\n",
       "      <td>30</td>\n",
       "      <td>0.000000</td>\n",
       "      <td>NIC</td>\n",
       "    </tr>\n",
       "  </tbody>\n",
       "</table>\n",
       "<p>198 rows × 5 columns</p>\n",
       "</div>"
      ],
      "text/plain": [
       "    payer_country  sum_isFraud  total_transactions  fraud_rate iso3\n",
       "0              NU         3395             1344799    0.252454  NIU\n",
       "1              US         1680              117571    1.428924  USA\n",
       "2              CA          433               49159    0.880815  CAN\n",
       "3              JP          300               31715    0.945925  JPN\n",
       "4              AT          202               31923    0.632773  AUT\n",
       "..            ...          ...                 ...         ...  ...\n",
       "193            NR            0                   1    0.000000  NRU\n",
       "194            YT            0                   1    0.000000  MYT\n",
       "195            ZW            0                  17    0.000000  ZWE\n",
       "196            KI            0                   3    0.000000  KIR\n",
       "197            NI            0                  30    0.000000  NIC\n",
       "\n",
       "[198 rows x 5 columns]"
      ]
     },
     "execution_count": 18,
     "metadata": {},
     "output_type": "execute_result"
    }
   ],
   "source": [
    "fraud_by_country"
   ]
  },
  {
   "cell_type": "code",
   "execution_count": 22,
   "metadata": {},
   "outputs": [],
   "source": [
    "fig = px.choropleth(\n",
    "    fraud_by_country,\n",
    "    locations=\"iso3\", \n",
    "    locationmode=\"ISO-3\",\n",
    "    color=\"sum_isFraud\",\n",
    "    hover_name=\"payer_country\",\n",
    "    hover_data=[\n",
    "        \"total_transactions\",\n",
    "        \"fraud_rate\",\n",
    "    ],\n",
    "    color_continuous_scale=\"Reds\",\n",
    "    title=\"Distribution of Fraudulent Transactions by Country\",\n",
    ")"
   ]
  },
  {
   "cell_type": "code",
   "execution_count": 49,
   "metadata": {},
   "outputs": [
    {
     "data": {
      "application/vnd.plotly.v1+json": {
       "config": {
        "plotlyServerURL": "https://plot.ly"
       },
       "data": [
        {
         "coloraxis": "coloraxis",
         "customdata": [
          [
           1344799,
           0.25245408421630294
          ],
          [
           117571,
           1.4289237992362063
          ],
          [
           49159,
           0.8808153135743201
          ],
          [
           31715,
           0.9459246413369068
          ],
          [
           31923,
           0.6327726090906243
          ],
          [
           271934,
           0.07170857634573095
          ],
          [
           244118,
           0.07004809149673519
          ],
          [
           86740,
           0.16947198524325569
          ],
          [
           228024,
           0.05481879100445568
          ],
          [
           38623,
           0.24337829790539314
          ],
          [
           7461,
           1.1526605012732878
          ],
          [
           4830,
           1.4285714285714286
          ],
          [
           172256,
           0.03599294073936466
          ],
          [
           13534,
           0.45810551204374167
          ],
          [
           98609,
           0.05273352330923141
          ],
          [
           8765,
           0.5248146035367941
          ],
          [
           9402,
           0.45734950010636033
          ],
          [
           26794,
           0.13809061730238112
          ],
          [
           24236,
           0.14028717610166694
          ],
          [
           35764,
           0.09227155799127615
          ],
          [
           186107,
           0.017194409667556837
          ],
          [
           6265,
           0.4788507581803671
          ],
          [
           43080,
           0.06035283194057567
          ],
          [
           30743,
           0.06505545977946199
          ],
          [
           3220,
           0.6211180124223602
          ],
          [
           15592,
           0.12827090815802974
          ],
          [
           18386,
           0.10333949744370716
          ],
          [
           130,
           14.615384615384617
          ],
          [
           18860,
           0.10074231177094381
          ],
          [
           6212,
           0.2897617514488087
          ],
          [
           11683,
           0.1455105709150047
          ],
          [
           38943,
           0.04365354492463344
          ],
          [
           5765,
           0.2775368603642671
          ],
          [
           7098,
           0.18315018315018314
          ],
          [
           4049,
           0.3210669301061991
          ],
          [
           1660,
           0.7228915662650602
          ],
          [
           21953,
           0.054662232952216096
          ],
          [
           429,
           2.797202797202797
          ],
          [
           26180,
           0.04583651642475172
          ],
          [
           4399,
           0.25005683109797683
          ],
          [
           15486,
           0.06457445434586077
          ],
          [
           960,
           1.0416666666666665
          ],
          [
           10961,
           0.09123255177447313
          ],
          [
           2162,
           0.46253469010175763
          ],
          [
           75,
           10.666666666666668
          ],
          [
           121,
           5.785123966942149
          ],
          [
           22247,
           0.03146491661797096
          ],
          [
           2342,
           0.25619128949615716
          ],
          [
           5320,
           0.11278195488721805
          ],
          [
           5432,
           0.09204712812960235
          ],
          [
           1768,
           0.2828054298642534
          ],
          [
           976,
           0.5122950819672131
          ],
          [
           7145,
           0.06997900629811056
          ],
          [
           9322,
           0.053636558678395195
          ],
          [
           2361,
           0.21177467174925876
          ],
          [
           98,
           5.1020408163265305
          ],
          [
           1203,
           0.3325020781379884
          ],
          [
           1291,
           0.3098373353989156
          ],
          [
           645,
           0.6201550387596899
          ],
          [
           10550,
           0.028436018957345974
          ],
          [
           796,
           0.37688442211055273
          ],
          [
           331,
           0.906344410876133
          ],
          [
           76,
           3.9473684210526314
          ],
          [
           2085,
           0.14388489208633093
          ],
          [
           10366,
           0.02894076789504148
          ],
          [
           3225,
           0.09302325581395349
          ],
          [
           8452,
           0.035494557501183154
          ],
          [
           5,
           60
          ],
          [
           62,
           4.838709677419355
          ],
          [
           76,
           3.9473684210526314
          ],
          [
           335,
           0.5970149253731344
          ],
          [
           24,
           8.333333333333332
          ],
          [
           211,
           0.9478672985781991
          ],
          [
           40,
           5
          ],
          [
           107,
           1.8691588785046727
          ],
          [
           4,
           50
          ],
          [
           2687,
           0.07443245254931151
          ],
          [
           202,
           0.9900990099009901
          ],
          [
           1273,
           0.15710919088766695
          ],
          [
           729,
           0.2743484224965706
          ],
          [
           4,
           50
          ],
          [
           40,
           2.5
          ],
          [
           1164,
           0.0859106529209622
          ],
          [
           17,
           5.88235294117647
          ],
          [
           6,
           16.666666666666664
          ],
          [
           612,
           0.16339869281045752
          ],
          [
           849,
           0.11778563015312131
          ],
          [
           46,
           2.1739130434782608
          ],
          [
           1673,
           0.059772863120143446
          ],
          [
           1989,
           0.050276520864756154
          ],
          [
           145,
           0.6896551724137931
          ],
          [
           3191,
           0.031338138514572234
          ],
          [
           136,
           0.7352941176470588
          ],
          [
           4427,
           0.0225886604924328
          ],
          [
           7,
           14.285714285714285
          ],
          [
           1542,
           0.06485084306095978
          ],
          [
           390,
           0.2564102564102564
          ],
          [
           13,
           7.6923076923076925
          ],
          [
           35,
           2.857142857142857
          ],
          [
           521,
           0.19193857965451055
          ],
          [
           12,
           8.333333333333332
          ],
          [
           367,
           0.2724795640326975
          ],
          [
           430,
           0.23255813953488372
          ],
          [
           28,
           3.571428571428571
          ],
          [
           4,
           25
          ],
          [
           231,
           0.4329004329004329
          ],
          [
           7,
           0
          ],
          [
           8,
           0
          ],
          [
           7,
           0
          ],
          [
           14,
           0
          ],
          [
           387,
           0
          ],
          [
           8,
           0
          ],
          [
           2,
           0
          ],
          [
           3360,
           0
          ],
          [
           189,
           0
          ],
          [
           4,
           0
          ],
          [
           110,
           0
          ],
          [
           7,
           0
          ],
          [
           2,
           0
          ],
          [
           375,
           0
          ],
          [
           5,
           0
          ],
          [
           3,
           0
          ],
          [
           2,
           0
          ],
          [
           17,
           0
          ],
          [
           37,
           0
          ],
          [
           3,
           0
          ],
          [
           3,
           0
          ],
          [
           3,
           0
          ],
          [
           3,
           0
          ],
          [
           38,
           0
          ],
          [
           1782,
           0
          ],
          [
           15,
           0
          ],
          [
           1,
           0
          ],
          [
           7,
           0
          ],
          [
           20,
           0
          ],
          [
           116,
           0
          ],
          [
           17,
           0
          ],
          [
           1,
           0
          ],
          [
           1,
           0
          ],
          [
           1177,
           0
          ],
          [
           15,
           0
          ],
          [
           1,
           0
          ],
          [
           74,
           0
          ],
          [
           10,
           0
          ],
          [
           677,
           0
          ],
          [
           22,
           0
          ],
          [
           17,
           0
          ],
          [
           8,
           0
          ],
          [
           33,
           0
          ],
          [
           76,
           0
          ],
          [
           269,
           0
          ],
          [
           47,
           0
          ],
          [
           50,
           0
          ],
          [
           15,
           0
          ],
          [
           7,
           0
          ],
          [
           5,
           0
          ],
          [
           16,
           0
          ],
          [
           3,
           0
          ],
          [
           5,
           0
          ],
          [
           54,
           0
          ],
          [
           27,
           0
          ],
          [
           12,
           0
          ],
          [
           5,
           0
          ],
          [
           824,
           0
          ],
          [
           367,
           0
          ],
          [
           272,
           0
          ],
          [
           13,
           0
          ],
          [
           3290,
           0
          ],
          [
           3,
           0
          ],
          [
           3,
           0
          ],
          [
           3,
           0
          ],
          [
           87,
           0
          ],
          [
           51,
           0
          ],
          [
           7,
           0
          ],
          [
           4,
           0
          ],
          [
           89,
           0
          ],
          [
           238,
           0
          ],
          [
           24,
           0
          ],
          [
           214,
           0
          ],
          [
           3,
           0
          ],
          [
           7,
           0
          ],
          [
           4,
           0
          ],
          [
           1944,
           0
          ],
          [
           1,
           0
          ],
          [
           14,
           0
          ],
          [
           729,
           0
          ],
          [
           268,
           0
          ],
          [
           1,
           0
          ],
          [
           2,
           0
          ],
          [
           1,
           0
          ],
          [
           13,
           0
          ],
          [
           51,
           0
          ],
          [
           23,
           0
          ],
          [
           1,
           0
          ],
          [
           1,
           0
          ],
          [
           17,
           0
          ],
          [
           3,
           0
          ],
          [
           30,
           0
          ]
         ],
         "geo": "geo",
         "hovertemplate": "<b>%{hovertext}</b><br><br>iso3=%{location}<br>total_transactions=%{customdata[0]}<br>fraud_rate=%{customdata[1]}<br>sum_isFraud=%{z}<extra></extra>",
         "hovertext": [
          "NU",
          "US",
          "CA",
          "JP",
          "AT",
          "DE",
          "GB",
          "AU",
          "FR",
          "IN",
          "AR",
          "MX",
          "NL",
          "BR",
          "ES",
          "ID",
          "VN",
          "IL",
          "KR",
          "IT",
          "TH",
          "CL",
          "CH",
          "PH",
          "UY",
          "MY",
          "SG",
          "HN",
          "PL",
          "UK",
          "NO",
          "BE",
          "ZA",
          "TR",
          "TW",
          "SA",
          "DK",
          "CR",
          "IE",
          "AE",
          "NZ",
          "EG",
          "KZ",
          "CN",
          "DO",
          "PR",
          "SE",
          "UZ",
          "GE",
          "HK",
          "CO",
          "PK",
          "UA",
          "RU",
          "RO",
          "BO",
          "LV",
          "PE",
          "MN",
          "PT",
          "MM",
          "BH",
          "LB",
          "GR",
          "CZ",
          "KH",
          "FI",
          "CG",
          "SV",
          "PY",
          "MV",
          "PG",
          "NP",
          "BM",
          "GH",
          "GA",
          "SK",
          "IQ",
          "HR",
          "LK",
          "GY",
          "UG",
          "BG",
          "ZM",
          "SX",
          "IS",
          "QA",
          "NG",
          "AM",
          "LU",
          "KE",
          "BY",
          "GT",
          "LT",
          "YE",
          "BD",
          "OM",
          "BB",
          "TT",
          "TJ",
          "BS",
          "MU",
          "KW",
          "AW",
          "AF",
          "JO",
          "BT",
          "VG",
          "AG",
          "SC",
          "EC",
          "MG",
          "MW",
          "SI",
          "PA",
          "SR",
          "MO",
          "RW",
          "GD",
          "LA",
          "HT",
          "BZ",
          "MC",
          "BI",
          "FJ",
          "SZ",
          "TG",
          "CM",
          "TC",
          "SN",
          "KG",
          "PF",
          "SO",
          "VU",
          "SM",
          "LI",
          "CD",
          "SB",
          "TM",
          "MT",
          "LY",
          "AI",
          null,
          "JM",
          "CY",
          "CW",
          "GN",
          "SD",
          "RE",
          "ME",
          "AZ",
          "TZ",
          "MK",
          "NC",
          "IR",
          "BF",
          "BW",
          "MQ",
          "ET",
          "PS",
          "MZ",
          "QZ",
          "NE",
          "MA",
          "AD",
          "KY",
          "AO",
          "HU",
          "TL",
          "GM",
          "BJ",
          "DZ",
          "AL",
          "ML",
          "GL",
          "BA",
          "MD",
          "GI",
          "C2",
          "VE",
          "GU",
          "LR",
          "EE",
          "MR",
          "SS",
          "RS",
          "BN",
          "KN",
          "LC",
          "AN",
          "DJ",
          "TN",
          "CI",
          "NR",
          "YT",
          "ZW",
          "KI",
          "NI"
         ],
         "locationmode": "ISO-3",
         "locations": [
          "NIU",
          "USA",
          "CAN",
          "JPN",
          "AUT",
          "DEU",
          "GBR",
          "AUS",
          "FRA",
          "IND",
          "ARG",
          "MEX",
          "NLD",
          "BRA",
          "ESP",
          "IDN",
          "VNM",
          "ISR",
          "KOR",
          "ITA",
          "THA",
          "CHL",
          "CHE",
          "PHL",
          "URY",
          "MYS",
          "SGP",
          "HND",
          "POL",
          null,
          "NOR",
          "BEL",
          "ZAF",
          "TUR",
          "TWN",
          "SAU",
          "DNK",
          "CRI",
          "IRL",
          "ARE",
          "NZL",
          "EGY",
          "KAZ",
          "CHN",
          "DOM",
          "PRI",
          "SWE",
          "UZB",
          "GEO",
          "HKG",
          "COL",
          "PAK",
          "UKR",
          "RUS",
          "ROU",
          "BOL",
          "LVA",
          "PER",
          "MNG",
          "PRT",
          "MMR",
          "BHR",
          "LBN",
          "GRC",
          "CZE",
          "KHM",
          "FIN",
          "COG",
          "SLV",
          "PRY",
          "MDV",
          "PNG",
          "NPL",
          "BMU",
          "GHA",
          "GAB",
          "SVK",
          "IRQ",
          "HRV",
          "LKA",
          "GUY",
          "UGA",
          "BGR",
          "ZMB",
          "SXM",
          "ISL",
          "QAT",
          "NGA",
          "ARM",
          "LUX",
          "KEN",
          "BLR",
          "GTM",
          "LTU",
          "YEM",
          "BGD",
          "OMN",
          "BRB",
          "TTO",
          "TJK",
          "BHS",
          "MUS",
          "KWT",
          "ABW",
          "AFG",
          "JOR",
          "BTN",
          "VGB",
          "ATG",
          "SYC",
          "ECU",
          "MDG",
          "MWI",
          "SVN",
          "PAN",
          "SUR",
          "MAC",
          "RWA",
          "GRD",
          "LAO",
          "HTI",
          "BLZ",
          "MCO",
          "BDI",
          "FJI",
          "SWZ",
          "TGO",
          "CMR",
          "TCA",
          "SEN",
          "KGZ",
          "PYF",
          "SOM",
          "VUT",
          "SMR",
          "LIE",
          "COD",
          "SLB",
          "TKM",
          "MLT",
          "LBY",
          "AIA",
          null,
          "JAM",
          "CYP",
          "CUW",
          "GIN",
          "SDN",
          "REU",
          "MNE",
          "AZE",
          "TZA",
          "MKD",
          "NCL",
          "IRN",
          "BFA",
          "BWA",
          "MTQ",
          "ETH",
          "PSE",
          "MOZ",
          null,
          "NER",
          "MAR",
          "AND",
          "CYM",
          "AGO",
          "HUN",
          "TLS",
          "GMB",
          "BEN",
          "DZA",
          "ALB",
          "MLI",
          "GRL",
          "BIH",
          "MDA",
          "GIB",
          null,
          "VEN",
          "GUM",
          "LBR",
          "EST",
          "MRT",
          "SSD",
          "SRB",
          "BRN",
          "KNA",
          "LCA",
          null,
          "DJI",
          "TUN",
          "CIV",
          "NRU",
          "MYT",
          "ZWE",
          "KIR",
          "NIC"
         ],
         "name": "",
         "type": "choropleth",
         "z": [
          3395,
          1680,
          433,
          300,
          202,
          195,
          171,
          147,
          125,
          94,
          86,
          69,
          62,
          62,
          52,
          46,
          43,
          37,
          34,
          33,
          32,
          30,
          26,
          20,
          20,
          20,
          19,
          19,
          19,
          18,
          17,
          17,
          16,
          13,
          13,
          12,
          12,
          12,
          12,
          11,
          10,
          10,
          10,
          10,
          8,
          7,
          7,
          6,
          6,
          5,
          5,
          5,
          5,
          5,
          5,
          5,
          4,
          4,
          4,
          3,
          3,
          3,
          3,
          3,
          3,
          3,
          3,
          3,
          3,
          3,
          2,
          2,
          2,
          2,
          2,
          2,
          2,
          2,
          2,
          2,
          2,
          1,
          1,
          1,
          1,
          1,
          1,
          1,
          1,
          1,
          1,
          1,
          1,
          1,
          1,
          1,
          1,
          1,
          1,
          1,
          1,
          1,
          1,
          1,
          1,
          1,
          0,
          0,
          0,
          0,
          0,
          0,
          0,
          0,
          0,
          0,
          0,
          0,
          0,
          0,
          0,
          0,
          0,
          0,
          0,
          0,
          0,
          0,
          0,
          0,
          0,
          0,
          0,
          0,
          0,
          0,
          0,
          0,
          0,
          0,
          0,
          0,
          0,
          0,
          0,
          0,
          0,
          0,
          0,
          0,
          0,
          0,
          0,
          0,
          0,
          0,
          0,
          0,
          0,
          0,
          0,
          0,
          0,
          0,
          0,
          0,
          0,
          0,
          0,
          0,
          0,
          0,
          0,
          0,
          0,
          0,
          0,
          0,
          0,
          0,
          0,
          0,
          0,
          0,
          0,
          0,
          0,
          0,
          0,
          0,
          0,
          0,
          0,
          0,
          0,
          0,
          0,
          0
         ]
        }
       ],
       "layout": {
        "coloraxis": {
         "colorbar": {
          "title": {
           "text": "sum_isFraud"
          }
         },
         "colorscale": [
          [
           0,
           "rgb(255,245,240)"
          ],
          [
           0.125,
           "rgb(254,224,210)"
          ],
          [
           0.25,
           "rgb(252,187,161)"
          ],
          [
           0.375,
           "rgb(252,146,114)"
          ],
          [
           0.5,
           "rgb(251,106,74)"
          ],
          [
           0.625,
           "rgb(239,59,44)"
          ],
          [
           0.75,
           "rgb(203,24,29)"
          ],
          [
           0.875,
           "rgb(165,15,21)"
          ],
          [
           1,
           "rgb(103,0,13)"
          ]
         ]
        },
        "geo": {
         "center": {},
         "domain": {
          "x": [
           0,
           1
          ],
          "y": [
           0,
           1
          ]
         },
         "landcolor": "lightgray",
         "oceancolor": "lightblue",
         "projection": {
          "type": "equirectangular"
         },
         "showcoastlines": true,
         "showframe": false,
         "showland": true,
         "showocean": true
        },
        "height": 600,
        "legend": {
         "tracegroupgap": 0
        },
        "template": {
         "data": {
          "bar": [
           {
            "error_x": {
             "color": "#2a3f5f"
            },
            "error_y": {
             "color": "#2a3f5f"
            },
            "marker": {
             "line": {
              "color": "#E5ECF6",
              "width": 0.5
             },
             "pattern": {
              "fillmode": "overlay",
              "size": 10,
              "solidity": 0.2
             }
            },
            "type": "bar"
           }
          ],
          "barpolar": [
           {
            "marker": {
             "line": {
              "color": "#E5ECF6",
              "width": 0.5
             },
             "pattern": {
              "fillmode": "overlay",
              "size": 10,
              "solidity": 0.2
             }
            },
            "type": "barpolar"
           }
          ],
          "carpet": [
           {
            "aaxis": {
             "endlinecolor": "#2a3f5f",
             "gridcolor": "white",
             "linecolor": "white",
             "minorgridcolor": "white",
             "startlinecolor": "#2a3f5f"
            },
            "baxis": {
             "endlinecolor": "#2a3f5f",
             "gridcolor": "white",
             "linecolor": "white",
             "minorgridcolor": "white",
             "startlinecolor": "#2a3f5f"
            },
            "type": "carpet"
           }
          ],
          "choropleth": [
           {
            "colorbar": {
             "outlinewidth": 0,
             "ticks": ""
            },
            "type": "choropleth"
           }
          ],
          "contour": [
           {
            "colorbar": {
             "outlinewidth": 0,
             "ticks": ""
            },
            "colorscale": [
             [
              0,
              "#0d0887"
             ],
             [
              0.1111111111111111,
              "#46039f"
             ],
             [
              0.2222222222222222,
              "#7201a8"
             ],
             [
              0.3333333333333333,
              "#9c179e"
             ],
             [
              0.4444444444444444,
              "#bd3786"
             ],
             [
              0.5555555555555556,
              "#d8576b"
             ],
             [
              0.6666666666666666,
              "#ed7953"
             ],
             [
              0.7777777777777778,
              "#fb9f3a"
             ],
             [
              0.8888888888888888,
              "#fdca26"
             ],
             [
              1,
              "#f0f921"
             ]
            ],
            "type": "contour"
           }
          ],
          "contourcarpet": [
           {
            "colorbar": {
             "outlinewidth": 0,
             "ticks": ""
            },
            "type": "contourcarpet"
           }
          ],
          "heatmap": [
           {
            "colorbar": {
             "outlinewidth": 0,
             "ticks": ""
            },
            "colorscale": [
             [
              0,
              "#0d0887"
             ],
             [
              0.1111111111111111,
              "#46039f"
             ],
             [
              0.2222222222222222,
              "#7201a8"
             ],
             [
              0.3333333333333333,
              "#9c179e"
             ],
             [
              0.4444444444444444,
              "#bd3786"
             ],
             [
              0.5555555555555556,
              "#d8576b"
             ],
             [
              0.6666666666666666,
              "#ed7953"
             ],
             [
              0.7777777777777778,
              "#fb9f3a"
             ],
             [
              0.8888888888888888,
              "#fdca26"
             ],
             [
              1,
              "#f0f921"
             ]
            ],
            "type": "heatmap"
           }
          ],
          "heatmapgl": [
           {
            "colorbar": {
             "outlinewidth": 0,
             "ticks": ""
            },
            "colorscale": [
             [
              0,
              "#0d0887"
             ],
             [
              0.1111111111111111,
              "#46039f"
             ],
             [
              0.2222222222222222,
              "#7201a8"
             ],
             [
              0.3333333333333333,
              "#9c179e"
             ],
             [
              0.4444444444444444,
              "#bd3786"
             ],
             [
              0.5555555555555556,
              "#d8576b"
             ],
             [
              0.6666666666666666,
              "#ed7953"
             ],
             [
              0.7777777777777778,
              "#fb9f3a"
             ],
             [
              0.8888888888888888,
              "#fdca26"
             ],
             [
              1,
              "#f0f921"
             ]
            ],
            "type": "heatmapgl"
           }
          ],
          "histogram": [
           {
            "marker": {
             "pattern": {
              "fillmode": "overlay",
              "size": 10,
              "solidity": 0.2
             }
            },
            "type": "histogram"
           }
          ],
          "histogram2d": [
           {
            "colorbar": {
             "outlinewidth": 0,
             "ticks": ""
            },
            "colorscale": [
             [
              0,
              "#0d0887"
             ],
             [
              0.1111111111111111,
              "#46039f"
             ],
             [
              0.2222222222222222,
              "#7201a8"
             ],
             [
              0.3333333333333333,
              "#9c179e"
             ],
             [
              0.4444444444444444,
              "#bd3786"
             ],
             [
              0.5555555555555556,
              "#d8576b"
             ],
             [
              0.6666666666666666,
              "#ed7953"
             ],
             [
              0.7777777777777778,
              "#fb9f3a"
             ],
             [
              0.8888888888888888,
              "#fdca26"
             ],
             [
              1,
              "#f0f921"
             ]
            ],
            "type": "histogram2d"
           }
          ],
          "histogram2dcontour": [
           {
            "colorbar": {
             "outlinewidth": 0,
             "ticks": ""
            },
            "colorscale": [
             [
              0,
              "#0d0887"
             ],
             [
              0.1111111111111111,
              "#46039f"
             ],
             [
              0.2222222222222222,
              "#7201a8"
             ],
             [
              0.3333333333333333,
              "#9c179e"
             ],
             [
              0.4444444444444444,
              "#bd3786"
             ],
             [
              0.5555555555555556,
              "#d8576b"
             ],
             [
              0.6666666666666666,
              "#ed7953"
             ],
             [
              0.7777777777777778,
              "#fb9f3a"
             ],
             [
              0.8888888888888888,
              "#fdca26"
             ],
             [
              1,
              "#f0f921"
             ]
            ],
            "type": "histogram2dcontour"
           }
          ],
          "mesh3d": [
           {
            "colorbar": {
             "outlinewidth": 0,
             "ticks": ""
            },
            "type": "mesh3d"
           }
          ],
          "parcoords": [
           {
            "line": {
             "colorbar": {
              "outlinewidth": 0,
              "ticks": ""
             }
            },
            "type": "parcoords"
           }
          ],
          "pie": [
           {
            "automargin": true,
            "type": "pie"
           }
          ],
          "scatter": [
           {
            "fillpattern": {
             "fillmode": "overlay",
             "size": 10,
             "solidity": 0.2
            },
            "type": "scatter"
           }
          ],
          "scatter3d": [
           {
            "line": {
             "colorbar": {
              "outlinewidth": 0,
              "ticks": ""
             }
            },
            "marker": {
             "colorbar": {
              "outlinewidth": 0,
              "ticks": ""
             }
            },
            "type": "scatter3d"
           }
          ],
          "scattercarpet": [
           {
            "marker": {
             "colorbar": {
              "outlinewidth": 0,
              "ticks": ""
             }
            },
            "type": "scattercarpet"
           }
          ],
          "scattergeo": [
           {
            "marker": {
             "colorbar": {
              "outlinewidth": 0,
              "ticks": ""
             }
            },
            "type": "scattergeo"
           }
          ],
          "scattergl": [
           {
            "marker": {
             "colorbar": {
              "outlinewidth": 0,
              "ticks": ""
             }
            },
            "type": "scattergl"
           }
          ],
          "scattermapbox": [
           {
            "marker": {
             "colorbar": {
              "outlinewidth": 0,
              "ticks": ""
             }
            },
            "type": "scattermapbox"
           }
          ],
          "scatterpolar": [
           {
            "marker": {
             "colorbar": {
              "outlinewidth": 0,
              "ticks": ""
             }
            },
            "type": "scatterpolar"
           }
          ],
          "scatterpolargl": [
           {
            "marker": {
             "colorbar": {
              "outlinewidth": 0,
              "ticks": ""
             }
            },
            "type": "scatterpolargl"
           }
          ],
          "scatterternary": [
           {
            "marker": {
             "colorbar": {
              "outlinewidth": 0,
              "ticks": ""
             }
            },
            "type": "scatterternary"
           }
          ],
          "surface": [
           {
            "colorbar": {
             "outlinewidth": 0,
             "ticks": ""
            },
            "colorscale": [
             [
              0,
              "#0d0887"
             ],
             [
              0.1111111111111111,
              "#46039f"
             ],
             [
              0.2222222222222222,
              "#7201a8"
             ],
             [
              0.3333333333333333,
              "#9c179e"
             ],
             [
              0.4444444444444444,
              "#bd3786"
             ],
             [
              0.5555555555555556,
              "#d8576b"
             ],
             [
              0.6666666666666666,
              "#ed7953"
             ],
             [
              0.7777777777777778,
              "#fb9f3a"
             ],
             [
              0.8888888888888888,
              "#fdca26"
             ],
             [
              1,
              "#f0f921"
             ]
            ],
            "type": "surface"
           }
          ],
          "table": [
           {
            "cells": {
             "fill": {
              "color": "#EBF0F8"
             },
             "line": {
              "color": "white"
             }
            },
            "header": {
             "fill": {
              "color": "#C8D4E3"
             },
             "line": {
              "color": "white"
             }
            },
            "type": "table"
           }
          ]
         },
         "layout": {
          "annotationdefaults": {
           "arrowcolor": "#2a3f5f",
           "arrowhead": 0,
           "arrowwidth": 1
          },
          "autotypenumbers": "strict",
          "coloraxis": {
           "colorbar": {
            "outlinewidth": 0,
            "ticks": ""
           }
          },
          "colorscale": {
           "diverging": [
            [
             0,
             "#8e0152"
            ],
            [
             0.1,
             "#c51b7d"
            ],
            [
             0.2,
             "#de77ae"
            ],
            [
             0.3,
             "#f1b6da"
            ],
            [
             0.4,
             "#fde0ef"
            ],
            [
             0.5,
             "#f7f7f7"
            ],
            [
             0.6,
             "#e6f5d0"
            ],
            [
             0.7,
             "#b8e186"
            ],
            [
             0.8,
             "#7fbc41"
            ],
            [
             0.9,
             "#4d9221"
            ],
            [
             1,
             "#276419"
            ]
           ],
           "sequential": [
            [
             0,
             "#0d0887"
            ],
            [
             0.1111111111111111,
             "#46039f"
            ],
            [
             0.2222222222222222,
             "#7201a8"
            ],
            [
             0.3333333333333333,
             "#9c179e"
            ],
            [
             0.4444444444444444,
             "#bd3786"
            ],
            [
             0.5555555555555556,
             "#d8576b"
            ],
            [
             0.6666666666666666,
             "#ed7953"
            ],
            [
             0.7777777777777778,
             "#fb9f3a"
            ],
            [
             0.8888888888888888,
             "#fdca26"
            ],
            [
             1,
             "#f0f921"
            ]
           ],
           "sequentialminus": [
            [
             0,
             "#0d0887"
            ],
            [
             0.1111111111111111,
             "#46039f"
            ],
            [
             0.2222222222222222,
             "#7201a8"
            ],
            [
             0.3333333333333333,
             "#9c179e"
            ],
            [
             0.4444444444444444,
             "#bd3786"
            ],
            [
             0.5555555555555556,
             "#d8576b"
            ],
            [
             0.6666666666666666,
             "#ed7953"
            ],
            [
             0.7777777777777778,
             "#fb9f3a"
            ],
            [
             0.8888888888888888,
             "#fdca26"
            ],
            [
             1,
             "#f0f921"
            ]
           ]
          },
          "colorway": [
           "#636efa",
           "#EF553B",
           "#00cc96",
           "#ab63fa",
           "#FFA15A",
           "#19d3f3",
           "#FF6692",
           "#B6E880",
           "#FF97FF",
           "#FECB52"
          ],
          "font": {
           "color": "#2a3f5f"
          },
          "geo": {
           "bgcolor": "white",
           "lakecolor": "white",
           "landcolor": "#E5ECF6",
           "showlakes": true,
           "showland": true,
           "subunitcolor": "white"
          },
          "hoverlabel": {
           "align": "left"
          },
          "hovermode": "closest",
          "mapbox": {
           "style": "light"
          },
          "paper_bgcolor": "white",
          "plot_bgcolor": "#E5ECF6",
          "polar": {
           "angularaxis": {
            "gridcolor": "white",
            "linecolor": "white",
            "ticks": ""
           },
           "bgcolor": "#E5ECF6",
           "radialaxis": {
            "gridcolor": "white",
            "linecolor": "white",
            "ticks": ""
           }
          },
          "scene": {
           "xaxis": {
            "backgroundcolor": "#E5ECF6",
            "gridcolor": "white",
            "gridwidth": 2,
            "linecolor": "white",
            "showbackground": true,
            "ticks": "",
            "zerolinecolor": "white"
           },
           "yaxis": {
            "backgroundcolor": "#E5ECF6",
            "gridcolor": "white",
            "gridwidth": 2,
            "linecolor": "white",
            "showbackground": true,
            "ticks": "",
            "zerolinecolor": "white"
           },
           "zaxis": {
            "backgroundcolor": "#E5ECF6",
            "gridcolor": "white",
            "gridwidth": 2,
            "linecolor": "white",
            "showbackground": true,
            "ticks": "",
            "zerolinecolor": "white"
           }
          },
          "shapedefaults": {
           "line": {
            "color": "#2a3f5f"
           }
          },
          "ternary": {
           "aaxis": {
            "gridcolor": "white",
            "linecolor": "white",
            "ticks": ""
           },
           "baxis": {
            "gridcolor": "white",
            "linecolor": "white",
            "ticks": ""
           },
           "bgcolor": "#E5ECF6",
           "caxis": {
            "gridcolor": "white",
            "linecolor": "white",
            "ticks": ""
           }
          },
          "title": {
           "x": 0.05
          },
          "xaxis": {
           "automargin": true,
           "gridcolor": "white",
           "linecolor": "white",
           "ticks": "",
           "title": {
            "standoff": 15
           },
           "zerolinecolor": "white",
           "zerolinewidth": 2
          },
          "yaxis": {
           "automargin": true,
           "gridcolor": "white",
           "linecolor": "white",
           "ticks": "",
           "title": {
            "standoff": 15
           },
           "zerolinecolor": "white",
           "zerolinewidth": 2
          }
         }
        },
        "title": {
         "text": "Distribution of Fraudulent Transactions by Country",
         "x": 0.5
        },
        "width": 1000
       }
      }
     },
     "metadata": {},
     "output_type": "display_data"
    }
   ],
   "source": [
    "fig.update_layout(\n",
    "    title_x=0.5,\n",
    "    geo=dict(\n",
    "        showframe=False,\n",
    "        showcoastlines=True,\n",
    "        projection_type=\"equirectangular\",\n",
    "        showland=True,\n",
    "        landcolor=\"lightgray\",\n",
    "        showocean=True,\n",
    "        oceancolor=\"lightblue\",\n",
    "    ),\n",
    "    width=1000,\n",
    "    height=600,\n",
    ")\n",
    "\n",
    "fig.show()"
   ]
  },
  {
   "cell_type": "markdown",
   "metadata": {},
   "source": [
    "# Visualization of fraud distribution by country"
   ]
  },
  {
   "attachments": {
    "image.png": {
     "image/png": "[encoded data removed]"
    }
   },
   "cell_type": "markdown",
   "metadata": {},
   "source": [
    "![image.png](attachment:image.png)"
   ]
  },
  {
   "cell_type": "markdown",
   "metadata": {},
   "source": [
    "### Fraud analysis by type of transport\n",
    "\n",
    "### Statistics on modes of transport:\n",
    "1. **Air transportation (avia)**:\n",
    "- Fraud: 3,870\n",
    "- Total transactions: 178,673\n",
    "- Fraud rate: 2.17% (the highest!)\n",
    "\n",
    "2. **Buses (bus)**:\n",
    "- Fraud: 1,804\n",
    "- Total transactions: 1,346,000\n",
    "- Fraud rate: 0.13%\n",
    "  \n",
    "3. **Ferries**:\n",
    "- Fraud: 1,034\n",
    "- Total transactions: 1,009,565\n",
    "- Fraud rate: 0.10%\n",
    "\n",
    "### Key observations:\n",
    "- **Air transportation** significantly leads in fraud_rate (2.17%), which is ~16 times higher than that of buses\n",
    "- **Buses and ferries** have the highest number of transactions, but relatively low fraud_rate\n",
    "- **Insurance services** (insurance) show a high fraud_rate (0.52%) with a small number of transactions\n",
    " Some types of transport (rail pass, day trip, current) have no recorded cases of fraud, but the number of transactions is minimal."
   ]
  },
  {
   "cell_type": "code",
   "execution_count": 43,
   "metadata": {},
   "outputs": [
    {
     "data": {
      "text/html": [
       "<div><style>\n",
       ".dataframe > thead > tr,\n",
       ".dataframe > tbody > tr {\n",
       "  text-align: right;\n",
       "  white-space: pre-wrap;\n",
       "}\n",
       "</style>\n",
       "<small>shape: (10, 4)</small><table border=\"1\" class=\"dataframe\"><thead><tr><th>vehclass_id</th><th>sum_isFraud</th><th>total_transactions</th><th>fraud_rate</th></tr><tr><td>str</td><td>i64</td><td>u32</td><td>f64</td></tr></thead><tbody><tr><td>&quot;avia&quot;</td><td>3870</td><td>178673</td><td>2.165968</td></tr><tr><td>&quot;bus&quot;</td><td>1804</td><td>1346000</td><td>0.134027</td></tr><tr><td>&quot;ferry&quot;</td><td>1034</td><td>1009565</td><td>0.10242</td></tr><tr><td>&quot;train&quot;</td><td>837</td><td>637773</td><td>0.131238</td></tr><tr><td>&quot;van&quot;</td><td>164</td><td>219223</td><td>0.07481</td></tr><tr><td>&quot;charter&quot;</td><td>94</td><td>68739</td><td>0.136749</td></tr><tr><td>&quot;insurance&quot;</td><td>22</td><td>4235</td><td>0.519481</td></tr><tr><td>&quot;daytrip&quot;</td><td>0</td><td>4</td><td>0.0</td></tr><tr><td>&quot;railpass&quot;</td><td>0</td><td>9</td><td>0.0</td></tr><tr><td>&quot;carrent&quot;</td><td>0</td><td>1</td><td>0.0</td></tr></tbody></table></div>"
      ],
      "text/plain": [
       "shape: (10, 4)\n",
       "┌─────────────┬─────────────┬────────────────────┬────────────┐\n",
       "│ vehclass_id ┆ sum_isFraud ┆ total_transactions ┆ fraud_rate │\n",
       "│ ---         ┆ ---         ┆ ---                ┆ ---        │\n",
       "│ str         ┆ i64         ┆ u32                ┆ f64        │\n",
       "╞═════════════╪═════════════╪════════════════════╪════════════╡\n",
       "│ avia        ┆ 3870        ┆ 178673             ┆ 2.165968   │\n",
       "│ bus         ┆ 1804        ┆ 1346000            ┆ 0.134027   │\n",
       "│ ferry       ┆ 1034        ┆ 1009565            ┆ 0.10242    │\n",
       "│ train       ┆ 837         ┆ 637773             ┆ 0.131238   │\n",
       "│ …           ┆ …           ┆ …                  ┆ …          │\n",
       "│ insurance   ┆ 22          ┆ 4235               ┆ 0.519481   │\n",
       "│ daytrip     ┆ 0           ┆ 4                  ┆ 0.0        │\n",
       "│ railpass    ┆ 0           ┆ 9                  ┆ 0.0        │\n",
       "│ carrent     ┆ 0           ┆ 1                  ┆ 0.0        │\n",
       "└─────────────┴─────────────┴────────────────────┴────────────┘"
      ]
     },
     "execution_count": 43,
     "metadata": {},
     "output_type": "execute_result"
    }
   ],
   "source": [
    "(\n",
    "    pl_data.group_by(\"vehclass_id\")\n",
    "    .agg(\n",
    "        pl.sum(\"isFraud\").alias(\"sum_isFraud\"),\n",
    "        pl.count(\"bid\").alias(\"total_transactions\"),\n",
    "        (pl.sum(\"isFraud\") / pl.count(\"bid\") * 100).alias(\"fraud_rate\"),\n",
    "    )\n",
    "    .sort(\"sum_isFraud\", descending=True)\n",
    ").head(20)"
   ]
  },
  {
   "cell_type": "code",
   "execution_count": null,
   "metadata": {},
   "outputs": [
    {
     "data": {
      "text/plain": [
       "<AxesSubplot: >"
      ]
     },
     "execution_count": 28,
     "metadata": {},
     "output_type": "execute_result"
    },
    {
     "data": {
      "image/png": "[encoded data removed]",
      "text/plain": [
       "<Figure size 1200x600 with 1 Axes>"
      ]
     },
     "metadata": {},
     "output_type": "display_data"
    }
   ],
   "source": [
    "pl_data[\"email_score\"].to_pandas().hist(bins=100, figsize=(12, 6))"
   ]
  },
  {
   "cell_type": "markdown",
   "metadata": {},
   "source": [
    "### Price distribution analysis for fraudulent and ordinary transactions\n",
    "\n",
    "### Regular transactions:\n",
    "1. **Shape of the distribution**:\n",
    "- Close to the normal distribution\n",
    "- A clear peak near the value 6-7 (log scale)\n",
    "- A relatively narrow range (standard deviation = 0.876)\n",
    "\n",
    "2. **Key indicators**:\n",
    "- Median (50%): 6.21\n",
    "- Average: 6.17\n",
    "- 75% of transactions are in the range from 5.62 to 6.69\n",
    "\n",
    "### Fraudulent transactions:\n",
    "1. **Shape of distribution**:\n",
    "- Wider and more uneven distribution\n",
    "- Multiple peaks\n",
    "- A much larger spread (standard deviation = 1.39)\n",
    "\n",
    "2. **Key indicators**:\n",
    "- Median (50%): 7.36\n",
    "- Average: 7.41\n",
    "- Noticeably higher values than for regular transactions\n",
    "- The maximum value (11.56) is significantly higher than for regular (8.67)\n",
    "\n",
    "### Key differences:\n",
    "1. **Average price**:\n",
    "- Fraudulent transactions are on average 1.24 log points more expensive\n",
    "- This indicates the tendency of fraudsters to more expensive transactions\n",
    "\n",
    "2. **Price spread**:\n",
    "- Fraudulent transactions have 1.6 times more spread\n",
    "- A wider price range may be an indicator of suspicious activity"
   ]
  },
  {
   "cell_type": "code",
   "execution_count": 52,
   "metadata": {},
   "outputs": [
    {
     "data": {
      "image/png": "[encoded data removed]",
      "text/plain": [
       "<Figure size 1200x800 with 2 Axes>"
      ]
     },
     "metadata": {},
     "output_type": "display_data"
    },
    {
     "name": "stdout",
     "output_type": "stream",
     "text": [
      "\n",
      "Statistics for regular transactions:\n",
      "count    3.366225e+06\n",
      "mean     6.173864e+00\n",
      "std      8.757774e-01\n",
      "min      1.099478e-05\n",
      "25%      5.615039e+00\n",
      "50%      6.208590e+00\n",
      "75%      6.690842e+00\n",
      "max      1.666737e+01\n",
      "Name: log_price, dtype: float64\n",
      "\n",
      "Statistics for fraudulent transactions:\n",
      "count    7179.000000\n",
      "mean        7.410548\n",
      "std         1.392035\n",
      "min         2.027170\n",
      "25%         6.388561\n",
      "50%         7.361058\n",
      "75%         8.417824\n",
      "max        11.559580\n",
      "Name: log_price, dtype: float64\n"
     ]
    }
   ],
   "source": [
    "data_for_plot = (\n",
    "    pl_data.filter(pl.col(\"netprice_thb\") > 0)\n",
    "    .select([pl.col(\"netprice_thb\"), pl.col(\"isFraud\")])\n",
    "    .to_pandas()\n",
    ")\n",
    "\n",
    "data_for_plot[\"log_price\"] = data_for_plot[\"netprice_thb\"].apply(\n",
    "    lambda x: np.log(x + 1)\n",
    ")\n",
    "\n",
    "fig, (ax1, ax2) = plt.subplots(2, 1, figsize=(12, 8))\n",
    "\n",
    "sns.histplot(\n",
    "    data=data_for_plot[data_for_plot[\"isFraud\"] == 0],\n",
    "    x=\"log_price\",\n",
    "    bins=50,\n",
    "    ax=ax1,\n",
    "    color=\"blue\",\n",
    ")\n",
    "ax1.set_title(\"Distribution of Non-Fraudulent Transactions\")\n",
    "ax1.set_xlabel(\"Log(Price + 1)\")\n",
    "ax1.set_ylabel(\"Count\")\n",
    "ax1.grid(True)\n",
    "\n",
    "sns.histplot(\n",
    "    data=data_for_plot[data_for_plot[\"isFraud\"] == 1],\n",
    "    x=\"log_price\",\n",
    "    bins=50,\n",
    "    ax=ax2,\n",
    "    color=\"red\",\n",
    ")\n",
    "ax2.set_title(\"Distribution of Fraudulent Transactions\")\n",
    "ax2.set_xlabel(\"Log(Price + 1)\")\n",
    "ax2.set_ylabel(\"Count\")\n",
    "ax2.grid(True)\n",
    "\n",
    "plt.tight_layout()\n",
    "plt.show()\n",
    "\n",
    "print(\"\\nStatistics for regular transactions:\")\n",
    "print(data_for_plot[data_for_plot[\"isFraud\"] == 0][\"log_price\"].describe())\n",
    "print(\"\\nStatistics for fraudulent transactions:\")\n",
    "print(data_for_plot[data_for_plot[\"isFraud\"] == 1][\"log_price\"].describe())"
   ]
  },
  {
   "cell_type": "markdown",
   "metadata": {},
   "source": [
    "# Final data analysis for the anti-fraud system\n",
    "\n",
    "## Data separation\n",
    "- Date of separation: 2023-10-25\n",
    "- Training period: until 2023-10-25\n",
    "- Test period: after 2023-10-25\n",
    "\n",
    "## Basic observations on sales channels\n",
    "1. **Direct channel**:\n",
    "- The largest number of frauds (2,402 cases)\n",
    "- The highest fraud rate (0.56%)\n",
    "- Requires enhanced monitoring\n",
    "\n",
    "2. **Email (email)**:\n",
    "- High fraud rate (0.82%)\n",
    "- Low transaction volume\n",
    "- Potentially risky channel\n",
    "\n",
    "## Geographical distribution\n",
    "1. **Top countries in terms of fraud**:\n",
    "- NU (Unknown): 3,395 cases (25.5%)\n",
    "- US: 1,680 cases (1.43%)\n",
    "- CA: 433 cases (0.88%)\n",
    "\n",
    "2. **Countries with high fraud rate**:\n",
    "- Mexico (1.43%)\n",
    "- United States (1.43%)\n",
    "- Argentina (1.15%)\n",
    "\n",
    "## Analysis by type of transport\n",
    "1. **Air transportation**:\n",
    "- The largest number of scams (3,870)\n",
    "- The highest fraud rate (2.17%)\n",
    "- The priority focus for monitoring\n",
    "\n",
    "2. **Buses and ferries**:\n",
    "- High transaction volume\n",
    "- Low fraud rate (about 0.13%)\n",
    "- Less stringent checks can be applied\n",
    "\n",
    "## Price characteristics\n",
    "1. **Regular transactions**:\n",
    "- Median log(price): 6.21\n",
    "- Standard deviation: 0.876\n",
    "- Narrower and more stable distribution\n",
    "\n",
    "2. **Fraudulent transactions**:\n",
    "- Median log(price): 7.36\n",
    "- Standard deviation: 1.39\n",
    "- The trend towards higher amounts\n",
    "\n",
    "## Additional risk factors\n",
    "1. **Insurance**:\n",
    "- Insurance transactions have 3 times higher fraud rate\n",
    "- 44% of fraudulent transactions include insurance\n",
    "\n",
    "2. **Time patterns**:\n",
    "- Noticeable increase in fraud by the end of 2023\n",
    "- Changing patterns requires adaptation of models\n",
    "\n",
    "## Recommendations for the anti-fraud system\n",
    "1. **Priority monitoring**:\n",
    "- Air transportation\n",
    "- Direct sales\n",
    "- Insurance\n",
    "transactions - Transactions with an unspecified country (NU)\n",
    "\n",
    "2. **Price Triggers**:\n",
    "- Special attention to transactions with log(price) > 8.0\n",
    "- Additional verification for very expensive transactions\n",
    "\n",
    "3. **Geographic Strategy**:\n",
    "- Enhanced verification for countries with high fraud rates\n",
    "- Adapted rules for different regions\n",
    "\n",
    "4. **Sales Channels**:\n",
    "- Different levels of verification for different channels\n",
    "- Special attention to email and direct channels"
   ]
  }
 ],
 "metadata": {
  "kernelspec": {
   "display_name": "base",
   "language": "python",
   "name": "python3"
  },
  "language_info": {
   "codemirror_mode": {
    "name": "ipython",
    "version": 3
   },
   "file_extension": ".py",
   "mimetype": "text/x-python",
   "name": "python",
   "nbconvert_exporter": "python",
   "pygments_lexer": "ipython3",
   "version": "3.11.0"
  }
 },
 "nbformat": 4,
 "nbformat_minor": 2
}
