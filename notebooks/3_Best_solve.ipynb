{
 "cells": [
  {
   "cell_type": "code",
   "execution_count": 70,
   "metadata": {},
   "outputs": [],
   "source": [
    "import sys\n",
    "import os\n",
    "\n",
    "from datetime import datetime\n",
    "\n",
    "import polars as pl\n",
    "import numpy as np\n",
    "import pandas as pd\n",
    "\n",
    "import seaborn as sns\n",
    "import matplotlib.pyplot as plt\n",
    "\n",
    "from catboost import CatBoostClassifier, Pool\n",
    "from sklearn.metrics import classification_report, roc_auc_score, confusion_matrix\n",
    "\n",
    "src_path = os.path.abspath(os.path.join(os.getcwd(), \"..\", \"src\"))\n",
    "sys.path.append(src_path)\n",
    "from utils import lift_metric_plot"
   ]
  },
  {
   "cell_type": "code",
   "execution_count": 26,
   "metadata": {},
   "outputs": [],
   "source": [
    "pl_data = pl.read_csv(\"/Users/kurmangazykarabekov/Desktop/собесы/12Go Asia/data.csv\")"
   ]
  },
  {
   "cell_type": "markdown",
   "metadata": {},
   "source": [
    "# Prepare data"
   ]
  },
  {
   "cell_type": "markdown",
   "metadata": {},
   "source": [
    "**Conver date from object to datetime**"
   ]
  },
  {
   "cell_type": "code",
   "execution_count": 27,
   "metadata": {},
   "outputs": [
    {
     "name": "stderr",
     "output_type": "stream",
     "text": [
      "/var/folders/l9/p8dmtkcx40g8jtfzctxzg4km0000gn/T/ipykernel_76841/1105408612.py:28: ChronoFormatWarning: Detected the pattern `.%f` in the chrono format string. This pattern should not be used to parse values after a decimal point. Use `%.f` instead. See the full specification: https://docs.rs/chrono/latest/chrono/format/strftime\n",
      "  .str.strptime(pl.Datetime, format=\"%Y-%m-%d %H:%M:%S.%f%z\", strict=False)\n"
     ]
    }
   ],
   "source": [
    "pl_data = (\n",
    "    pl_data.with_columns(\n",
    "        pl.col(\"createdon\")\n",
    "        .str.strptime(\n",
    "            pl.Datetime,\n",
    "            format=\"%Y-%m-%d %H:%M:%S%z\",\n",
    "        )\n",
    "        .cast(pl.Datetime(\"us\", time_zone=\"UTC\"))\n",
    "    )\n",
    "    .with_columns(\n",
    "        pl.col(\"date_of_birth\")\n",
    "        .str.strptime(\n",
    "            pl.Datetime,\n",
    "            format=\"%Y-%m-%d\",\n",
    "        )\n",
    "        .cast(pl.Datetime(\"us\", time_zone=\"UTC\"))\n",
    "    )\n",
    "    .with_columns(\n",
    "        pl.col(\"godate\")\n",
    "        .str.strptime(\n",
    "            pl.Datetime,\n",
    "            format=\"%Y-%m-%d %H:%M:%S%z\",\n",
    "        )\n",
    "        .cast(pl.Datetime(\"us\", time_zone=\"UTC\"))\n",
    "    )\n",
    "    .with_columns(\n",
    "        pl.col(\"paidon\")\n",
    "        .str.strptime(pl.Datetime, format=\"%Y-%m-%d %H:%M:%S.%f%z\", strict=False)\n",
    "        .cast(pl.Datetime(\"us\", time_zone=\"UTC\"))\n",
    "    )\n",
    ")"
   ]
  },
  {
   "cell_type": "code",
   "execution_count": null,
   "metadata": {},
   "outputs": [],
   "source": [
    "# pl_data = pl_data.with_columns(\n",
    "#     [\n",
    "#         pl.col(\"createdon\").cast(pl.Datetime(\"us\", time_zone=\"UTC\")),\n",
    "#         pl.col(\"paidon\").cast(pl.Datetime(\"us\", time_zone=\"UTC\")),\n",
    "#         pl.col(\"godate\").cast(pl.Datetime(\"us\", time_zone=\"UTC\")),\n",
    "#         pl.col(\"date_of_birth\").cast(pl.Datetime(\"us\", time_zone=\"UTC\")),\n",
    "#     ]\n",
    "# )"
   ]
  },
  {
   "cell_type": "markdown",
   "metadata": {},
   "source": [
    "**Let's sort all the events so that we can further split the data by booking creation**"
   ]
  },
  {
   "cell_type": "code",
   "execution_count": 28,
   "metadata": {},
   "outputs": [],
   "source": [
    "pl_data = pl_data.sort(\"createdon\", descending=False)"
   ]
  },
  {
   "cell_type": "markdown",
   "metadata": {},
   "source": [
    "**Prepare null values**"
   ]
  },
  {
   "cell_type": "code",
   "execution_count": 29,
   "metadata": {},
   "outputs": [],
   "source": [
    "pl_data = pl_data.with_columns(\n",
    "    pl.col(\"channel\").fill_null(\"unknown\"),\n",
    "    pl.col(\"cust_name\").fill_null(\"unknown\"),\n",
    "    pl.col(\"nationality\").fill_null(\"unknown\"),\n",
    "    pl.col(\"payer_country\").fill_null(\"unknown\"),\n",
    "    pl.col(\"proxy\").fill_null(0.0),\n",
    "    pl.col(\"tor\").fill_null(0.0),\n",
    "    pl.col(\"vpn\").fill_null(0.0),\n",
    "    pl.col(\"recent_abuse\").fill_null(0.0),\n",
    ")"
   ]
  },
  {
   "cell_type": "code",
   "execution_count": 30,
   "metadata": {},
   "outputs": [
    {
     "name": "stdout",
     "output_type": "stream",
     "text": [
      "Min date of booking 2021-04-30 17:21:17+00:00\n",
      "Max date of booking 2023-11-30 16:59:52+00:00\n"
     ]
    }
   ],
   "source": [
    "print(f\"Min date of booking {pl_data['createdon'].min()}\")\n",
    "print(f\"Max date of booking {pl_data['createdon'].max()}\")"
   ]
  },
  {
   "cell_type": "markdown",
   "metadata": {},
   "source": [
    "# Features engineering"
   ]
  },
  {
   "cell_type": "code",
   "execution_count": null,
   "metadata": {},
   "outputs": [],
   "source": [
    "# 1. Features based on email_score and other score\n",
    "pl_data = pl_data.with_columns(\n",
    "    [\n",
    "        (pl.col(\"email_score\") * pl.col(\"passenger_score\")).alias(\"score_interaction\"),\n",
    "        ((pl.col(\"email_score\") + pl.col(\"passenger_score\")) / 2).alias(\n",
    "            \"avg_risk_score\"\n",
    "        ),\n",
    "        (pl.max_horizontal([\"email_score\", \"passenger_score\"])).alias(\"max_risk_score\"),\n",
    "        # Deviation from the average score\n",
    "        (pl.col(\"email_score\") - pl.col(\"email_score\").mean()).alias(\n",
    "            \"email_score_deviation\"\n",
    "        ),\n",
    "    ]\n",
    ")"
   ]
  },
  {
   "cell_type": "code",
   "execution_count": null,
   "metadata": {},
   "outputs": [],
   "source": [
    "# 2. Price-based features (net price_thb)\n",
    "pl_data = pl_data.with_columns(\n",
    "    [  # Price per seat\n",
    "        (pl.col(\"netprice_thb\") / pl.col(\"seats\")).alias(\"price_per_seat\"),\n",
    "        # Price deviation from the average for this type of transport\n",
    "        (\n",
    "            pl.col(\"netprice_thb\") - pl.col(\"netprice_thb\").mean().over(\"vehclass_id\")\n",
    "        ).alias(\"price_deviation\"),\n",
    "        # Percentage deviation of the price\n",
    "        (\n",
    "            (pl.col(\"netprice_thb\") - pl.col(\"netprice_thb\").mean().over(\"vehclass_id\"))\n",
    "            / pl.col(\"netprice_thb\").mean().over(\"vehclass_id\")\n",
    "            * 100\n",
    "        ).alias(\"price_deviation_percent\"),\n",
    "    ]\n",
    ")"
   ]
  },
  {
   "cell_type": "code",
   "execution_count": null,
   "metadata": {},
   "outputs": [],
   "source": [
    "# 3. Security Features\n",
    "pl_data = pl_data.with_columns(\n",
    "    [\n",
    "        (\n",
    "            pl.col(\"proxy\") + pl.col(\"vpn\") + pl.col(\"tor\") + pl.col(\"recent_abuse\")\n",
    "        ).alias(\"security_flags_sum\"),\n",
    "        (\n",
    "            (pl.col(\"proxy\") + pl.col(\"vpn\") + pl.col(\"tor\") + pl.col(\"recent_abuse\"))\n",
    "            > 0\n",
    "        ).alias(\"has_security_flag\"),\n",
    "    ]\n",
    ")"
   ]
  },
  {
   "cell_type": "code",
   "execution_count": null,
   "metadata": {},
   "outputs": [],
   "source": [
    "# 4. Features based on payment attempts (p_attempts)\n",
    "pl_data = pl_data.with_columns(\n",
    "    [\n",
    "        (pl.col(\"p_attempts\") > 2).alias(\"multiple_attempts\"),\n",
    "        (pl.col(\"p_attempts\").log1p()).alias(\"log_attempts\"),\n",
    "    ]\n",
    ")"
   ]
  },
  {
   "cell_type": "code",
   "execution_count": null,
   "metadata": {},
   "outputs": [],
   "source": [
    "# 5. Channel aggregations\n",
    "channel_stats = pl_data.group_by(\"channel\").agg(\n",
    "    [\n",
    "        (pl.col(\"netprice_thb\").mean()).alias(\"channel_avg_price\"),\n",
    "        (pl.col(\"seats\").mean()).alias(\"channel_avg_seats\"),\n",
    "        (pl.col(\"email_score\").mean()).alias(\"channel_avg_score\"),\n",
    "    ]\n",
    ")\n",
    "\n",
    "pl_data = pl_data.join(channel_stats, on=\"channel\")"
   ]
  },
  {
   "cell_type": "code",
   "execution_count": null,
   "metadata": {},
   "outputs": [],
   "source": [
    "# 6. Combined features for the type of transport (vehclass_id)\n",
    "pl_data = pl_data.with_columns(\n",
    "    [  # Average price per seat for this type of transport\n",
    "        (\n",
    "            pl.col(\"netprice_thb\").mean().over(\"vehclass_id\")\n",
    "            / pl.col(\"seats\").mean().over(\"vehclass_id\")\n",
    "        ).alias(\"vehclass_avg_price_per_seat\"),\n",
    "        # Deviation from the average price per seat\n",
    "        (\n",
    "            (pl.col(\"netprice_thb\") / pl.col(\"seats\"))\n",
    "            - (\n",
    "                pl.col(\"netprice_thb\").mean().over(\"vehclass_id\")\n",
    "                / pl.col(\"seats\").mean().over(\"vehclass_id\")\n",
    "            )\n",
    "        ).alias(\"price_per_seat_deviation\"),\n",
    "    ]\n",
    ")"
   ]
  },
  {
   "cell_type": "code",
   "execution_count": null,
   "metadata": {},
   "outputs": [],
   "source": [
    "# 7. Interactions between important features\n",
    "pl_data = pl_data.with_columns(\n",
    "    [\n",
    "        (pl.col(\"email_score\") * pl.col(\"netprice_thb\")).alias(\n",
    "            \"score_price_interaction\"\n",
    "        ),\n",
    "        (pl.col(\"email_score\") * pl.col(\"security_flags_sum\")).alias(\n",
    "            \"score_security_interaction\"\n",
    "        ),\n",
    "    ]\n",
    ")"
   ]
  },
  {
   "cell_type": "code",
   "execution_count": null,
   "metadata": {},
   "outputs": [],
   "source": [
    "# 8. Features for the insurance flag (insurance_flg)\n",
    "pl_data = pl_data.with_columns(\n",
    "    [  # Price-to-average ratio with/without insurance\n",
    "        (\n",
    "            pl.col(\"netprice_thb\") / pl.col(\"netprice_thb\").mean().over(\"insurance_flg\")\n",
    "        ).alias(\"price_to_insurance_avg\"),\n",
    "    ]\n",
    ")"
   ]
  },
  {
   "cell_type": "code",
   "execution_count": null,
   "metadata": {},
   "outputs": [],
   "source": [
    "# 9. Creating time-related features\n",
    "pl_data = pl_data.with_columns(\n",
    "    [  # The difference between the creation and payment time (in hours)\n",
    "        ((pl.col(\"paidon\") - pl.col(\"createdon\")).dt.total_seconds() / 3600).alias(\n",
    "            \"hours_to_pay\"\n",
    "        ),\n",
    "        # The difference between the payment and the trip (in days)\n",
    "        ((pl.col(\"godate\") - pl.col(\"paidon\")).dt.total_seconds() / (3600 * 24)).alias(\n",
    "            \"days_to_trip\"\n",
    "        ),\n",
    "        # Difference between creation and trip (in days)\n",
    "        (\n",
    "            (pl.col(\"godate\") - pl.col(\"createdon\")).dt.total_seconds() / (3600 * 24)\n",
    "        ).alias(\"days_from_creation_to_trip\"),\n",
    "    ]\n",
    ")"
   ]
  },
  {
   "cell_type": "code",
   "execution_count": null,
   "metadata": {},
   "outputs": [],
   "source": [
    "# 10. We add more complex features over time\n",
    "pl_data = pl_data.with_columns(\n",
    "    [\n",
    "        (pl.col(\"hours_to_pay\") < 1 / 60).alias(\"instant_payment\"),\n",
    "        (pl.col(\"hours_to_pay\") < 5 / 60).alias(\"suspicious_fast_payment\"),\n",
    "        (pl.col(\"hours_to_pay\") > 24).alias(\"long_payment\"),\n",
    "        (pl.col(\"days_to_trip\") < 7).alias(\"near_trip\"),\n",
    "        (pl.col(\"days_to_trip\") > 90).alias(\"far_future_trip\"),\n",
    "    ]\n",
    ")"
   ]
  },
  {
   "cell_type": "code",
   "execution_count": null,
   "metadata": {},
   "outputs": [
    {
     "name": "stderr",
     "output_type": "stream",
     "text": [
      "/var/folders/l9/p8dmtkcx40g8jtfzctxzg4km0000gn/T/ipykernel_76841/315636817.py:3: DeprecationWarning: `days` is deprecated. It has been renamed to `total_days`.\n",
      "  ((pl.col(\"createdon\") - pl.col(\"date_of_birth\")).dt.days() / 365.25).alias(\n",
      "/var/folders/l9/p8dmtkcx40g8jtfzctxzg4km0000gn/T/ipykernel_76841/315636817.py:6: DeprecationWarning: `days` is deprecated. It has been renamed to `total_days`.\n",
      "  ((pl.col(\"godate\") - pl.col(\"date_of_birth\")).dt.days() / 365.25).alias(\n"
     ]
    }
   ],
   "source": [
    "# 11. Basic age features\n",
    "pl_data = pl_data.with_columns(\n",
    "    [\n",
    "        ((pl.col(\"createdon\") - pl.col(\"date_of_birth\")).dt.days() / 365.25).alias(\n",
    "            \"age\"\n",
    "        ),\n",
    "        ((pl.col(\"godate\") - pl.col(\"date_of_birth\")).dt.days() / 365.25).alias(\n",
    "            \"age_at_trip\"\n",
    "        ),\n",
    "    ]\n",
    ")"
   ]
  },
  {
   "cell_type": "code",
   "execution_count": 23,
   "metadata": {},
   "outputs": [
    {
     "data": {
      "text/html": [
       "<div><style>\n",
       ".dataframe > thead > tr,\n",
       ".dataframe > tbody > tr {\n",
       "  text-align: right;\n",
       "  white-space: pre-wrap;\n",
       "}\n",
       "</style>\n",
       "<small>shape: (5, 56)</small><table border=\"1\" class=\"dataframe\"><thead><tr><th>bid</th><th>channel</th><th>createdon</th><th>cust_name</th><th>date_of_birth</th><th>email</th><th>email_domain_score</th><th>email_score</th><th>godate</th><th>insurance_flg</th><th>ip</th><th>isFraud</th><th>nationality</th><th>netprice_thb</th><th>p_attempts</th><th>paidon</th><th>passenger_passport_score</th><th>passenger_score</th><th>payer_country</th><th>payer_name</th><th>proxy</th><th>recent_abuse</th><th>role_id</th><th>seats</th><th>tor</th><th>useragent</th><th>usr_name</th><th>vehclass_id</th><th>vpn</th><th>score_interaction</th><th>avg_risk_score</th><th>max_risk_score</th><th>email_score_deviation</th><th>price_per_seat</th><th>price_deviation</th><th>price_deviation_percent</th><th>security_flags_sum</th><th>has_security_flag</th><th>multiple_attempts</th><th>log_attempts</th><th>channel_avg_price</th><th>channel_avg_seats</th><th>channel_avg_score</th><th>vehclass_avg_price_per_seat</th><th>price_per_seat_deviation</th><th>score_price_interaction</th><th>score_security_interaction</th><th>price_to_insurance_avg</th><th>hours_to_pay</th><th>days_to_trip</th><th>days_from_creation_to_trip</th><th>instant_payment</th><th>suspicious_fast_payment</th><th>long_payment</th><th>near_trip</th><th>far_future_trip</th></tr><tr><td>i64</td><td>str</td><td>datetime[μs, UTC]</td><td>str</td><td>datetime[μs]</td><td>str</td><td>f64</td><td>f64</td><td>datetime[μs, UTC]</td><td>i64</td><td>str</td><td>i64</td><td>str</td><td>f64</td><td>i64</td><td>datetime[ns, UTC]</td><td>f64</td><td>f64</td><td>str</td><td>str</td><td>f64</td><td>f64</td><td>str</td><td>i64</td><td>f64</td><td>str</td><td>str</td><td>str</td><td>f64</td><td>f64</td><td>f64</td><td>f64</td><td>f64</td><td>f64</td><td>f64</td><td>f64</td><td>f64</td><td>bool</td><td>bool</td><td>f64</td><td>f64</td><td>f64</td><td>f64</td><td>f64</td><td>f64</td><td>f64</td><td>f64</td><td>f64</td><td>f64</td><td>f64</td><td>f64</td><td>bool</td><td>bool</td><td>bool</td><td>bool</td><td>bool</td></tr></thead><tbody><tr><td>6524445</td><td>&quot;affiliate&quot;</td><td>2021-04-30 17:21:17 UTC</td><td>&quot;Tiffany Stephe…</td><td>1999-07-04 00:00:00</td><td>&quot;ryanbrianna@ou…</td><td>0.0</td><td>10.0</td><td>2021-07-01 00:30:00 UTC</td><td>0</td><td>&quot;213.89.6.2&quot;</td><td>0</td><td>&quot;SE&quot;</td><td>115.0</td><td>0</td><td>2021-06-29 09:57:12.000177348 UTC</td><td>0.0</td><td>0.0</td><td>&quot;SE&quot;</td><td>&quot;Tiffany Stephe…</td><td>0.0</td><td>0.0</td><td>&quot;user&quot;</td><td>1</td><td>0.0</td><td>&quot;Phone,sv,SEK&quot;</td><td>&quot;Tiffany Stephe…</td><td>&quot;van&quot;</td><td>0.0</td><td>0.0</td><td>5.0</td><td>10.0</td><td>6.658495</td><td>115.0</td><td>-258.350472</td><td>-69.197843</td><td>0.0</td><td>false</td><td>false</td><td>0.0</td><td>732.835344</td><td>1.834371</td><td>3.429085</td><td>205.150919</td><td>-90.150919</td><td>1150.0</td><td>0.0</td><td>0.160478</td><td>1432.598611</td><td>1.6061</td><td>61.29772</td><td>false</td><td>false</td><td>true</td><td>true</td><td>false</td></tr><tr><td>5800338</td><td>&quot;affiliate&quot;</td><td>2021-04-30 17:30:19 UTC</td><td>&quot;Amanda Cooper&quot;</td><td>2002-06-07 00:00:00</td><td>&quot;dustin85@gmail…</td><td>0.0</td><td>10.0</td><td>2021-05-29 06:35:00 UTC</td><td>1</td><td>&quot;124.106.133.17…</td><td>0</td><td>&quot;TH&quot;</td><td>985.180176</td><td>0</td><td>2021-05-24 20:58:15.000692073 UTC</td><td>0.0</td><td>0.0</td><td>&quot;NU&quot;</td><td>null</td><td>0.0</td><td>0.0</td><td>&quot;user&quot;</td><td>1</td><td>0.0</td><td>&quot;Phone,en,PHP&quot;</td><td>&quot;Amanda Cooper&quot;</td><td>&quot;avia&quot;</td><td>0.0</td><td>0.0</td><td>5.0</td><td>10.0</td><td>6.658495</td><td>985.180176</td><td>-1790.30336</td><td>-64.504197</td><td>0.0</td><td>false</td><td>false</td><td>0.0</td><td>732.835344</td><td>1.834371</td><td>3.429085</td><td>1447.489083</td><td>-462.308907</td><td>9851.801758</td><td>0.0</td><td>1.195669</td><td>579.465556</td><td>4.400509</td><td>28.544919</td><td>false</td><td>false</td><td>true</td><td>true</td><td>false</td></tr><tr><td>7897646</td><td>&quot;direct&quot;</td><td>2021-04-30 18:09:12 UTC</td><td>&quot;Victoria Corte…</td><td>null</td><td>&quot;johnny40@gmail…</td><td>0.0</td><td>2.0</td><td>2021-05-10 03:40:00 UTC</td><td>1</td><td>&quot;183.88.101.237…</td><td>0</td><td>&quot;TH&quot;</td><td>2400.0</td><td>7</td><td>2021-05-05 11:40:55.000424451 UTC</td><td>0.0</td><td>0.0</td><td>&quot;CH&quot;</td><td>&quot;Victoria Corte…</td><td>0.0</td><td>0.0</td><td>&quot;user&quot;</td><td>2</td><td>0.0</td><td>&quot;Phone,de,THB&quot;</td><td>&quot;Victoria Corte…</td><td>&quot;avia&quot;</td><td>0.0</td><td>0.0</td><td>1.0</td><td>2.0</td><td>-1.341505</td><td>1200.0</td><td>-375.483536</td><td>-13.528581</td><td>0.0</td><td>false</td><td>true</td><td>2.079442</td><td>864.710572</td><td>1.858332</td><td>3.382131</td><td>1447.489083</td><td>-247.489083</td><td>4800.0</td><td>0.0</td><td>2.912772</td><td>113.528611</td><td>4.666019</td><td>9.396389</td><td>false</td><td>false</td><td>true</td><td>true</td><td>false</td></tr><tr><td>7644834</td><td>&quot;direct&quot;</td><td>2021-04-30 18:29:33 UTC</td><td>&quot;Victoria Corte…</td><td>1995-08-02 00:00:00</td><td>&quot;johnny40@gmail…</td><td>0.0</td><td>2.0</td><td>2021-05-10 05:00:00 UTC</td><td>1</td><td>&quot;183.88.101.237…</td><td>0</td><td>&quot;TH&quot;</td><td>410.0</td><td>2</td><td>2021-05-05 21:07:31.000171406 UTC</td><td>0.0</td><td>0.0</td><td>&quot;CH&quot;</td><td>&quot;Victoria Corte…</td><td>0.0</td><td>0.0</td><td>&quot;user&quot;</td><td>2</td><td>0.0</td><td>&quot;Phone,de,THB&quot;</td><td>&quot;Victoria Corte…</td><td>&quot;bus&quot;</td><td>0.0</td><td>0.0</td><td>1.0</td><td>2.0</td><td>-1.341505</td><td>205.0</td><td>-102.779204</td><td>-20.043559</td><td>0.0</td><td>false</td><td>false</td><td>1.098612</td><td>864.710572</td><td>1.858332</td><td>3.382131</td><td>298.047239</td><td>-93.047239</td><td>820.0</td><td>0.0</td><td>0.497599</td><td>122.632778</td><td>4.328102</td><td>9.4378125</td><td>false</td><td>false</td><td>true</td><td>true</td><td>false</td></tr><tr><td>7462960</td><td>&quot;unknown&quot;</td><td>2021-04-30 18:36:36 UTC</td><td>&quot;Francisco Wagn…</td><td>1989-01-16 00:00:00</td><td>&quot;margaretcastan…</td><td>0.0</td><td>5.0</td><td>2021-05-02 03:33:00 UTC</td><td>1</td><td>&quot;183.171.184.14…</td><td>0</td><td>&quot;TH&quot;</td><td>573.537903</td><td>0</td><td>2021-04-27 10:24:15.000421043 UTC</td><td>0.0</td><td>0.0</td><td>&quot;NU&quot;</td><td>null</td><td>0.0</td><td>0.0</td><td>&quot;user&quot;</td><td>1</td><td>0.0</td><td>&quot;Phone,en,MYR&quot;</td><td>&quot;Francisco Wagn…</td><td>&quot;train&quot;</td><td>0.0</td><td>0.0</td><td>2.5</td><td>5.0</td><td>1.658495</td><td>573.537903</td><td>-314.06581</td><td>-35.383562</td><td>0.0</td><td>false</td><td>false</td><td>0.0</td><td>715.642637</td><td>1.793547</td><td>2.579496</td><td>475.130668</td><td>98.407235</td><td>2867.689514</td><td>0.0</td><td>0.696077</td><td>-80.205556</td><td>4.714398</td><td>1.3725</td><td>true</td><td>true</td><td>false</td><td>true</td><td>false</td></tr></tbody></table></div>"
      ],
      "text/plain": [
       "shape: (5, 56)\n",
       "┌─────────┬───────────┬────────────┬───────────┬───┬───────────┬───────────┬───────────┬───────────┐\n",
       "│ bid     ┆ channel   ┆ createdon  ┆ cust_name ┆ … ┆ suspiciou ┆ long_paym ┆ near_trip ┆ far_futur │\n",
       "│ ---     ┆ ---       ┆ ---        ┆ ---       ┆   ┆ s_fast_pa ┆ ent       ┆ ---       ┆ e_trip    │\n",
       "│ i64     ┆ str       ┆ datetime[μ ┆ str       ┆   ┆ yment     ┆ ---       ┆ bool      ┆ ---       │\n",
       "│         ┆           ┆ s, UTC]    ┆           ┆   ┆ ---       ┆ bool      ┆           ┆ bool      │\n",
       "│         ┆           ┆            ┆           ┆   ┆ bool      ┆           ┆           ┆           │\n",
       "╞═════════╪═══════════╪════════════╪═══════════╪═══╪═══════════╪═══════════╪═══════════╪═══════════╡\n",
       "│ 6524445 ┆ affiliate ┆ 2021-04-30 ┆ Tiffany   ┆ … ┆ false     ┆ true      ┆ true      ┆ false     │\n",
       "│         ┆           ┆ 17:21:17   ┆ Stephenso ┆   ┆           ┆           ┆           ┆           │\n",
       "│         ┆           ┆ UTC        ┆ n         ┆   ┆           ┆           ┆           ┆           │\n",
       "│ 5800338 ┆ affiliate ┆ 2021-04-30 ┆ Amanda    ┆ … ┆ false     ┆ true      ┆ true      ┆ false     │\n",
       "│         ┆           ┆ 17:30:19   ┆ Cooper    ┆   ┆           ┆           ┆           ┆           │\n",
       "│         ┆           ┆ UTC        ┆           ┆   ┆           ┆           ┆           ┆           │\n",
       "│ 7897646 ┆ direct    ┆ 2021-04-30 ┆ Victoria  ┆ … ┆ false     ┆ true      ┆ true      ┆ false     │\n",
       "│         ┆           ┆ 18:09:12   ┆ Cortez    ┆   ┆           ┆           ┆           ┆           │\n",
       "│         ┆           ┆ UTC        ┆           ┆   ┆           ┆           ┆           ┆           │\n",
       "│ 7644834 ┆ direct    ┆ 2021-04-30 ┆ Victoria  ┆ … ┆ false     ┆ true      ┆ true      ┆ false     │\n",
       "│         ┆           ┆ 18:29:33   ┆ Cortez    ┆   ┆           ┆           ┆           ┆           │\n",
       "│         ┆           ┆ UTC        ┆           ┆   ┆           ┆           ┆           ┆           │\n",
       "│ 7462960 ┆ unknown   ┆ 2021-04-30 ┆ Francisco ┆ … ┆ true      ┆ false     ┆ true      ┆ false     │\n",
       "│         ┆           ┆ 18:36:36   ┆ Wagner    ┆   ┆           ┆           ┆           ┆           │\n",
       "│         ┆           ┆ UTC        ┆           ┆   ┆           ┆           ┆           ┆           │\n",
       "└─────────┴───────────┴────────────┴───────────┴───┴───────────┴───────────┴───────────┴───────────┘"
      ]
     },
     "execution_count": 23,
     "metadata": {},
     "output_type": "execute_result"
    }
   ],
   "source": [
    "pl_data.head(5)"
   ]
  },
  {
   "cell_type": "markdown",
   "metadata": {},
   "source": [
    "# Split data by time"
   ]
  },
  {
   "cell_type": "markdown",
   "metadata": {},
   "source": [
    "**To separate the data, we will use the date 2022-11-30 since the distribution of the target event will be approximately the same for training and testing**"
   ]
  },
  {
   "cell_type": "code",
   "execution_count": 43,
   "metadata": {},
   "outputs": [],
   "source": [
    "date_split_utc = pl.datetime(2022, 11, 30, 0, 0, 0).cast(\n",
    "    pl.Datetime(\"us\", time_zone=\"UTC\")\n",
    ")"
   ]
  },
  {
   "cell_type": "code",
   "execution_count": 44,
   "metadata": {},
   "outputs": [
    {
     "data": {
      "text/plain": [
       "isFraud\n",
       "0    0.997879\n",
       "1    0.002121\n",
       "Name: proportion, dtype: float64"
      ]
     },
     "execution_count": 44,
     "metadata": {},
     "output_type": "execute_result"
    }
   ],
   "source": [
    "pl_data.filter(pl.col(\"createdon\") < date_split_utc)[\n",
    "    \"isFraud\"\n",
    "].to_pandas().value_counts(normalize=True)"
   ]
  },
  {
   "cell_type": "code",
   "execution_count": 45,
   "metadata": {},
   "outputs": [
    {
     "data": {
      "text/plain": [
       "isFraud\n",
       "0    0.997701\n",
       "1    0.002299\n",
       "Name: proportion, dtype: float64"
      ]
     },
     "execution_count": 45,
     "metadata": {},
     "output_type": "execute_result"
    }
   ],
   "source": [
    "pl_data.filter(pl.col(\"createdon\") >= date_split_utc)[\n",
    "    \"isFraud\"\n",
    "].to_pandas().value_counts(normalize=True)"
   ]
  },
  {
   "cell_type": "markdown",
   "metadata": {},
   "source": [
    "# Train model"
   ]
  },
  {
   "cell_type": "code",
   "execution_count": 47,
   "metadata": {},
   "outputs": [],
   "source": [
    "train_data = pl_data.filter(pl.col(\"createdon\") < date_split_utc)\n",
    "test_data = pl_data.filter(pl.col(\"createdon\") >= date_split_utc)"
   ]
  },
  {
   "cell_type": "code",
   "execution_count": 48,
   "metadata": {},
   "outputs": [],
   "source": [
    "X_train = train_data.drop(\n",
    "    [\n",
    "        \"isFraud\",\n",
    "        \"bid\",\n",
    "        \"cust_name\",\n",
    "        \"date_of_birth\",\n",
    "        \"email\",\n",
    "        \"godate\",\n",
    "        \"ip\",\n",
    "        \"paidon\",\n",
    "        \"payer_name\",\n",
    "        \"useragent\",\n",
    "        \"usr_name\",\n",
    "        \"createdon\",\n",
    "    ]\n",
    ").to_pandas()\n",
    "y_train = train_data[\"isFraud\"].to_pandas()\n",
    "\n",
    "X_test = test_data.drop(\n",
    "    [\n",
    "        \"isFraud\",\n",
    "        \"bid\",\n",
    "        \"cust_name\",\n",
    "        \"date_of_birth\",\n",
    "        \"email\",\n",
    "        \"godate\",\n",
    "        \"ip\",\n",
    "        \"paidon\",\n",
    "        \"payer_name\",\n",
    "        \"useragent\",\n",
    "        \"usr_name\",\n",
    "        \"createdon\",\n",
    "    ]\n",
    ").to_pandas()\n",
    "y_test = test_data[\"isFraud\"].to_pandas()"
   ]
  },
  {
   "cell_type": "code",
   "execution_count": 49,
   "metadata": {},
   "outputs": [],
   "source": [
    "cat_features = [\"channel\", \"nationality\", \"payer_country\", \"role_id\", \"vehclass_id\"]"
   ]
  },
  {
   "cell_type": "code",
   "execution_count": 52,
   "metadata": {},
   "outputs": [],
   "source": [
    "train_pool = Pool(data=X_train, label=y_train, cat_features=cat_features)\n",
    "test_pool = Pool(data=X_test, label=y_test, cat_features=cat_features)"
   ]
  },
  {
   "cell_type": "code",
   "execution_count": 55,
   "metadata": {},
   "outputs": [
    {
     "data": {
      "application/vnd.jupyter.widget-view+json": {
       "model_id": "a5eae90916874850b0753064d521f97a",
       "version_major": 2,
       "version_minor": 0
      },
      "text/plain": [
       "MetricVisualizer(layout=Layout(align_self='stretch', height='500px'))"
      ]
     },
     "metadata": {},
     "output_type": "display_data"
    },
    {
     "name": "stdout",
     "output_type": "stream",
     "text": [
      "Learning rate set to 0.164541\n",
      "0:\tlearn: 0.2335635\ttest: 0.2412209\tbest: 0.2412209 (0)\ttotal: 774ms\tremaining: 12m 53s\n",
      "Stopped by overfitting detector  (50 iterations wait)\n",
      "\n",
      "bestTest = 0.002380539085\n",
      "bestIteration = 49\n",
      "\n",
      "Shrink model to first 50 iterations.\n"
     ]
    },
    {
     "data": {
      "text/plain": [
       "<catboost.core.CatBoostClassifier at 0x3271f5c10>"
      ]
     },
     "execution_count": 55,
     "metadata": {},
     "output_type": "execute_result"
    }
   ],
   "source": [
    "clf = CatBoostClassifier(\n",
    "    iterations=1000, thread_count=-1, random_seed=42, cat_features=cat_features\n",
    ")\n",
    "\n",
    "clf.fit(\n",
    "    train_pool,\n",
    "    eval_set=test_pool,\n",
    "    verbose=100,\n",
    "    use_best_model=True,\n",
    "    early_stopping_rounds=50,\n",
    "    plot=True,\n",
    ")"
   ]
  },
  {
   "cell_type": "code",
   "execution_count": 56,
   "metadata": {},
   "outputs": [],
   "source": [
    "y_pred = clf.predict(test_pool)\n",
    "y_pred_proba = clf.predict_proba(test_pool)[:, 1]"
   ]
  },
  {
   "cell_type": "code",
   "execution_count": 57,
   "metadata": {},
   "outputs": [
    {
     "name": "stdout",
     "output_type": "stream",
     "text": [
      "Classification Report:\n",
      "              precision    recall  f1-score   support\n",
      "\n",
      "           0       1.00      1.00      1.00   2670628\n",
      "           1       0.93      0.66      0.78      6155\n",
      "\n",
      "    accuracy                           1.00   2676783\n",
      "   macro avg       0.97      0.83      0.89   2676783\n",
      "weighted avg       1.00      1.00      1.00   2676783\n",
      "\n"
     ]
    }
   ],
   "source": [
    "print(\"Classification Report:\")\n",
    "print(classification_report(y_test, y_pred))"
   ]
  },
  {
   "cell_type": "code",
   "execution_count": 58,
   "metadata": {},
   "outputs": [
    {
     "name": "stdout",
     "output_type": "stream",
     "text": [
      "\n",
      "ROC-AUC Score: 0.9995\n"
     ]
    }
   ],
   "source": [
    "roc_auc = roc_auc_score(y_test, y_pred_proba)\n",
    "print(f\"\\nROC-AUC Score: {roc_auc:.4f}\")"
   ]
  },
  {
   "cell_type": "code",
   "execution_count": 59,
   "metadata": {},
   "outputs": [
    {
     "name": "stderr",
     "output_type": "stream",
     "text": [
      "/Users/kurmangazykarabekov/anaconda3/lib/python3.11/site-packages/seaborn/_oldcore.py:1119: FutureWarning: use_inf_as_na option is deprecated and will be removed in a future version. Convert inf values to NaN before operating instead.\n",
      "  with pd.option_context('mode.use_inf_as_na', True):\n"
     ]
    },
    {
     "data": {
      "image/png": "[encoded data removed]",
      "text/plain": [
       "<Figure size 640x480 with 1 Axes>"
      ]
     },
     "metadata": {},
     "output_type": "display_data"
    }
   ],
   "source": [
    "sns.histplot(y_pred_proba, bins=10)\n",
    "plt.show()"
   ]
  },
  {
   "cell_type": "code",
   "execution_count": 60,
   "metadata": {},
   "outputs": [
    {
     "data": {
      "text/html": [
       "<div>\n",
       "<style scoped>\n",
       "    .dataframe tbody tr th:only-of-type {\n",
       "        vertical-align: middle;\n",
       "    }\n",
       "\n",
       "    .dataframe tbody tr th {\n",
       "        vertical-align: top;\n",
       "    }\n",
       "\n",
       "    .dataframe thead th {\n",
       "        text-align: right;\n",
       "    }\n",
       "</style>\n",
       "<table border=\"1\" class=\"dataframe\">\n",
       "  <thead>\n",
       "    <tr style=\"text-align: right;\">\n",
       "      <th></th>\n",
       "      <th>Feature Id</th>\n",
       "      <th>Importances</th>\n",
       "    </tr>\n",
       "  </thead>\n",
       "  <tbody>\n",
       "    <tr>\n",
       "      <th>0</th>\n",
       "      <td>days_to_trip</td>\n",
       "      <td>26.460795</td>\n",
       "    </tr>\n",
       "    <tr>\n",
       "      <th>1</th>\n",
       "      <td>age_at_trip</td>\n",
       "      <td>15.668167</td>\n",
       "    </tr>\n",
       "    <tr>\n",
       "      <th>2</th>\n",
       "      <td>age</td>\n",
       "      <td>14.755310</td>\n",
       "    </tr>\n",
       "    <tr>\n",
       "      <th>3</th>\n",
       "      <td>score_price_interaction</td>\n",
       "      <td>6.331080</td>\n",
       "    </tr>\n",
       "    <tr>\n",
       "      <th>4</th>\n",
       "      <td>vehclass_avg_price_per_seat</td>\n",
       "      <td>4.498736</td>\n",
       "    </tr>\n",
       "    <tr>\n",
       "      <th>5</th>\n",
       "      <td>channel_avg_price</td>\n",
       "      <td>4.327748</td>\n",
       "    </tr>\n",
       "    <tr>\n",
       "      <th>6</th>\n",
       "      <td>max_risk_score</td>\n",
       "      <td>4.267207</td>\n",
       "    </tr>\n",
       "    <tr>\n",
       "      <th>7</th>\n",
       "      <td>vehclass_id</td>\n",
       "      <td>3.036386</td>\n",
       "    </tr>\n",
       "    <tr>\n",
       "      <th>8</th>\n",
       "      <td>score_security_interaction</td>\n",
       "      <td>2.563635</td>\n",
       "    </tr>\n",
       "    <tr>\n",
       "      <th>9</th>\n",
       "      <td>days_from_creation_to_trip</td>\n",
       "      <td>2.130728</td>\n",
       "    </tr>\n",
       "    <tr>\n",
       "      <th>10</th>\n",
       "      <td>hours_to_pay</td>\n",
       "      <td>1.878022</td>\n",
       "    </tr>\n",
       "    <tr>\n",
       "      <th>11</th>\n",
       "      <td>payer_country</td>\n",
       "      <td>1.606662</td>\n",
       "    </tr>\n",
       "    <tr>\n",
       "      <th>12</th>\n",
       "      <td>netprice_thb</td>\n",
       "      <td>1.591719</td>\n",
       "    </tr>\n",
       "    <tr>\n",
       "      <th>13</th>\n",
       "      <td>avg_risk_score</td>\n",
       "      <td>1.548961</td>\n",
       "    </tr>\n",
       "    <tr>\n",
       "      <th>14</th>\n",
       "      <td>security_flags_sum</td>\n",
       "      <td>1.115008</td>\n",
       "    </tr>\n",
       "    <tr>\n",
       "      <th>15</th>\n",
       "      <td>price_deviation_percent</td>\n",
       "      <td>1.030243</td>\n",
       "    </tr>\n",
       "    <tr>\n",
       "      <th>16</th>\n",
       "      <td>price_per_seat_deviation</td>\n",
       "      <td>0.936792</td>\n",
       "    </tr>\n",
       "    <tr>\n",
       "      <th>17</th>\n",
       "      <td>price_to_insurance_avg</td>\n",
       "      <td>0.868092</td>\n",
       "    </tr>\n",
       "    <tr>\n",
       "      <th>18</th>\n",
       "      <td>proxy</td>\n",
       "      <td>0.867149</td>\n",
       "    </tr>\n",
       "    <tr>\n",
       "      <th>19</th>\n",
       "      <td>price_deviation</td>\n",
       "      <td>0.600431</td>\n",
       "    </tr>\n",
       "    <tr>\n",
       "      <th>20</th>\n",
       "      <td>role_id</td>\n",
       "      <td>0.590428</td>\n",
       "    </tr>\n",
       "    <tr>\n",
       "      <th>21</th>\n",
       "      <td>price_per_seat</td>\n",
       "      <td>0.564911</td>\n",
       "    </tr>\n",
       "    <tr>\n",
       "      <th>22</th>\n",
       "      <td>email_score_deviation</td>\n",
       "      <td>0.545103</td>\n",
       "    </tr>\n",
       "    <tr>\n",
       "      <th>23</th>\n",
       "      <td>recent_abuse</td>\n",
       "      <td>0.453786</td>\n",
       "    </tr>\n",
       "    <tr>\n",
       "      <th>24</th>\n",
       "      <td>nationality</td>\n",
       "      <td>0.387139</td>\n",
       "    </tr>\n",
       "    <tr>\n",
       "      <th>25</th>\n",
       "      <td>channel_avg_seats</td>\n",
       "      <td>0.329517</td>\n",
       "    </tr>\n",
       "    <tr>\n",
       "      <th>26</th>\n",
       "      <td>p_attempts</td>\n",
       "      <td>0.265338</td>\n",
       "    </tr>\n",
       "    <tr>\n",
       "      <th>27</th>\n",
       "      <td>passenger_score</td>\n",
       "      <td>0.238940</td>\n",
       "    </tr>\n",
       "    <tr>\n",
       "      <th>28</th>\n",
       "      <td>log_attempts</td>\n",
       "      <td>0.231117</td>\n",
       "    </tr>\n",
       "    <tr>\n",
       "      <th>29</th>\n",
       "      <td>insurance_flg</td>\n",
       "      <td>0.090001</td>\n",
       "    </tr>\n",
       "    <tr>\n",
       "      <th>30</th>\n",
       "      <td>vpn</td>\n",
       "      <td>0.084888</td>\n",
       "    </tr>\n",
       "    <tr>\n",
       "      <th>31</th>\n",
       "      <td>score_interaction</td>\n",
       "      <td>0.046739</td>\n",
       "    </tr>\n",
       "    <tr>\n",
       "      <th>32</th>\n",
       "      <td>seats</td>\n",
       "      <td>0.033000</td>\n",
       "    </tr>\n",
       "    <tr>\n",
       "      <th>33</th>\n",
       "      <td>multiple_attempts</td>\n",
       "      <td>0.027215</td>\n",
       "    </tr>\n",
       "    <tr>\n",
       "      <th>34</th>\n",
       "      <td>passenger_passport_score</td>\n",
       "      <td>0.015815</td>\n",
       "    </tr>\n",
       "    <tr>\n",
       "      <th>35</th>\n",
       "      <td>channel_avg_score</td>\n",
       "      <td>0.012997</td>\n",
       "    </tr>\n",
       "    <tr>\n",
       "      <th>36</th>\n",
       "      <td>channel</td>\n",
       "      <td>0.000195</td>\n",
       "    </tr>\n",
       "    <tr>\n",
       "      <th>37</th>\n",
       "      <td>near_trip</td>\n",
       "      <td>0.000001</td>\n",
       "    </tr>\n",
       "    <tr>\n",
       "      <th>38</th>\n",
       "      <td>email_domain_score</td>\n",
       "      <td>0.000000</td>\n",
       "    </tr>\n",
       "    <tr>\n",
       "      <th>39</th>\n",
       "      <td>email_score</td>\n",
       "      <td>0.000000</td>\n",
       "    </tr>\n",
       "    <tr>\n",
       "      <th>40</th>\n",
       "      <td>tor</td>\n",
       "      <td>0.000000</td>\n",
       "    </tr>\n",
       "    <tr>\n",
       "      <th>41</th>\n",
       "      <td>has_security_flag</td>\n",
       "      <td>0.000000</td>\n",
       "    </tr>\n",
       "    <tr>\n",
       "      <th>42</th>\n",
       "      <td>instant_payment</td>\n",
       "      <td>0.000000</td>\n",
       "    </tr>\n",
       "    <tr>\n",
       "      <th>43</th>\n",
       "      <td>suspicious_fast_payment</td>\n",
       "      <td>0.000000</td>\n",
       "    </tr>\n",
       "    <tr>\n",
       "      <th>44</th>\n",
       "      <td>long_payment</td>\n",
       "      <td>0.000000</td>\n",
       "    </tr>\n",
       "    <tr>\n",
       "      <th>45</th>\n",
       "      <td>far_future_trip</td>\n",
       "      <td>0.000000</td>\n",
       "    </tr>\n",
       "  </tbody>\n",
       "</table>\n",
       "</div>"
      ],
      "text/plain": [
       "                     Feature Id  Importances\n",
       "0                  days_to_trip    26.460795\n",
       "1                   age_at_trip    15.668167\n",
       "2                           age    14.755310\n",
       "3       score_price_interaction     6.331080\n",
       "4   vehclass_avg_price_per_seat     4.498736\n",
       "5             channel_avg_price     4.327748\n",
       "6                max_risk_score     4.267207\n",
       "7                   vehclass_id     3.036386\n",
       "8    score_security_interaction     2.563635\n",
       "9    days_from_creation_to_trip     2.130728\n",
       "10                 hours_to_pay     1.878022\n",
       "11                payer_country     1.606662\n",
       "12                 netprice_thb     1.591719\n",
       "13               avg_risk_score     1.548961\n",
       "14           security_flags_sum     1.115008\n",
       "15      price_deviation_percent     1.030243\n",
       "16     price_per_seat_deviation     0.936792\n",
       "17       price_to_insurance_avg     0.868092\n",
       "18                        proxy     0.867149\n",
       "19              price_deviation     0.600431\n",
       "20                      role_id     0.590428\n",
       "21               price_per_seat     0.564911\n",
       "22        email_score_deviation     0.545103\n",
       "23                 recent_abuse     0.453786\n",
       "24                  nationality     0.387139\n",
       "25            channel_avg_seats     0.329517\n",
       "26                   p_attempts     0.265338\n",
       "27              passenger_score     0.238940\n",
       "28                 log_attempts     0.231117\n",
       "29                insurance_flg     0.090001\n",
       "30                          vpn     0.084888\n",
       "31            score_interaction     0.046739\n",
       "32                        seats     0.033000\n",
       "33            multiple_attempts     0.027215\n",
       "34     passenger_passport_score     0.015815\n",
       "35            channel_avg_score     0.012997\n",
       "36                      channel     0.000195\n",
       "37                    near_trip     0.000001\n",
       "38           email_domain_score     0.000000\n",
       "39                  email_score     0.000000\n",
       "40                          tor     0.000000\n",
       "41            has_security_flag     0.000000\n",
       "42              instant_payment     0.000000\n",
       "43      suspicious_fast_payment     0.000000\n",
       "44                 long_payment     0.000000\n",
       "45              far_future_trip     0.000000"
      ]
     },
     "execution_count": 60,
     "metadata": {},
     "output_type": "execute_result"
    }
   ],
   "source": [
    "clf.get_feature_importance(prettified=True)"
   ]
  },
  {
   "cell_type": "code",
   "execution_count": 72,
   "metadata": {},
   "outputs": [],
   "source": [
    "def lift_metric_plot(model, X_test, y_test):\n",
    "    all_pred = pd.DataFrame()\n",
    "    all_pred[\"prob\"] = model.predict_proba(X_test)[:, 1]\n",
    "    all_pred[\"true\"] = y_test.values\n",
    "    import matplotlib.pyplot as plt\n",
    "    import numpy as np\n",
    "    from sklearn.metrics import precision_score\n",
    "    from sklearn.metrics import recall_score\n",
    "    from sklearn.metrics import f1_score\n",
    "    from sklearn.metrics import accuracy_score\n",
    "\n",
    "    y_true = all_pred[\"true\"]\n",
    "    recall = []\n",
    "    precision = []\n",
    "    score = []\n",
    "    f_score = []\n",
    "\n",
    "    aa = -np.sort(\n",
    "        -all_pred[\"prob\"].describe(percentiles=np.linspace(0, 1, 101))[4:105].values\n",
    "    )\n",
    "    for i in range(0, len(aa)):\n",
    "        f = lambda x: 1 if x >= aa[i] else 0\n",
    "        score.append(aa[i])\n",
    "        y_pred = all_pred[\"prob\"].map(f)\n",
    "        g = recall_score(y_true, y_pred, average=\"binary\")\n",
    "        recall.append(g)\n",
    "        p = precision_score(y_true, y_pred, average=\"binary\")\n",
    "        precision.append(p)\n",
    "        t = f1_score(y_true, y_pred, average=\"binary\")\n",
    "        f_score.append(t)\n",
    "\n",
    "    temp = pd.DataFrame()\n",
    "    temp[\"score\"] = score\n",
    "    temp[\"recall\"] = recall\n",
    "    temp[\"precision\"] = precision\n",
    "    temp[\"top_percentile\"] = np.round(list(np.linspace(0, 100, 101))).tolist()\n",
    "\n",
    "    temp[\"lift\"] = temp[\"recall\"] / (temp[\"top_percentile\"] / 100.0)\n",
    "    temp[\"max_lift\"] = 1 / (y_test.sum() / len(y_test))\n",
    "    temp[\"relative_lift\"] = temp[\"lift\"] / temp[\"max_lift\"]\n",
    "\n",
    "    temp[\"percent\"] = 100 * (y_test.sum() / len(y_test))\n",
    "    plt.figure()\n",
    "    plt.plot(temp[1:][\"top_percentile\"], temp[1:][\"lift\"])\n",
    "    plt.xlabel(\"Percentile\")\n",
    "    plt.ylabel(\"LIFT\")\n",
    "    plt.scatter(\n",
    "        1,\n",
    "        temp[temp[\"top_percentile\"] == 1][\"lift\"][1],\n",
    "        marker=\"o\",\n",
    "        s=30,\n",
    "        zorder=10,\n",
    "        color=\"b\",\n",
    "    )\n",
    "    plt.text(\n",
    "        1,\n",
    "        temp[temp[\"top_percentile\"] == 1][\"lift\"][1],\n",
    "        \"      top 1 : {}\".format(\n",
    "            np.round(temp[temp[\"top_percentile\"] == 1][\"lift\"][1], 3)\n",
    "        ),\n",
    "        fontsize=10,\n",
    "    )\n",
    "    plt.scatter(\n",
    "        10,\n",
    "        temp[temp[\"top_percentile\"] == 10][\"lift\"][10],\n",
    "        marker=\"o\",\n",
    "        s=30,\n",
    "        zorder=10,\n",
    "        color=\"b\",\n",
    "    )\n",
    "    plt.text(\n",
    "        10,\n",
    "        temp[temp[\"top_percentile\"] == 10][\"lift\"][10],\n",
    "        \"      top 10 : {}\".format(\n",
    "            np.round(temp[temp[\"top_percentile\"] == 10][\"lift\"][10], 3)\n",
    "        ),\n",
    "        fontsize=10,\n",
    "    )\n",
    "    plt.title(\"Lift-chart\")\n",
    "    plt.figure()\n",
    "    plt.plot(temp[1:][\"top_percentile\"], temp[1:][\"relative_lift\"])\n",
    "    plt.xlabel(\"Percentile\")\n",
    "    plt.ylabel(\"Relative_lift\")\n",
    "    plt.scatter(\n",
    "        1,\n",
    "        temp[temp[\"top_percentile\"] == 1][\"relative_lift\"][1],\n",
    "        marker=\"o\",\n",
    "        s=30,\n",
    "        zorder=10,\n",
    "        color=\"b\",\n",
    "    )\n",
    "    plt.text(\n",
    "        1,\n",
    "        temp[temp[\"top_percentile\"] == 1][\"relative_lift\"][1],\n",
    "        \"      top 1 : {}\".format(\n",
    "            np.round(temp[temp[\"top_percentile\"] == 1][\"relative_lift\"][1], 3)\n",
    "        ),\n",
    "        fontsize=10,\n",
    "    )\n",
    "    plt.scatter(\n",
    "        10,\n",
    "        temp[temp[\"top_percentile\"] == 10][\"relative_lift\"][10],\n",
    "        marker=\"o\",\n",
    "        s=30,\n",
    "        zorder=10,\n",
    "        color=\"b\",\n",
    "    )\n",
    "    plt.text(\n",
    "        10,\n",
    "        temp[temp[\"top_percentile\"] == 10][\"relative_lift\"][10],\n",
    "        \"      top 10 : {}\".format(\n",
    "            np.round(temp[temp[\"top_percentile\"] == 10][\"relative_lift\"][10], 3)\n",
    "        ),\n",
    "        fontsize=10,\n",
    "    )\n",
    "    plt.title(\"Relative-lift-chart\")\n",
    "    plt.figure()\n",
    "    plt.plot(temp[1:][\"top_percentile\"], temp[1:][\"recall\"])\n",
    "    plt.xlabel(\"Percentile\")\n",
    "    plt.ylabel(\"GAIN\")\n",
    "    plt.scatter(\n",
    "        10,\n",
    "        temp[temp[\"top_percentile\"] == 10][\"recall\"][10],\n",
    "        marker=\"o\",\n",
    "        s=30,\n",
    "        zorder=10,\n",
    "        color=\"b\",\n",
    "    )\n",
    "    plt.text(\n",
    "        10,\n",
    "        temp[temp[\"top_percentile\"] == 10][\"recall\"][10],\n",
    "        \"      top 10 : {}\".format(\n",
    "            np.round(temp[temp[\"top_percentile\"] == 10][\"recall\"][10], 3)\n",
    "        ),\n",
    "        fontsize=10,\n",
    "    )\n",
    "    plt.scatter(\n",
    "        40,\n",
    "        temp[temp[\"top_percentile\"] == 40][\"recall\"][40],\n",
    "        marker=\"o\",\n",
    "        s=30,\n",
    "        zorder=10,\n",
    "        color=\"b\",\n",
    "    )\n",
    "    plt.text(\n",
    "        40,\n",
    "        temp[temp[\"top_percentile\"] == 40][\"recall\"][40],\n",
    "        \"      top 40 : {}\".format(\n",
    "            np.round(temp[temp[\"top_percentile\"] == 40][\"recall\"][40], 3)\n",
    "        ),\n",
    "        fontsize=10,\n",
    "    )\n",
    "    plt.title(\"Gain-chart\")\n",
    "    from sklearn.metrics import roc_curve, auc\n",
    "\n",
    "    fpr, tpr, thresholds = roc_curve(y_test.values, model.predict_proba(X_test)[:, 1])\n",
    "    roc_auc = auc(fpr, tpr)\n",
    "\n",
    "    plt.figure()\n",
    "    plt.plot(\n",
    "        fpr, tpr, color=\"darkorange\", lw=1, label=\"ROC curve (area = %0.2f)\" % roc_auc\n",
    "    )\n",
    "    plt.plot([0, 1], [0, 1], color=\"navy\", lw=1, linestyle=\"--\")\n",
    "    plt.xlim([0.0, 1.0])\n",
    "    plt.ylim([0.0, 1.05])\n",
    "    plt.xlabel(\"False Positive Rate\")\n",
    "    plt.ylabel(\"True Positive Rate\")\n",
    "    plt.title(\"Receiver operating characteristic (ROC)\")\n",
    "    plt.legend(loc=\"lower right\")\n",
    "    plt.show()\n",
    "    print(temp[1:].head(10))\n",
    "    return temp[1:]"
   ]
  },
  {
   "cell_type": "code",
   "execution_count": 73,
   "metadata": {},
   "outputs": [
    {
     "data": {
      "image/png": "[encoded data removed]",
      "text/plain": [
       "<Figure size 640x480 with 1 Axes>"
      ]
     },
     "metadata": {},
     "output_type": "display_data"
    },
    {
     "data": {
      "image/png": "[encoded data removed]",
      "text/plain": [
       "<Figure size 640x480 with 1 Axes>"
      ]
     },
     "metadata": {},
     "output_type": "display_data"
    },
    {
     "data": {
      "image/png": "[encoded data removed]",
      "text/plain": [
       "<Figure size 640x480 with 1 Axes>"
      ]
     },
     "metadata": {},
     "output_type": "display_data"
    },
    {
     "data": {
      "image/png": "[encoded data removed]",
      "text/plain": [
       "<Figure size 640x480 with 1 Axes>"
      ]
     },
     "metadata": {},
     "output_type": "display_data"
    },
    {
     "name": "stdout",
     "output_type": "stream",
     "text": [
      "       score    recall  precision  top_percentile       lift    max_lift  \\\n",
      "1   0.000829  0.990739   0.227809             1.0  99.073924  434.895695   \n",
      "2   0.000230  0.995613   0.114465             2.0  49.780666  434.895695   \n",
      "3   0.000122  0.997400   0.076447             3.0  33.246683  434.895695   \n",
      "4   0.000070  0.998538   0.057401             4.0  24.963444  434.895695   \n",
      "5   0.000042  0.999025   0.045943             5.0  19.980504  434.895695   \n",
      "6   0.000028  0.999513   0.038305             6.0  16.658543  434.895695   \n",
      "7   0.000019  0.999675   0.032838             7.0  14.281072  434.895695   \n",
      "8   0.000014  0.999675   0.028733             8.0  12.495938  434.895695   \n",
      "9   0.000011  0.999838   0.025545             9.0  11.109306  434.895695   \n",
      "10  0.000008  0.999838   0.022990            10.0   9.998375  434.895695   \n",
      "\n",
      "    relative_lift  percent  \n",
      "1        0.227811  0.22994  \n",
      "2        0.114466  0.22994  \n",
      "3        0.076447  0.22994  \n",
      "4        0.057401  0.22994  \n",
      "5        0.045943  0.22994  \n",
      "6        0.038305  0.22994  \n",
      "7        0.032838  0.22994  \n",
      "8        0.028733  0.22994  \n",
      "9        0.025545  0.22994  \n",
      "10       0.022990  0.22994  \n"
     ]
    },
    {
     "data": {
      "text/html": [
       "<div>\n",
       "<style scoped>\n",
       "    .dataframe tbody tr th:only-of-type {\n",
       "        vertical-align: middle;\n",
       "    }\n",
       "\n",
       "    .dataframe tbody tr th {\n",
       "        vertical-align: top;\n",
       "    }\n",
       "\n",
       "    .dataframe thead th {\n",
       "        text-align: right;\n",
       "    }\n",
       "</style>\n",
       "<table border=\"1\" class=\"dataframe\">\n",
       "  <thead>\n",
       "    <tr style=\"text-align: right;\">\n",
       "      <th></th>\n",
       "      <th>score</th>\n",
       "      <th>recall</th>\n",
       "      <th>precision</th>\n",
       "      <th>top_percentile</th>\n",
       "      <th>lift</th>\n",
       "      <th>max_lift</th>\n",
       "      <th>relative_lift</th>\n",
       "      <th>percent</th>\n",
       "    </tr>\n",
       "  </thead>\n",
       "  <tbody>\n",
       "    <tr>\n",
       "      <th>1</th>\n",
       "      <td>8.294484e-04</td>\n",
       "      <td>0.990739</td>\n",
       "      <td>0.227809</td>\n",
       "      <td>1.0</td>\n",
       "      <td>99.073924</td>\n",
       "      <td>434.895695</td>\n",
       "      <td>0.227811</td>\n",
       "      <td>0.22994</td>\n",
       "    </tr>\n",
       "    <tr>\n",
       "      <th>2</th>\n",
       "      <td>2.303617e-04</td>\n",
       "      <td>0.995613</td>\n",
       "      <td>0.114465</td>\n",
       "      <td>2.0</td>\n",
       "      <td>49.780666</td>\n",
       "      <td>434.895695</td>\n",
       "      <td>0.114466</td>\n",
       "      <td>0.22994</td>\n",
       "    </tr>\n",
       "    <tr>\n",
       "      <th>3</th>\n",
       "      <td>1.217636e-04</td>\n",
       "      <td>0.997400</td>\n",
       "      <td>0.076447</td>\n",
       "      <td>3.0</td>\n",
       "      <td>33.246683</td>\n",
       "      <td>434.895695</td>\n",
       "      <td>0.076447</td>\n",
       "      <td>0.22994</td>\n",
       "    </tr>\n",
       "    <tr>\n",
       "      <th>4</th>\n",
       "      <td>7.033434e-05</td>\n",
       "      <td>0.998538</td>\n",
       "      <td>0.057401</td>\n",
       "      <td>4.0</td>\n",
       "      <td>24.963444</td>\n",
       "      <td>434.895695</td>\n",
       "      <td>0.057401</td>\n",
       "      <td>0.22994</td>\n",
       "    </tr>\n",
       "    <tr>\n",
       "      <th>5</th>\n",
       "      <td>4.246010e-05</td>\n",
       "      <td>0.999025</td>\n",
       "      <td>0.045943</td>\n",
       "      <td>5.0</td>\n",
       "      <td>19.980504</td>\n",
       "      <td>434.895695</td>\n",
       "      <td>0.045943</td>\n",
       "      <td>0.22994</td>\n",
       "    </tr>\n",
       "    <tr>\n",
       "      <th>...</th>\n",
       "      <td>...</td>\n",
       "      <td>...</td>\n",
       "      <td>...</td>\n",
       "      <td>...</td>\n",
       "      <td>...</td>\n",
       "      <td>...</td>\n",
       "      <td>...</td>\n",
       "      <td>...</td>\n",
       "    </tr>\n",
       "    <tr>\n",
       "      <th>96</th>\n",
       "      <td>1.002033e-07</td>\n",
       "      <td>1.000000</td>\n",
       "      <td>0.002395</td>\n",
       "      <td>96.0</td>\n",
       "      <td>1.041667</td>\n",
       "      <td>434.895695</td>\n",
       "      <td>0.002395</td>\n",
       "      <td>0.22994</td>\n",
       "    </tr>\n",
       "    <tr>\n",
       "      <th>97</th>\n",
       "      <td>9.451158e-08</td>\n",
       "      <td>1.000000</td>\n",
       "      <td>0.002371</td>\n",
       "      <td>97.0</td>\n",
       "      <td>1.030928</td>\n",
       "      <td>434.895695</td>\n",
       "      <td>0.002371</td>\n",
       "      <td>0.22994</td>\n",
       "    </tr>\n",
       "    <tr>\n",
       "      <th>98</th>\n",
       "      <td>8.758997e-08</td>\n",
       "      <td>1.000000</td>\n",
       "      <td>0.002346</td>\n",
       "      <td>98.0</td>\n",
       "      <td>1.020408</td>\n",
       "      <td>434.895695</td>\n",
       "      <td>0.002346</td>\n",
       "      <td>0.22994</td>\n",
       "    </tr>\n",
       "    <tr>\n",
       "      <th>99</th>\n",
       "      <td>7.781903e-08</td>\n",
       "      <td>1.000000</td>\n",
       "      <td>0.002323</td>\n",
       "      <td>99.0</td>\n",
       "      <td>1.010101</td>\n",
       "      <td>434.895695</td>\n",
       "      <td>0.002323</td>\n",
       "      <td>0.22994</td>\n",
       "    </tr>\n",
       "    <tr>\n",
       "      <th>100</th>\n",
       "      <td>3.609823e-08</td>\n",
       "      <td>1.000000</td>\n",
       "      <td>0.002299</td>\n",
       "      <td>100.0</td>\n",
       "      <td>1.000000</td>\n",
       "      <td>434.895695</td>\n",
       "      <td>0.002299</td>\n",
       "      <td>0.22994</td>\n",
       "    </tr>\n",
       "  </tbody>\n",
       "</table>\n",
       "<p>100 rows × 8 columns</p>\n",
       "</div>"
      ],
      "text/plain": [
       "            score    recall  precision  top_percentile       lift    max_lift  \\\n",
       "1    8.294484e-04  0.990739   0.227809             1.0  99.073924  434.895695   \n",
       "2    2.303617e-04  0.995613   0.114465             2.0  49.780666  434.895695   \n",
       "3    1.217636e-04  0.997400   0.076447             3.0  33.246683  434.895695   \n",
       "4    7.033434e-05  0.998538   0.057401             4.0  24.963444  434.895695   \n",
       "5    4.246010e-05  0.999025   0.045943             5.0  19.980504  434.895695   \n",
       "..            ...       ...        ...             ...        ...         ...   \n",
       "96   1.002033e-07  1.000000   0.002395            96.0   1.041667  434.895695   \n",
       "97   9.451158e-08  1.000000   0.002371            97.0   1.030928  434.895695   \n",
       "98   8.758997e-08  1.000000   0.002346            98.0   1.020408  434.895695   \n",
       "99   7.781903e-08  1.000000   0.002323            99.0   1.010101  434.895695   \n",
       "100  3.609823e-08  1.000000   0.002299           100.0   1.000000  434.895695   \n",
       "\n",
       "     relative_lift  percent  \n",
       "1         0.227811  0.22994  \n",
       "2         0.114466  0.22994  \n",
       "3         0.076447  0.22994  \n",
       "4         0.057401  0.22994  \n",
       "5         0.045943  0.22994  \n",
       "..             ...      ...  \n",
       "96        0.002395  0.22994  \n",
       "97        0.002371  0.22994  \n",
       "98        0.002346  0.22994  \n",
       "99        0.002323  0.22994  \n",
       "100       0.002299  0.22994  \n",
       "\n",
       "[100 rows x 8 columns]"
      ]
     },
     "execution_count": 73,
     "metadata": {},
     "output_type": "execute_result"
    }
   ],
   "source": [
    "lift_metric_plot(clf, X_test, y_test)"
   ]
  },
  {
   "cell_type": "code",
   "execution_count": null,
   "metadata": {},
   "outputs": [],
   "source": []
  }
 ],
 "metadata": {
  "kernelspec": {
   "display_name": "base",
   "language": "python",
   "name": "python3"
  },
  "language_info": {
   "codemirror_mode": {
    "name": "ipython",
    "version": 3
   },
   "file_extension": ".py",
   "mimetype": "text/x-python",
   "name": "python",
   "nbconvert_exporter": "python",
   "pygments_lexer": "ipython3",
   "version": "3.11.0"
  }
 },
 "nbformat": 4,
 "nbformat_minor": 2
}
