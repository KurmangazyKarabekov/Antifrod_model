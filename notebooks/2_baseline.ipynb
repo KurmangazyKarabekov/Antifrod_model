{
 "cells": [
  {
   "cell_type": "code",
   "execution_count": 1,
   "metadata": {},
   "outputs": [],
   "source": [
    "import sys\n",
    "import os\n",
    "\n",
    "from datetime import datetime\n",
    "\n",
    "import polars as pl\n",
    "import numpy as np\n",
    "import pandas as pd\n",
    "\n",
    "import seaborn as sns\n",
    "import matplotlib.pyplot as plt\n",
    "\n",
    "from catboost import CatBoostClassifier, Pool\n",
    "from sklearn.model_selection import train_test_split\n",
    "from sklearn.metrics import classification_report, roc_auc_score, confusion_matrix\n",
    "\n",
    "src_path = os.path.abspath(os.path.join(os.getcwd(), \"..\", \"src\"))\n",
    "sys.path.append(src_path)\n",
    "from utils import lift_metric_plot\n",
    "\n",
    "import warnings\n",
    "\n",
    "warnings.filterwarnings(\"ignore\")"
   ]
  },
  {
   "cell_type": "markdown",
   "metadata": {},
   "source": [
    "# Main info\n",
    "* Our baseline solution will be based on Catboost with default parameters without selecting hyperparameters of the model"
   ]
  },
  {
   "cell_type": "code",
   "execution_count": 3,
   "metadata": {},
   "outputs": [],
   "source": [
    "pl_data = pl.read_csv(\"/Users/kurmangazykarabekov/Desktop/собесы/12Go Asia/data.csv\")"
   ]
  },
  {
   "cell_type": "code",
   "execution_count": 4,
   "metadata": {},
   "outputs": [
    {
     "data": {
      "text/plain": [
       "isFraud\n",
       "0    0.997741\n",
       "1    0.002259\n",
       "Name: proportion, dtype: float64"
      ]
     },
     "execution_count": 4,
     "metadata": {},
     "output_type": "execute_result"
    }
   ],
   "source": [
    "pl_data[\"isFraud\"].to_pandas().value_counts(normalize=True)"
   ]
  },
  {
   "cell_type": "markdown",
   "metadata": {},
   "source": [
    "**Convert date**"
   ]
  },
  {
   "cell_type": "code",
   "execution_count": 5,
   "metadata": {},
   "outputs": [],
   "source": [
    "pl_data = (\n",
    "    pl_data.with_columns(\n",
    "        pl.col(\"createdon\")\n",
    "        .str.strptime(\n",
    "            pl.Datetime,\n",
    "            format=\"%Y-%m-%d %H:%M:%S%z\",\n",
    "        )\n",
    "        .cast(pl.Datetime(\"us\", time_zone=\"UTC\"))\n",
    "    )\n",
    "    .with_columns(\n",
    "        pl.col(\"date_of_birth\")\n",
    "        .str.strptime(\n",
    "            pl.Datetime,\n",
    "            format=\"%Y-%m-%d\",\n",
    "        )\n",
    "        .cast(pl.Datetime(\"us\", time_zone=\"UTC\"))\n",
    "    )\n",
    "    .with_columns(\n",
    "        pl.col(\"godate\")\n",
    "        .str.strptime(\n",
    "            pl.Datetime,\n",
    "            format=\"%Y-%m-%d %H:%M:%S%z\",\n",
    "        )\n",
    "        .cast(pl.Datetime(\"us\", time_zone=\"UTC\"))\n",
    "    )\n",
    "    .with_columns(\n",
    "        pl.col(\"paidon\")\n",
    "        .str.strptime(pl.Datetime, format=\"%Y-%m-%d %H:%M:%S.%f%z\", strict=False)\n",
    "        .cast(pl.Datetime(\"us\", time_zone=\"UTC\"))\n",
    "    )\n",
    ")"
   ]
  },
  {
   "cell_type": "code",
   "execution_count": 6,
   "metadata": {},
   "outputs": [],
   "source": [
    "pl_data = pl_data.sort(\"createdon\", descending=False)"
   ]
  },
  {
   "cell_type": "code",
   "execution_count": 7,
   "metadata": {},
   "outputs": [],
   "source": [
    "pl_data = pl_data.with_columns(\n",
    "    pl.col(\"channel\").fill_null(\"unknown\"),\n",
    "    pl.col(\"cust_name\").fill_null(\"unknown\"),\n",
    "    pl.col(\"nationality\").fill_null(\"unknown\"),\n",
    "    pl.col(\"payer_country\").fill_null(\"unknown\"),\n",
    "    pl.col(\"proxy\").fill_null(0.0),\n",
    "    pl.col(\"tor\").fill_null(0.0),\n",
    "    pl.col(\"vpn\").fill_null(0.0),\n",
    "    pl.col(\"recent_abuse\").fill_null(0.0),\n",
    ")"
   ]
  },
  {
   "cell_type": "code",
   "execution_count": 8,
   "metadata": {},
   "outputs": [
    {
     "name": "stdout",
     "output_type": "stream",
     "text": [
      "Min data of booking 2021-04-30 17:21:17+00:00\n",
      "Max data of booking 2023-11-30 16:59:52+00:00\n"
     ]
    }
   ],
   "source": [
    "print(f\"Min data of booking {pl_data['createdon'].min()}\")\n",
    "print(f\"Max data of booking {pl_data['createdon'].max()}\")"
   ]
  },
  {
   "cell_type": "code",
   "execution_count": 9,
   "metadata": {},
   "outputs": [],
   "source": [
    "date_split_utc = pl.datetime(2023, 10, 26, 0, 0, 0).cast(\n",
    "    pl.Datetime(\"us\", time_zone=\"UTC\")\n",
    ")"
   ]
  },
  {
   "cell_type": "code",
   "execution_count": 10,
   "metadata": {},
   "outputs": [
    {
     "data": {
      "text/plain": [
       "isFraud\n",
       "0    0.997745\n",
       "1    0.002255\n",
       "Name: proportion, dtype: float64"
      ]
     },
     "execution_count": 10,
     "metadata": {},
     "output_type": "execute_result"
    }
   ],
   "source": [
    "pl_data.filter(pl.col(\"createdon\") < date_split_utc)[\n",
    "    \"isFraud\"\n",
    "].to_pandas().value_counts(normalize=True)"
   ]
  },
  {
   "cell_type": "code",
   "execution_count": 11,
   "metadata": {},
   "outputs": [
    {
     "data": {
      "text/plain": [
       "isFraud\n",
       "0    0.997713\n",
       "1    0.002287\n",
       "Name: proportion, dtype: float64"
      ]
     },
     "execution_count": 11,
     "metadata": {},
     "output_type": "execute_result"
    }
   ],
   "source": [
    "pl_data.filter(pl.col(\"createdon\") >= date_split_utc)[\n",
    "    \"isFraud\"\n",
    "].to_pandas().value_counts(normalize=True)"
   ]
  },
  {
   "cell_type": "code",
   "execution_count": 12,
   "metadata": {},
   "outputs": [],
   "source": [
    "train_data = pl_data.filter(pl.col(\"createdon\") < date_split_utc)\n",
    "test_data = pl_data.filter(pl.col(\"createdon\") >= date_split_utc)"
   ]
  },
  {
   "cell_type": "code",
   "execution_count": 13,
   "metadata": {},
   "outputs": [],
   "source": [
    "X_train = train_data.drop(\n",
    "    [\n",
    "        \"isFraud\",\n",
    "        \"bid\",\n",
    "        \"cust_name\",\n",
    "        \"date_of_birth\",\n",
    "        \"email\",\n",
    "        \"godate\",\n",
    "        \"ip\",\n",
    "        \"paidon\",\n",
    "        \"payer_name\",\n",
    "        \"useragent\",\n",
    "        \"usr_name\",\n",
    "        \"createdon\",]\n",
    ").to_pandas()\n",
    "y_train = train_data[\"isFraud\"].to_pandas()\n",
    "\n",
    "X_test = test_data.drop(\n",
    "    [\n",
    "        \"isFraud\",\n",
    "        \"bid\",\n",
    "        \"cust_name\",\n",
    "        \"date_of_birth\",\n",
    "        \"email\",\n",
    "        \"godate\",\n",
    "        \"ip\",\n",
    "        \"paidon\",\n",
    "        \"payer_name\",\n",
    "        \"useragent\",\n",
    "        \"usr_name\",\n",
    "        \"createdon\",\n",
    "    ]\n",
    ").to_pandas()\n",
    "y_test = test_data[\"isFraud\"].to_pandas()"
   ]
  },
  {
   "cell_type": "code",
   "execution_count": 14,
   "metadata": {},
   "outputs": [],
   "source": [
    "cat_features = [\"channel\", \"nationality\", \"payer_country\", \"role_id\", \"vehclass_id\"]"
   ]
  },
  {
   "cell_type": "code",
   "execution_count": 16,
   "metadata": {},
   "outputs": [
    {
     "data": {
      "application/vnd.jupyter.widget-view+json": {
       "model_id": "5a617c93643a49d2a40362d2ea9657c0",
       "version_major": 2,
       "version_minor": 0
      },
      "text/plain": [
       "MetricVisualizer(layout=Layout(align_self='stretch', height='500px'))"
      ]
     },
     "metadata": {},
     "output_type": "display_data"
    },
    {
     "name": "stdout",
     "output_type": "stream",
     "text": [
      "Learning rate set to 0.229368\n",
      "0:\tlearn: 0.2111932\ttest: 0.1906107\tbest: 0.1906107 (0)\ttotal: 3.65s\tremaining: 1h 46s\n",
      "Stopped by overfitting detector  (50 iterations wait)\n",
      "\n",
      "bestTest = 0.01461966396\n",
      "bestIteration = 9\n",
      "\n",
      "Shrink model to first 10 iterations.\n"
     ]
    },
    {
     "data": {
      "text/plain": [
       "<catboost.core.CatBoostClassifier at 0x3084c8310>"
      ]
     },
     "execution_count": 16,
     "metadata": {},
     "output_type": "execute_result"
    }
   ],
   "source": [
    "clf = CatBoostClassifier(\n",
    "    iterations=1000,\n",
    "    thread_count=-1,\n",
    "    random_seed=42,\n",
    "    cat_features=cat_features\n",
    "    )\n",
    "\n",
    "clf.fit(\n",
    "    X_train,\n",
    "    y_train,\n",
    "    eval_set=(X_test, y_test),\n",
    "    verbose=100,\n",
    "    use_best_model=True,\n",
    "    early_stopping_rounds=50,\n",
    "    plot=True,\n",
    ")"
   ]
  },
  {
   "cell_type": "code",
   "execution_count": 28,
   "metadata": {},
   "outputs": [
    {
     "data": {
      "text/plain": [
       "{'random_seed': 42,\n",
       " 'od_wait': 50,\n",
       " 'od_type': 'Iter',\n",
       " 'use_best_model': True,\n",
       " 'verbose': 100,\n",
       " 'loss_function': 'Logloss',\n",
       " 'iterations': 1000,\n",
       " 'cat_features': ['channel',\n",
       "  'nationality',\n",
       "  'payer_country',\n",
       "  'role_id',\n",
       "  'vehclass_id']}"
      ]
     },
     "execution_count": 28,
     "metadata": {},
     "output_type": "execute_result"
    }
   ],
   "source": [
    "clf._get_params()"
   ]
  },
  {
   "cell_type": "code",
   "execution_count": 26,
   "metadata": {},
   "outputs": [],
   "source": [
    "y_pred = clf.predict(X_test)\n",
    "y_pred_proba = clf.predict_proba(X_test)[:, 1]"
   ]
  },
  {
   "cell_type": "code",
   "execution_count": 18,
   "metadata": {},
   "outputs": [
    {
     "name": "stdout",
     "output_type": "stream",
     "text": [
      "Classification Report:\n",
      "              precision    recall  f1-score   support\n",
      "\n",
      "           0       1.00      1.00      1.00    441458\n",
      "           1       0.00      0.00      0.00      1012\n",
      "\n",
      "    accuracy                           1.00    442470\n",
      "   macro avg       0.50      0.50      0.50    442470\n",
      "weighted avg       1.00      1.00      1.00    442470\n",
      "\n"
     ]
    }
   ],
   "source": [
    "print(\"Classification Report:\")\n",
    "print(classification_report(y_test, y_pred))"
   ]
  },
  {
   "cell_type": "code",
   "execution_count": 19,
   "metadata": {},
   "outputs": [
    {
     "name": "stdout",
     "output_type": "stream",
     "text": [
      "\n",
      "ROC-AUC Score: 0.7146\n"
     ]
    }
   ],
   "source": [
    "roc_auc = roc_auc_score(y_test, y_pred_proba)\n",
    "print(f\"\\nROC-AUC Score: {roc_auc:.4f}\")"
   ]
  },
  {
   "cell_type": "code",
   "execution_count": 20,
   "metadata": {},
   "outputs": [
    {
     "data": {
      "image/png": "[encoded data removed]",
      "text/plain": [
       "<Figure size 640x480 with 1 Axes>"
      ]
     },
     "metadata": {},
     "output_type": "display_data"
    }
   ],
   "source": [
    "sns.histplot(y_pred_proba,bins=10)\n",
    "plt.show()"
   ]
  },
  {
   "cell_type": "code",
   "execution_count": 21,
   "metadata": {},
   "outputs": [
    {
     "data": {
      "text/html": [
       "<div>\n",
       "<style scoped>\n",
       "    .dataframe tbody tr th:only-of-type {\n",
       "        vertical-align: middle;\n",
       "    }\n",
       "\n",
       "    .dataframe tbody tr th {\n",
       "        vertical-align: top;\n",
       "    }\n",
       "\n",
       "    .dataframe thead th {\n",
       "        text-align: right;\n",
       "    }\n",
       "</style>\n",
       "<table border=\"1\" class=\"dataframe\">\n",
       "  <thead>\n",
       "    <tr style=\"text-align: right;\">\n",
       "      <th></th>\n",
       "      <th>Feature Id</th>\n",
       "      <th>Importances</th>\n",
       "    </tr>\n",
       "  </thead>\n",
       "  <tbody>\n",
       "    <tr>\n",
       "      <th>0</th>\n",
       "      <td>email_score</td>\n",
       "      <td>37.569099</td>\n",
       "    </tr>\n",
       "    <tr>\n",
       "      <th>1</th>\n",
       "      <td>netprice_thb</td>\n",
       "      <td>13.915666</td>\n",
       "    </tr>\n",
       "    <tr>\n",
       "      <th>2</th>\n",
       "      <td>vpn</td>\n",
       "      <td>13.101580</td>\n",
       "    </tr>\n",
       "    <tr>\n",
       "      <th>3</th>\n",
       "      <td>p_attempts</td>\n",
       "      <td>7.957480</td>\n",
       "    </tr>\n",
       "    <tr>\n",
       "      <th>4</th>\n",
       "      <td>payer_country</td>\n",
       "      <td>6.483127</td>\n",
       "    </tr>\n",
       "    <tr>\n",
       "      <th>5</th>\n",
       "      <td>role_id</td>\n",
       "      <td>4.915473</td>\n",
       "    </tr>\n",
       "    <tr>\n",
       "      <th>6</th>\n",
       "      <td>insurance_flg</td>\n",
       "      <td>3.372299</td>\n",
       "    </tr>\n",
       "    <tr>\n",
       "      <th>7</th>\n",
       "      <td>seats</td>\n",
       "      <td>2.953080</td>\n",
       "    </tr>\n",
       "    <tr>\n",
       "      <th>8</th>\n",
       "      <td>vehclass_id</td>\n",
       "      <td>2.746553</td>\n",
       "    </tr>\n",
       "    <tr>\n",
       "      <th>9</th>\n",
       "      <td>nationality</td>\n",
       "      <td>1.998562</td>\n",
       "    </tr>\n",
       "    <tr>\n",
       "      <th>10</th>\n",
       "      <td>proxy</td>\n",
       "      <td>1.764119</td>\n",
       "    </tr>\n",
       "    <tr>\n",
       "      <th>11</th>\n",
       "      <td>channel</td>\n",
       "      <td>1.246693</td>\n",
       "    </tr>\n",
       "    <tr>\n",
       "      <th>12</th>\n",
       "      <td>recent_abuse</td>\n",
       "      <td>1.178787</td>\n",
       "    </tr>\n",
       "    <tr>\n",
       "      <th>13</th>\n",
       "      <td>passenger_score</td>\n",
       "      <td>0.569506</td>\n",
       "    </tr>\n",
       "    <tr>\n",
       "      <th>14</th>\n",
       "      <td>passenger_passport_score</td>\n",
       "      <td>0.223729</td>\n",
       "    </tr>\n",
       "    <tr>\n",
       "      <th>15</th>\n",
       "      <td>email_domain_score</td>\n",
       "      <td>0.004248</td>\n",
       "    </tr>\n",
       "    <tr>\n",
       "      <th>16</th>\n",
       "      <td>tor</td>\n",
       "      <td>0.000000</td>\n",
       "    </tr>\n",
       "  </tbody>\n",
       "</table>\n",
       "</div>"
      ],
      "text/plain": [
       "                  Feature Id  Importances\n",
       "0                email_score    37.569099\n",
       "1               netprice_thb    13.915666\n",
       "2                        vpn    13.101580\n",
       "3                 p_attempts     7.957480\n",
       "4              payer_country     6.483127\n",
       "5                    role_id     4.915473\n",
       "6              insurance_flg     3.372299\n",
       "7                      seats     2.953080\n",
       "8                vehclass_id     2.746553\n",
       "9                nationality     1.998562\n",
       "10                     proxy     1.764119\n",
       "11                   channel     1.246693\n",
       "12              recent_abuse     1.178787\n",
       "13           passenger_score     0.569506\n",
       "14  passenger_passport_score     0.223729\n",
       "15        email_domain_score     0.004248\n",
       "16                       tor     0.000000"
      ]
     },
     "execution_count": 21,
     "metadata": {},
     "output_type": "execute_result"
    }
   ],
   "source": [
    "clf.get_feature_importance(prettified=True)"
   ]
  },
  {
   "cell_type": "code",
   "execution_count": 22,
   "metadata": {},
   "outputs": [],
   "source": [
    "def lift_metric_plot(model, X_test, y_test):\n",
    "    all_pred = pd.DataFrame()\n",
    "    all_pred[\"prob\"] = model.predict_proba(X_test)[:, 1]\n",
    "    all_pred[\"true\"] = y_test.values\n",
    "    import matplotlib.pyplot as plt\n",
    "    import numpy as np\n",
    "    from sklearn.metrics import precision_score\n",
    "    from sklearn.metrics import recall_score\n",
    "    from sklearn.metrics import f1_score\n",
    "    from sklearn.metrics import accuracy_score\n",
    "\n",
    "    y_true = all_pred[\"true\"]\n",
    "    recall = []\n",
    "    precision = []\n",
    "    score = []\n",
    "    f_score = []\n",
    "\n",
    "    aa = -np.sort(\n",
    "        -all_pred[\"prob\"].describe(percentiles=np.linspace(0, 1, 101))[4:105].values\n",
    "    )\n",
    "    for i in range(0, len(aa)):\n",
    "        f = lambda x: 1 if x >= aa[i] else 0\n",
    "        score.append(aa[i])\n",
    "        y_pred = all_pred[\"prob\"].map(f)\n",
    "        g = recall_score(y_true, y_pred, average=\"binary\")\n",
    "        recall.append(g)\n",
    "        p = precision_score(y_true, y_pred, average=\"binary\")\n",
    "        precision.append(p)\n",
    "        t = f1_score(y_true, y_pred, average=\"binary\")\n",
    "        f_score.append(t)\n",
    "\n",
    "    temp = pd.DataFrame()\n",
    "    temp[\"score\"] = score\n",
    "    temp[\"recall\"] = recall\n",
    "    temp[\"precision\"] = precision\n",
    "    temp[\"top_percentile\"] = np.round(list(np.linspace(0, 100, 101))).tolist()\n",
    "\n",
    "    temp[\"lift\"] = temp[\"recall\"] / (temp[\"top_percentile\"] / 100.0)\n",
    "    temp[\"max_lift\"] = 1 / (y_test.sum() / len(y_test))\n",
    "    temp[\"relative_lift\"] = temp[\"lift\"] / temp[\"max_lift\"]\n",
    "\n",
    "    temp[\"percent\"] = 100 * (y_test.sum() / len(y_test))\n",
    "    plt.figure()\n",
    "    plt.plot(temp[1:][\"top_percentile\"], temp[1:][\"lift\"])\n",
    "    plt.xlabel(\"Percentile\")\n",
    "    plt.ylabel(\"LIFT\")\n",
    "    plt.scatter(\n",
    "        1,\n",
    "        temp[temp[\"top_percentile\"] == 1][\"lift\"][1],\n",
    "        marker=\"o\",\n",
    "        s=30,\n",
    "        zorder=10,\n",
    "        color=\"b\",\n",
    "    )\n",
    "    plt.text(\n",
    "        1,\n",
    "        temp[temp[\"top_percentile\"] == 1][\"lift\"][1],\n",
    "        \"      top 1 : {}\".format(\n",
    "            np.round(temp[temp[\"top_percentile\"] == 1][\"lift\"][1], 3)\n",
    "        ),\n",
    "        fontsize=10,\n",
    "    )\n",
    "    plt.scatter(\n",
    "        10,\n",
    "        temp[temp[\"top_percentile\"] == 10][\"lift\"][10],\n",
    "        marker=\"o\",\n",
    "        s=30,\n",
    "        zorder=10,\n",
    "        color=\"b\",\n",
    "    )\n",
    "    plt.text(\n",
    "        10,\n",
    "        temp[temp[\"top_percentile\"] == 10][\"lift\"][10],\n",
    "        \"      top 10 : {}\".format(\n",
    "            np.round(temp[temp[\"top_percentile\"] == 10][\"lift\"][10], 3)\n",
    "        ),\n",
    "        fontsize=10,\n",
    "    )\n",
    "    plt.title(\"Lift-chart\")\n",
    "    plt.figure()\n",
    "    plt.plot(temp[1:][\"top_percentile\"], temp[1:][\"relative_lift\"])\n",
    "    plt.xlabel(\"Percentile\")\n",
    "    plt.ylabel(\"Relative_lift\")\n",
    "    plt.scatter(\n",
    "        1,\n",
    "        temp[temp[\"top_percentile\"] == 1][\"relative_lift\"][1],\n",
    "        marker=\"o\",\n",
    "        s=30,\n",
    "        zorder=10,\n",
    "        color=\"b\",\n",
    "    )\n",
    "    plt.text(\n",
    "        1,\n",
    "        temp[temp[\"top_percentile\"] == 1][\"relative_lift\"][1],\n",
    "        \"      top 1 : {}\".format(\n",
    "            np.round(temp[temp[\"top_percentile\"] == 1][\"relative_lift\"][1], 3)\n",
    "        ),\n",
    "        fontsize=10,\n",
    "    )\n",
    "    plt.scatter(\n",
    "        10,\n",
    "        temp[temp[\"top_percentile\"] == 10][\"relative_lift\"][10],\n",
    "        marker=\"o\",\n",
    "        s=30,\n",
    "        zorder=10,\n",
    "        color=\"b\",\n",
    "    )\n",
    "    plt.text(\n",
    "        10,\n",
    "        temp[temp[\"top_percentile\"] == 10][\"relative_lift\"][10],\n",
    "        \"      top 10 : {}\".format(\n",
    "            np.round(temp[temp[\"top_percentile\"] == 10][\"relative_lift\"][10], 3)\n",
    "        ),\n",
    "        fontsize=10,\n",
    "    )\n",
    "    plt.title(\"Relative-lift-chart\")\n",
    "    plt.figure()\n",
    "    plt.plot(temp[1:][\"top_percentile\"], temp[1:][\"recall\"])\n",
    "    plt.xlabel(\"Percentile\")\n",
    "    plt.ylabel(\"GAIN\")\n",
    "    plt.scatter(\n",
    "        10,\n",
    "        temp[temp[\"top_percentile\"] == 10][\"recall\"][10],\n",
    "        marker=\"o\",\n",
    "        s=30,\n",
    "        zorder=10,\n",
    "        color=\"b\",\n",
    "    )\n",
    "    plt.text(\n",
    "        10,\n",
    "        temp[temp[\"top_percentile\"] == 10][\"recall\"][10],\n",
    "        \"      top 10 : {}\".format(\n",
    "            np.round(temp[temp[\"top_percentile\"] == 10][\"recall\"][10], 3)\n",
    "        ),\n",
    "        fontsize=10,\n",
    "    )\n",
    "    plt.scatter(\n",
    "        40,\n",
    "        temp[temp[\"top_percentile\"] == 40][\"recall\"][40],\n",
    "        marker=\"o\",\n",
    "        s=30,\n",
    "        zorder=10,\n",
    "        color=\"b\",\n",
    "    )\n",
    "    plt.text(\n",
    "        40,\n",
    "        temp[temp[\"top_percentile\"] == 40][\"recall\"][40],\n",
    "        \"      top 40 : {}\".format(\n",
    "            np.round(temp[temp[\"top_percentile\"] == 40][\"recall\"][40], 3)\n",
    "        ),\n",
    "        fontsize=10,\n",
    "    )\n",
    "    plt.title(\"Gain-chart\")\n",
    "    from sklearn.metrics import roc_curve, auc\n",
    "\n",
    "    fpr, tpr, thresholds = roc_curve(y_test.values, model.predict_proba(X_test)[:, 1])\n",
    "    roc_auc = auc(fpr, tpr)\n",
    "\n",
    "    plt.figure()\n",
    "    plt.plot(\n",
    "        fpr, tpr, color=\"darkorange\", lw=1, label=\"ROC curve (area = %0.2f)\" % roc_auc\n",
    "    )\n",
    "    plt.plot([0, 1], [0, 1], color=\"navy\", lw=1, linestyle=\"--\")\n",
    "    plt.xlim([0.0, 1.0])\n",
    "    plt.ylim([0.0, 1.05])\n",
    "    plt.xlabel(\"False Positive Rate\")\n",
    "    plt.ylabel(\"True Positive Rate\")\n",
    "    plt.title(\"Receiver operating characteristic (ROC)\")\n",
    "    plt.legend(loc=\"lower right\")\n",
    "    plt.show()\n",
    "    print(temp[1:].head(10))\n",
    "    return temp[1:]"
   ]
  },
  {
   "cell_type": "code",
   "execution_count": 23,
   "metadata": {},
   "outputs": [
    {
     "data": {
      "image/png": "[encoded data removed]",
      "text/plain": [
       "<Figure size 640x480 with 1 Axes>"
      ]
     },
     "metadata": {},
     "output_type": "display_data"
    },
    {
     "data": {
      "image/png": "[encoded data removed]",
      "text/plain": [
       "<Figure size 640x480 with 1 Axes>"
      ]
     },
     "metadata": {},
     "output_type": "display_data"
    },
    {
     "data": {
      "image/png": "[encoded data removed]",
      "text/plain": [
       "<Figure size 640x480 with 1 Axes>"
      ]
     },
     "metadata": {},
     "output_type": "display_data"
    },
    {
     "data": {
      "image/png": "[encoded data removed]",
      "text/plain": [
       "<Figure size 640x480 with 1 Axes>"
      ]
     },
     "metadata": {},
     "output_type": "display_data"
    },
    {
     "name": "stdout",
     "output_type": "stream",
     "text": [
      "       score    recall  precision  top_percentile       lift   max_lift  \\\n",
      "1   0.005273  0.262846   0.059910             1.0  26.284585  437.22332   \n",
      "2   0.003598  0.320158   0.036594             2.0  16.007905  437.22332   \n",
      "3   0.003231  0.369565   0.027875             3.0  12.318841  437.22332   \n",
      "4   0.002923  0.388340   0.022195             4.0   9.708498  437.22332   \n",
      "5   0.002723  0.416008   0.018941             5.0   8.320158  437.22332   \n",
      "6   0.002615  0.428854   0.016327             6.0   7.147563  437.22332   \n",
      "7   0.002410  0.444664   0.014508             7.0   6.352343  437.22332   \n",
      "8   0.002210  0.472332   0.013444             8.0   5.904150  437.22332   \n",
      "9   0.002122  0.486166   0.012310             9.0   5.401845  437.22332   \n",
      "10  0.002025  0.498024   0.011262            10.0   4.980237  437.22332   \n",
      "\n",
      "    relative_lift   percent  \n",
      "1        0.060117  0.228716  \n",
      "2        0.036613  0.228716  \n",
      "3        0.028175  0.228716  \n",
      "4        0.022205  0.228716  \n",
      "5        0.019030  0.228716  \n",
      "6        0.016348  0.228716  \n",
      "7        0.014529  0.228716  \n",
      "8        0.013504  0.228716  \n",
      "9        0.012355  0.228716  \n",
      "10       0.011391  0.228716  \n"
     ]
    },
    {
     "data": {
      "text/html": [
       "<div>\n",
       "<style scoped>\n",
       "    .dataframe tbody tr th:only-of-type {\n",
       "        vertical-align: middle;\n",
       "    }\n",
       "\n",
       "    .dataframe tbody tr th {\n",
       "        vertical-align: top;\n",
       "    }\n",
       "\n",
       "    .dataframe thead th {\n",
       "        text-align: right;\n",
       "    }\n",
       "</style>\n",
       "<table border=\"1\" class=\"dataframe\">\n",
       "  <thead>\n",
       "    <tr style=\"text-align: right;\">\n",
       "      <th></th>\n",
       "      <th>score</th>\n",
       "      <th>recall</th>\n",
       "      <th>precision</th>\n",
       "      <th>top_percentile</th>\n",
       "      <th>lift</th>\n",
       "      <th>max_lift</th>\n",
       "      <th>relative_lift</th>\n",
       "      <th>percent</th>\n",
       "    </tr>\n",
       "  </thead>\n",
       "  <tbody>\n",
       "    <tr>\n",
       "      <th>1</th>\n",
       "      <td>0.005273</td>\n",
       "      <td>0.262846</td>\n",
       "      <td>0.059910</td>\n",
       "      <td>1.0</td>\n",
       "      <td>26.284585</td>\n",
       "      <td>437.22332</td>\n",
       "      <td>0.060117</td>\n",
       "      <td>0.228716</td>\n",
       "    </tr>\n",
       "    <tr>\n",
       "      <th>2</th>\n",
       "      <td>0.003598</td>\n",
       "      <td>0.320158</td>\n",
       "      <td>0.036594</td>\n",
       "      <td>2.0</td>\n",
       "      <td>16.007905</td>\n",
       "      <td>437.22332</td>\n",
       "      <td>0.036613</td>\n",
       "      <td>0.228716</td>\n",
       "    </tr>\n",
       "    <tr>\n",
       "      <th>3</th>\n",
       "      <td>0.003231</td>\n",
       "      <td>0.369565</td>\n",
       "      <td>0.027875</td>\n",
       "      <td>3.0</td>\n",
       "      <td>12.318841</td>\n",
       "      <td>437.22332</td>\n",
       "      <td>0.028175</td>\n",
       "      <td>0.228716</td>\n",
       "    </tr>\n",
       "    <tr>\n",
       "      <th>4</th>\n",
       "      <td>0.002923</td>\n",
       "      <td>0.388340</td>\n",
       "      <td>0.022195</td>\n",
       "      <td>4.0</td>\n",
       "      <td>9.708498</td>\n",
       "      <td>437.22332</td>\n",
       "      <td>0.022205</td>\n",
       "      <td>0.228716</td>\n",
       "    </tr>\n",
       "    <tr>\n",
       "      <th>5</th>\n",
       "      <td>0.002723</td>\n",
       "      <td>0.416008</td>\n",
       "      <td>0.018941</td>\n",
       "      <td>5.0</td>\n",
       "      <td>8.320158</td>\n",
       "      <td>437.22332</td>\n",
       "      <td>0.019030</td>\n",
       "      <td>0.228716</td>\n",
       "    </tr>\n",
       "    <tr>\n",
       "      <th>...</th>\n",
       "      <td>...</td>\n",
       "      <td>...</td>\n",
       "      <td>...</td>\n",
       "      <td>...</td>\n",
       "      <td>...</td>\n",
       "      <td>...</td>\n",
       "      <td>...</td>\n",
       "      <td>...</td>\n",
       "    </tr>\n",
       "    <tr>\n",
       "      <th>96</th>\n",
       "      <td>0.000964</td>\n",
       "      <td>0.947628</td>\n",
       "      <td>0.002238</td>\n",
       "      <td>96.0</td>\n",
       "      <td>0.987113</td>\n",
       "      <td>437.22332</td>\n",
       "      <td>0.002258</td>\n",
       "      <td>0.228716</td>\n",
       "    </tr>\n",
       "    <tr>\n",
       "      <th>97</th>\n",
       "      <td>0.000949</td>\n",
       "      <td>0.947628</td>\n",
       "      <td>0.002233</td>\n",
       "      <td>97.0</td>\n",
       "      <td>0.976937</td>\n",
       "      <td>437.22332</td>\n",
       "      <td>0.002234</td>\n",
       "      <td>0.228716</td>\n",
       "    </tr>\n",
       "    <tr>\n",
       "      <th>98</th>\n",
       "      <td>0.000931</td>\n",
       "      <td>0.954545</td>\n",
       "      <td>0.002228</td>\n",
       "      <td>98.0</td>\n",
       "      <td>0.974026</td>\n",
       "      <td>437.22332</td>\n",
       "      <td>0.002228</td>\n",
       "      <td>0.228716</td>\n",
       "    </tr>\n",
       "    <tr>\n",
       "      <th>99</th>\n",
       "      <td>0.000928</td>\n",
       "      <td>0.956522</td>\n",
       "      <td>0.002205</td>\n",
       "      <td>99.0</td>\n",
       "      <td>0.966184</td>\n",
       "      <td>437.22332</td>\n",
       "      <td>0.002210</td>\n",
       "      <td>0.228716</td>\n",
       "    </tr>\n",
       "    <tr>\n",
       "      <th>100</th>\n",
       "      <td>0.000046</td>\n",
       "      <td>1.000000</td>\n",
       "      <td>0.002287</td>\n",
       "      <td>100.0</td>\n",
       "      <td>1.000000</td>\n",
       "      <td>437.22332</td>\n",
       "      <td>0.002287</td>\n",
       "      <td>0.228716</td>\n",
       "    </tr>\n",
       "  </tbody>\n",
       "</table>\n",
       "<p>100 rows × 8 columns</p>\n",
       "</div>"
      ],
      "text/plain": [
       "        score    recall  precision  top_percentile       lift   max_lift  \\\n",
       "1    0.005273  0.262846   0.059910             1.0  26.284585  437.22332   \n",
       "2    0.003598  0.320158   0.036594             2.0  16.007905  437.22332   \n",
       "3    0.003231  0.369565   0.027875             3.0  12.318841  437.22332   \n",
       "4    0.002923  0.388340   0.022195             4.0   9.708498  437.22332   \n",
       "5    0.002723  0.416008   0.018941             5.0   8.320158  437.22332   \n",
       "..        ...       ...        ...             ...        ...        ...   \n",
       "96   0.000964  0.947628   0.002238            96.0   0.987113  437.22332   \n",
       "97   0.000949  0.947628   0.002233            97.0   0.976937  437.22332   \n",
       "98   0.000931  0.954545   0.002228            98.0   0.974026  437.22332   \n",
       "99   0.000928  0.956522   0.002205            99.0   0.966184  437.22332   \n",
       "100  0.000046  1.000000   0.002287           100.0   1.000000  437.22332   \n",
       "\n",
       "     relative_lift   percent  \n",
       "1         0.060117  0.228716  \n",
       "2         0.036613  0.228716  \n",
       "3         0.028175  0.228716  \n",
       "4         0.022205  0.228716  \n",
       "5         0.019030  0.228716  \n",
       "..             ...       ...  \n",
       "96        0.002258  0.228716  \n",
       "97        0.002234  0.228716  \n",
       "98        0.002228  0.228716  \n",
       "99        0.002210  0.228716  \n",
       "100       0.002287  0.228716  \n",
       "\n",
       "[100 rows x 8 columns]"
      ]
     },
     "execution_count": 23,
     "metadata": {},
     "output_type": "execute_result"
    }
   ],
   "source": [
    "lift_metric_plot(clf, X_test, y_test)"
   ]
  },
  {
   "cell_type": "markdown",
   "metadata": {},
   "source": [
    "## Analysis of the results of the basic Isolation Forest model\n",
    "\n",
    "###1. Classification metrics:\n",
    "- **Accuracy**: 1.00 - high overall accuracy, but this is due to class imbalance\n",
    "- **Precision for Class 0**: 1.00 (normal transactions)\n",
    "- **Precision for Class 1**: 0.00 (fraudulent transactions)\n",
    "- **Recall for Class 1**: 0.00 - the model did not detect any fraudulent transactions\n",
    "- **F1-score for Class 1**: 0.00\n",
    "\n",
    "### 2. ROC-AUC analysis:\n",
    "- ROC-AUC score: 0.71\n",
    "- The ROC curve is above the random classifier (diagonal line)\n",
    "- Shows a moderate ability of the model to distinguish classes\n",
    "- There is a potential for improvement, as the value is not very high\n",
    "\n",
    "### 3. Threshold Analysis (Top Percentages):\n",
    "- At a threshold of 1%:\n",
    "* Recall: 0.262\n",
    "* Precision: 0.059\n",
    "* Lift: 26.28\n",
    "- At a threshold of 5%:\n",
    "* Recall: 0.416\n",
    "* Precision: 0.019\n",
    "* Lift: 8.32\n",
    "\n",
    "### Conclusions:\n",
    "1. **Problems of the model**:\n",
    "- The model is strongly biased towards the majority class\n",
    "- Zero recall for fraudulent transactions\n",
    "- Requires significant refinement\n",
    "\n",
    "2. **Areas of improvement**:\n",
    "- Balancing of classes is necessary\n",
    "- The contamination parameter needs to be configured\n",
    "- It is possible to add feature engineering\n",
    "- Consider other algorithms or ensembles\n",
    "\n",
    "3. **Positive aspects**:\n",
    "- ROC-AUC 0.71 shows that the model has potential\n",
    "- A high lift in the upper percentiles indicates the model's ability to rank transactions by risk"
   ]
  },
  {
   "cell_type": "markdown",
   "metadata": {},
   "source": []
  }
 ],
 "metadata": {
  "kernelspec": {
   "display_name": "base",
   "language": "python",
   "name": "python3"
  },
  "language_info": {
   "codemirror_mode": {
    "name": "ipython",
    "version": 3
   },
   "file_extension": ".py",
   "mimetype": "text/x-python",
   "name": "python",
   "nbconvert_exporter": "python",
   "pygments_lexer": "ipython3",
   "version": "3.11.0"
  }
 },
 "nbformat": 4,
 "nbformat_minor": 2
}
